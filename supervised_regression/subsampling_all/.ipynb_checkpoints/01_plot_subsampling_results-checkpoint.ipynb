{
 "cells": [
  {
   "cell_type": "markdown",
   "id": "ad8cfdec-91cf-4c24-bf91-cd66ad4dcf2f",
   "metadata": {},
   "source": [
    "# script to plot all the subsampled regression together\n",
    "- used the enclosed HPC scripts to run subsampling"
   ]
  },
  {
   "cell_type": "code",
   "execution_count": 3,
   "id": "25d6ce66-7f2b-4c46-9a31-173c916e276b",
   "metadata": {},
   "outputs": [],
   "source": [
    "import numpy as np\n",
    "import tensorflow as tf\n",
    "import matplotlib.pyplot as plt\n",
    "import pandas as pd\n",
    "import matplotlib\n",
    "\n",
    "import sys\n",
    "from os import listdir\n",
    "sys.path.append('../../src/')\n",
    "\n",
    "import importlib\n",
    "import dataTools as dt\n",
    "importlib.reload(dt)\n",
    "import regressionTools as rt\n",
    "importlib.reload(rt)\n",
    "\n",
    "from regressionTools import log_layer, log_layer_scale_shift"
   ]
  },
  {
   "cell_type": "code",
   "execution_count": 11,
   "id": "9e3ac14f-2eba-443d-87df-39ef1036bc47",
   "metadata": {},
   "outputs": [],
   "source": [
    "din = '../../data/subsampling/results/'\n",
    "dout = '../../data/out/'\n",
    "\n",
    "subs_f = [ 'subsampling_aav.csv',  \n",
    "            'subsampling_gb1.csv',\n",
    "            'subsampling_pabp.csv',\n",
    "            'subsampling_gfp.csv',\n",
    "            'subsampling_grb2.csv',\n",
    "            'subsampling_at_3p.csv',\n",
    "            'subsampling_at_10p.csv',\n",
    "             ]"
   ]
  },
  {
   "cell_type": "code",
   "execution_count": 12,
   "id": "38100291-4983-4561-a928-c3fdb5b04d47",
   "metadata": {},
   "outputs": [
    {
     "data": {
      "image/png": "[encoded data removed]",
      "text/plain": [
       "<Figure size 300x250 with 1 Axes>"
      ]
     },
     "metadata": {},
     "output_type": "display_data"
    }
   ],
   "source": [
    "\n",
    "cmap = matplotlib.cm.get_cmap('Set3')#'Pastel1')#'tab10')\n",
    "tot_n_plot = len(subs_f) +2 # to add 2 TA colors in\n",
    "rgbas = [cmap(v/tot_n_plot) for v in range(tot_n_plot)]\n",
    "\n",
    "discrete_cols = {\n",
    "    \"blue\"   : \"#00798c\",\n",
    "    \"red\"    : \"#d1495b\",\n",
    "    \"yellow\" : \"#edae49\",\n",
    "    \"green\"  : \"#66a182\",\n",
    "    \"navy\"   : \"#2e4057\",\n",
    "    \"grey\"   : \"#8d96a3\", \n",
    "    'black' : 'black'}\n",
    "\n",
    "rgbas = list(discrete_cols.values())\n",
    "\n",
    "\n",
    "plt.figure(figsize=(3,2.5))\n",
    "\n",
    "l_alpha = 0.7\n",
    "l_w = 1\n",
    "l_ms = 1.5\n",
    "\n",
    "x_plot_n = 'fold_data'\n",
    "\n",
    "#plotting all the subsampling run on colab\n",
    "for i,f in enumerate(subs_f):\n",
    "    prot_n = f[len('subsampling_'):-4]\n",
    "    df_subs = pd.read_csv(din + f, header=None, delimiter = '\\t')\n",
    "    df_subs = df_subs.set_axis(\n",
    "        ['protein_n', \n",
    "         'fraction_training_data', \n",
    "         'num_train', \n",
    "         'num_params', \n",
    "         've_test', \n",
    "         'pearson_corr_test', \n",
    "         've_all', \n",
    "         'pearson_corr_all', \n",
    "         'it', \n",
    "         'lr', \n",
    "         'epochs'], axis=1, inplace=False)\n",
    "    df_subs['fold_data'] = df_subs.num_train/df_subs.num_params\n",
    "    df_mean_subs = df_subs.groupby('fold_data').mean()\n",
    "    df_std_subs = df_subs.groupby('fold_data').mean()\n",
    "    df_mean_subs\n",
    "\n",
    "    plt.plot(df_mean_subs.index, df_mean_subs.pearson_corr_test, \n",
    "            label= prot_n,\n",
    "            color=rgbas[i],\n",
    "            lw=l_w,\n",
    "            alpha = l_alpha,\n",
    "            ms=l_ms,\n",
    "            marker='.')\n",
    "\n",
    "plt.legend(loc='lower right', fontsize=7)\n",
    "plt.ylabel('test set pearson r', fontsize=8)\n",
    "plt.ylim([0,1])\n",
    "plt.yticks([0,0.2, 0.4,0.6,0.8,1], fontsize=7)\n",
    "plt.grid(visible=True, alpha=0.3, lw=0.2)\n",
    "\n",
    "if x_plot_n == 'fold_data':\n",
    "    plt.xticks([0,1,2,5, 10], fontsize=7)\n",
    "    plt.xlim(0,10.1)\n",
    "    plt.xlabel('training set size \\n (number of fold over # params.)', fontsize=8)\n",
    "\n",
    "\n",
    "if x_plot_n == 'num_train':\n",
    "    plt.xticks([0,2e3,5e3,1e4,1.3e4], fontsize=7)\n",
    "    plt.xlim(0,1.3e4)\n",
    "    plt.xlabel('n data', fontsize=8)\n",
    "\n",
    "plt.axhline(y=0.8, color='black', lw=0.5,alpha=0.5)\n",
    "plt.tight_layout()\n",
    "plt.savefig(dout +'subsampling_fold_all_{}.svg'.format(x_plot_n), format='svg')\n",
    "plt.savefig(dout +'subsampling_fold_all_{}.png'.format(x_plot_n), format='png', dpi=300)\n",
    "plt.show()"
   ]
  }
 ],
 "metadata": {
  "kernelspec": {
   "display_name": "Python (dd_tf2_mamba)",
   "language": "python",
   "name": "dd_tf2_mamba"
  },
  "language_info": {
   "codemirror_mode": {
    "name": "ipython",
    "version": 3
   },
   "file_extension": ".py",
   "mimetype": "text/x-python",
   "name": "python",
   "nbconvert_exporter": "python",
   "pygments_lexer": "ipython3",
   "version": "3.10.5"
  }
 },
 "nbformat": 4,
 "nbformat_minor": 5
}
