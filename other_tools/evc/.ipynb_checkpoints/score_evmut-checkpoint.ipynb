{
 "cells": [
  {
   "cell_type": "markdown",
   "metadata": {},
   "source": [
    "# scoring antitoxin mutations with evMutation\n",
    "\n",
    "### Inputs:\n",
    "- the experimentally measured antitoxin variant effects\n",
    "- evCouplings model\n",
    "\n",
    "### Outputs:\n",
    "- score file"
   ]
  },
  {
   "cell_type": "code",
   "execution_count": 1,
   "metadata": {},
   "outputs": [],
   "source": [
    "import evcouplings\n",
    "from evcouplings.couplings import CouplingsModel\n",
    "import pandas as pd\n",
    "\n",
    "plt.style.use('../../src/paper_style1.mplstyle')\n",
    "dout = '../../data/coves/scores/evmut/'\n",
    "data_dir = '../../data/DMS_data/'\n",
    "\n",
    "def get_at_delta_hamiltonian(c, at_muts):\n",
    "    offset = 103 # add the number of toxin residues to get the correct antitoxin position\n",
    "    \n",
    "    list_mut_tups = []\n",
    "    for at_mut in at_muts.split(':'):\n",
    "\n",
    "        at_wt_aa = at_mut[0]\n",
    "        at_pos = int(at_mut[1:-1])\n",
    "        at_mut_aa = at_mut[-1]\n",
    "\n",
    "        at_pos_couplings = at_pos + offset\n",
    "        #print(at_pos_couplings)\n",
    "        if at_mut_aa == '_':\n",
    "            return np.nan\n",
    "        \n",
    "        if at_pos_couplings in c.index_list:               \n",
    "\n",
    "            assert at_wt_aa == c.seq(at_pos_couplings)\n",
    "\n",
    "            # check that there are predictions:\n",
    "            #tup1 = (t_pos_couplings, t_wt_aa, t_mut_aa)\n",
    "            tup2 = (at_pos_couplings, at_wt_aa, at_mut_aa)\n",
    "            #print(tup2)\n",
    "            list_mut_tups.append(tup2)\n",
    "            \n",
    "    delta_E, delta_E_couplings, delta_E_fields = c.delta_hamiltonian(list_mut_tups)\n",
    "    return delta_E\n"
   ]
  },
  {
   "cell_type": "code",
   "execution_count": null,
   "metadata": {},
   "outputs": [],
   "source": [
    "# load parameters from file to create a pairwise model\n",
    "c = CouplingsModel(\"./parED_e1_3_m80_f80.model\")"
   ]
  },
  {
   "cell_type": "code",
   "execution_count": 5,
   "metadata": {},
   "outputs": [],
   "source": [
    "# load data\n",
    "\n",
    "# read 3 position library\n",
    "df_mut_all = pd.read_csv(data_dir+'df_mut_all_norm.csv', index_col = 0)\n",
    "df_at_10p = pd.read_csv(data_dir+'df_at_10pos.csv', index_col = 0)"
   ]
  },
  {
   "cell_type": "code",
   "execution_count": 8,
   "metadata": {},
   "outputs": [],
   "source": [
    "# get 3 pos evmutaiton scoring\n",
    "df_mut_all['mut_m1'] = df_mut_all.apply(\n",
    "    lambda r: ':'.join([v[0]+str(1+int(v[1:-1])) + v[-1] for v in r.name.split(':')]), axis=1)\n",
    "df_mut_all['evc_pred'] = df_mut_all.apply(\n",
    "    lambda r: get_at_delta_hamiltonian(c, r.mut_m1), axis=1)\n",
    "df_mut_all.to_csv(data_dir + 'df_mut_all_norm_evmut.csv')\n",
    "\n",
    "# get 10 pos evmutatation scoring\n",
    "df_704_10x_exp['mut_m1'] = df_704_10x_exp.apply(\n",
    "    lambda r: ':'.join([v[0]+str(1+int(v[1:-1])) + v[-1] for v in r.muts.split(':')]), axis=1)\n",
    "df_704_10x_exp['evc_pred'] = df_704_10x_exp.apply(\n",
    "    lambda r: get_at_delta_hamiltonian(c, r.mut_m1), axis=1)\n",
    "df_704_10x_exp.to_csv(data_dir + 'df_704_10x_rc3_col_processed_evmut.csv')\n"
   ]
  }
 ],
 "metadata": {
  "kernelspec": {
   "display_name": "Python (dd_tf2_mamba)",
   "language": "python",
   "name": "dd_tf2_mamba"
  },
  "language_info": {
   "codemirror_mode": {
    "name": "ipython",
    "version": 3
   },
   "file_extension": ".py",
   "mimetype": "text/x-python",
   "name": "python",
   "nbconvert_exporter": "python",
   "pygments_lexer": "ipython3",
   "version": "3.10.5"
  }
 },
 "nbformat": 4,
 "nbformat_minor": 4
}
