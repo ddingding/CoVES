{
 "cells": [
  {
   "cell_type": "markdown",
   "metadata": {},
   "source": [
    "# sample sequences based on local structure\n",
    "use the residue preferences learned from structural microenvironment to sample combinatorial variants with Boltzmann function\n",
    "\n",
    "### inputs:\n",
    "- the structure based residue preferences\n",
    "- a set of positions and mutations to be sampled\n",
    "\n",
    "### outputs:\n",
    "- generated samples "
   ]
  },
  {
   "cell_type": "code",
   "execution_count": 43,
   "metadata": {},
   "outputs": [],
   "source": [
    "import pandas as pd\n",
    "import numpy as np\n",
    "import matplotlib.pyplot as plt\n",
    "import random\n",
    "import sys\n",
    "import importlib\n",
    "\n",
    "sys.path.append('../src/')\n",
    "import covesTools\n",
    "importlib.reload(covesTools)\n",
    "import covesTools as ct\n",
    "\n",
    "### file paths\n",
    "din_preferences = '../data/coves/preferences/'\n",
    "dout_at_sample = '../data/coves/samples/at/'\n",
    "dout_gfp_sample = '../data/coves/samples/gfp/'\n",
    "\n",
    "dout_test_sample = '../data/coves/samples/at/test_to_delete/'\n",
    "\n",
    "\n",
    "fin_gfp_exp = '../data/coves/scores/all_scores/df_all_gfp.csv'"
   ]
  },
  {
   "cell_type": "markdown",
   "metadata": {},
   "source": [
    "# antitoxin generation"
   ]
  },
  {
   "cell_type": "code",
   "execution_count": 29,
   "metadata": {},
   "outputs": [],
   "source": [
    "# read residue mutaiton preference file\n",
    "df_gvp_pred_at = ct.read_res_pred(din_preferences +'gvp_100_m_at_1646945484.3030427_8_220711.csv')\n"
   ]
  },
  {
   "cell_type": "code",
   "execution_count": 30,
   "metadata": {},
   "outputs": [],
   "source": [
    "# generate seqs for only the 10 positions: L47, D51, I52, R54, L55, F73, R77, E79, A80, R81 .\n",
    "mut_pos = ['L47', 'D51', 'I52', 'R54', 'L55', 'F73', 'R77', 'E79', 'A80', 'R81'] # M0 indexed\n",
    "# convert this to m1 indexed positions\n",
    "mut_pos_m1 = [m[0] + str(int(m[1:])+1) for m in mut_pos]"
   ]
  },
  {
   "cell_type": "code",
   "execution_count": 32,
   "metadata": {},
   "outputs": [],
   "source": [
    "# sampling mutations for antitoxin\n",
    "n_sample = 500\n",
    "for t in [0.1, 0.5,0.7,1,1.5,2,2.25,2.5,2.75,3,4,5]:\n",
    "    sampled_mutkeys = ct.sample_coves(df_gvp_pred_at, mut_pos_m1, n_sample = n_sample, t=t)\n",
    "    # write to file\n",
    "    with open(dout_at_sample + f'/gvp_100_m_RES_1646945484_3030427_8_220711_samples_t{t}_n{n_sample}.csv', 'w') as fout:\n",
    "        for m in sampled_mutkeys:\n",
    "            fout.write(m + '\\n')\n"
   ]
  },
  {
   "cell_type": "markdown",
   "metadata": {},
   "source": [
    "# GFP generation"
   ]
  },
  {
   "cell_type": "code",
   "execution_count": 39,
   "metadata": {},
   "outputs": [],
   "source": [
    "# read residue mutaiton preference file\n",
    "df_gvp_pred_gfp = ct.read_res_pred(din_preferences +'gvp_100_m_gfp_230523_.csv')\n"
   ]
  },
  {
   "cell_type": "code",
   "execution_count": 40,
   "metadata": {
    "tags": []
   },
   "outputs": [],
   "source": [
    "# to limit generation to mutants that can be scored with the oracle function, read in the individual substitutions that were observed in experiment\n",
    "# read experiment file to get mutations that are observed.\n",
    "df_gfp = pd.read_csv(fin_gfp_exp, \n",
    "                     index_col = 0)"
   ]
  },
  {
   "cell_type": "code",
   "execution_count": 42,
   "metadata": {},
   "outputs": [
    {
     "name": "stdout",
     "output_type": "stream",
     "text": [
      "233 positions mutated in exp\n",
      "generating for # of seen variants only 222\n"
     ]
    }
   ],
   "source": [
    "muts_seen_dms = set([ind_m for m in df_gfp.mutant for ind_m in m.split(':') ])\n",
    "#adding the wt residues to each seen position\n",
    "wt_pos_wt_seen = list(set([m[:-1]+m[0] for m in muts_seen_dms]))\n",
    "muts_seen_dms = set(list(muts_seen_dms) + wt_pos_wt_seen)\n",
    "num_pos_mutate_exp = len(set([m[1:-1] for m in muts_seen_dms]))\n",
    "print(f'{num_pos_mutate_exp} positions mutated in exp')\n",
    "\n",
    "# only get the sitewise preferences for which the mutants have been seen\n",
    "df_gvp_pred_gfp['seen_exp'] = df_gvp_pred_gfp.mut.apply(lambda x: x in muts_seen_dms)\n",
    "df_gvp_pred_gfp_seen = df_gvp_pred_gfp.loc[df_gvp_pred_gfp.seen_exp]\n",
    "\n",
    "# get list of wt_aa_pos that are seen in both:\n",
    "mut_pos_both_exp_res = set(df_gvp_pred_gfp_seen.mut.str[:-1])\n",
    "print('generating for # of seen variants only',len(mut_pos_both_exp_res))\n"
   ]
  },
  {
   "cell_type": "code",
   "execution_count": 53,
   "metadata": {
    "tags": []
   },
   "outputs": [],
   "source": [
    "def gen_samples_gfp(df_gvp_pred_use, \n",
    "                    mut_pos_both_exp_res,\n",
    "                    n_sample =1000, \n",
    "                    n_pos_mutate_range=[10], \n",
    "                    t_range = [ 0.1, 0.3,0.4, 0.5, 0.6, 0.7,1,2, 3, 4, 5, 8, 10, 20], \n",
    "                    dout = './'):\n",
    "    # sample sequences for gfp by choosing a subset of positions to mutate\n",
    "    \n",
    "    # Args:\n",
    "    #    df_gvp_pred_use (df): residue preferences from structures\n",
    "    #                          filtered for mutants that should be sampled\n",
    "    #    mut_pos_both_exp_res (list): list of wtaa+pos to choose sampling from\n",
    "    #    n_sample (int): number of samples to generated\n",
    "    #    n_pos_mutate_range (list of ints): the maximum number of positions that are \n",
    "    #                                       allowed to be designed\n",
    "    #    t_range (list of floats): the sampling temperatures to use\n",
    "    #    dout (str): path to sampling files\n",
    "    \n",
    "    \n",
    "    for t in t_range: \n",
    "        for n_pos_mutate in n_pos_mutate_range:\n",
    "            print(t, n_pos_mutate)\n",
    "            mutkeys_sampled = []\n",
    "            for i in range(n_sample):\n",
    "                # pick a subset of random positions to mutate\n",
    "                mut_pos_to_sample = random.sample(mut_pos_both_exp_res, n_pos_mutate)\n",
    "                # sample mutkeys\n",
    "                sampled_mutkeys = ct.sample_coves(\n",
    "                    df_gvp_pred_use, \n",
    "                    mut_pos_to_sample, \n",
    "                    n_sample = 1, \n",
    "                    t=t)\n",
    "                sampled_mutkey = sampled_mutkeys[0]\n",
    "                \n",
    "                # exclude 'wt mutations'\n",
    "                if sampled_mutkey[0] != sampled_mutkey[-1]:\n",
    "                    mutkeys_sampled.append(sampled_mutkey)\n",
    "\n",
    "            with open(dout + f'gvp_100_m_RES_1646945484_3030427_8_230519_gfp_samples_t{t}_n{n_sample}_downselect{n_pos_mutate}_230528.csv', 'w') as fout:\n",
    "                for m in mutkeys_sampled:\n",
    "                    fout.write(m + '\\n')"
   ]
  },
  {
   "cell_type": "code",
   "execution_count": 54,
   "metadata": {
    "tags": []
   },
   "outputs": [
    {
     "name": "stdout",
     "output_type": "stream",
     "text": [
      "0.1 10\n"
     ]
    },
    {
     "name": "stderr",
     "output_type": "stream",
     "text": [
      "/tmp/ipykernel_31753/809428.py:13: DeprecationWarning: Sampling from a set deprecated\n",
      "since Python 3.9 and will be removed in a subsequent version.\n",
      "  mut_pos_to_sample = random.sample(mut_pos_both_exp_res, n_pos_mutate)\n"
     ]
    },
    {
     "name": "stdout",
     "output_type": "stream",
     "text": [
      "0.3 10\n",
      "0.4 10\n",
      "0.5 10\n",
      "0.6 10\n",
      "0.7 10\n",
      "1 10\n",
      "2 10\n",
      "3 10\n",
      "4 10\n",
      "5 10\n",
      "8 10\n",
      "10 10\n",
      "20 10\n"
     ]
    }
   ],
   "source": [
    "# sampling at 10 positions that are fixed\n",
    "n_sample = 300\n",
    "n_pos_mutate_range = [10]\n",
    "\n",
    "gen_samples_gfp(\n",
    "    df_gvp_pred_gfp_seen, \n",
    "    n_sample =n_sample, \n",
    "    n_pos_mutate_range=n_pos_mutate_range, \n",
    "    t_range = [ 0.1, 0.3,0.4, 0.5, 0.6, 0.7,1,2, 3, 4, 5, 8, 10, 20], \n",
    "    dout = dout_gfp_sample\n",
    ")\n"
   ]
  },
  {
   "cell_type": "code",
   "execution_count": 13,
   "metadata": {},
   "outputs": [
    {
     "ename": "TypeError",
     "evalue": "gen_samples() got an unexpected keyword argument 'n_pos_mutate'",
     "output_type": "error",
     "traceback": [
      "\u001b[0;31m---------------------------------------------------------------------------\u001b[0m",
      "\u001b[0;31mTypeError\u001b[0m                                 Traceback (most recent call last)",
      "Input \u001b[0;32mIn [13]\u001b[0m, in \u001b[0;36m<cell line: 5>\u001b[0;34m()\u001b[0m\n\u001b[1;32m      2\u001b[0m n_sample \u001b[38;5;241m=\u001b[39m \u001b[38;5;241m300\u001b[39m\n\u001b[1;32m      3\u001b[0m n_pos_mutate \u001b[38;5;241m=\u001b[39m [\u001b[38;5;241m15\u001b[39m]\n\u001b[0;32m----> 5\u001b[0m \u001b[43mgen_samples\u001b[49m\u001b[43m(\u001b[49m\u001b[43mdf_gvp_pred_seen\u001b[49m\u001b[43m,\u001b[49m\u001b[43m \u001b[49m\n\u001b[1;32m      6\u001b[0m \u001b[43m            \u001b[49m\u001b[43mn_sample\u001b[49m\u001b[43m \u001b[49m\u001b[38;5;241;43m=\u001b[39;49m\u001b[43mn_sample\u001b[49m\u001b[43m,\u001b[49m\u001b[43m \u001b[49m\n\u001b[1;32m      7\u001b[0m \u001b[43m            \u001b[49m\u001b[43mn_pos_mutate\u001b[49m\u001b[38;5;241;43m=\u001b[39;49m\u001b[43mn_pos_mutate\u001b[49m\u001b[43m,\u001b[49m\u001b[43m \u001b[49m\u001b[43mt_range\u001b[49m\u001b[43m \u001b[49m\u001b[38;5;241;43m=\u001b[39;49m\u001b[43m \u001b[49m\u001b[43m[\u001b[49m\u001b[43m \u001b[49m\u001b[38;5;241;43m0.1\u001b[39;49m\u001b[43m,\u001b[49m\u001b[43m \u001b[49m\u001b[38;5;241;43m0.3\u001b[39;49m\u001b[43m,\u001b[49m\u001b[38;5;241;43m0.4\u001b[39;49m\u001b[43m,\u001b[49m\u001b[43m \u001b[49m\u001b[38;5;241;43m0.5\u001b[39;49m\u001b[43m,\u001b[49m\u001b[43m \u001b[49m\u001b[38;5;241;43m0.6\u001b[39;49m\u001b[43m,\u001b[49m\u001b[43m \u001b[49m\u001b[38;5;241;43m0.7\u001b[39;49m\u001b[43m,\u001b[49m\u001b[38;5;241;43m1\u001b[39;49m\u001b[43m,\u001b[49m\u001b[38;5;241;43m2\u001b[39;49m\u001b[43m,\u001b[49m\u001b[43m \u001b[49m\u001b[38;5;241;43m3\u001b[39;49m\u001b[43m,\u001b[49m\u001b[43m \u001b[49m\u001b[38;5;241;43m4\u001b[39;49m\u001b[43m,\u001b[49m\u001b[43m \u001b[49m\u001b[38;5;241;43m5\u001b[39;49m\u001b[43m,\u001b[49m\u001b[43m \u001b[49m\u001b[38;5;241;43m8\u001b[39;49m\u001b[43m,\u001b[49m\u001b[43m \u001b[49m\u001b[38;5;241;43m10\u001b[39;49m\u001b[43m,\u001b[49m\u001b[43m \u001b[49m\u001b[38;5;241;43m20\u001b[39;49m\u001b[43m]\u001b[49m\u001b[43m)\u001b[49m\n",
      "\u001b[0;31mTypeError\u001b[0m: gen_samples() got an unexpected keyword argument 'n_pos_mutate'"
     ]
    }
   ],
   "source": [
    "# vanilla but with higher number of possible mutations\n",
    "n_sample = 300\n",
    "n_pos_mutate_range = [15]\n",
    "\n",
    "gen_samples_gfp(\n",
    "    df_gvp_pred_gfp_seen, \n",
    "    n_sample =n_sample, \n",
    "    n_pos_mutate_range=n_pos_mutate_range, \n",
    "    t_range = [ 0.1, 0.3,0.4, 0.5, 0.6, 0.7,1,2, 3, 4, 5, 8, 10, 20], \n",
    "    dout = dout_gfp_sample\n",
    ")\n",
    "\n"
   ]
  },
  {
   "cell_type": "code",
   "execution_count": 17,
   "metadata": {},
   "outputs": [
    {
     "name": "stdout",
     "output_type": "stream",
     "text": [
      "0.5 5\n"
     ]
    },
    {
     "name": "stderr",
     "output_type": "stream",
     "text": [
      "/tmp/ipykernel_27086/3590690399.py:59: DeprecationWarning: Sampling from a set deprecated\n",
      "since Python 3.9 and will be removed in a subsequent version.\n",
      "  mut_pos_to_sample = random.sample(mut_pos_both_exp_res, n_pos_mutate)\n"
     ]
    },
    {
     "name": "stdout",
     "output_type": "stream",
     "text": [
      "0.5 6\n",
      "0.5 7\n",
      "0.5 8\n",
      "0.5 9\n",
      "0.5 10\n",
      "0.5 11\n",
      "0.5 12\n",
      "0.5 13\n",
      "0.5 14\n",
      "0.5 15\n",
      "0.5 16\n",
      "0.5 17\n",
      "0.5 18\n",
      "0.5 19\n",
      "0.5 20\n",
      "1 5\n",
      "1 6\n",
      "1 7\n",
      "1 8\n",
      "1 9\n",
      "1 10\n",
      "1 11\n",
      "1 12\n",
      "1 13\n",
      "1 14\n",
      "1 15\n",
      "1 16\n",
      "1 17\n",
      "1 18\n",
      "1 19\n",
      "1 20\n"
     ]
    }
   ],
   "source": [
    "# scanning mutations across allowed num mutations, adding 2\n",
    "n_sample = 300\n",
    "n_pos_mutate_range = [5,6,7,8,9,10,11,12,13,14,15, 16, 17, 18, 19, 20]\n",
    "\n",
    "gen_samples_gfp(\n",
    "    df_gvp_pred_gfp_seen, \n",
    "    n_sample =n_sample, \n",
    "    n_pos_mutate_range=n_pos_mutate_range, \n",
    "    t_range = [0.5, 1], \n",
    "    dout = dout_gfp_sample\n",
    ")"
   ]
  }
 ],
 "metadata": {
  "kernelspec": {
   "display_name": "Python (dd_tf2_mamba)",
   "language": "python",
   "name": "dd_tf2_mamba"
  },
  "language_info": {
   "codemirror_mode": {
    "name": "ipython",
    "version": 3
   },
   "file_extension": ".py",
   "mimetype": "text/x-python",
   "name": "python",
   "nbconvert_exporter": "python",
   "pygments_lexer": "ipython3",
   "version": "3.10.5"
  }
 },
 "nbformat": 4,
 "nbformat_minor": 4
}
