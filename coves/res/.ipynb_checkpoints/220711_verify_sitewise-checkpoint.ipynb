{
 "cells": [
  {
   "cell_type": "markdown",
   "id": "2948e06a-7a65-4d76-88bb-b0c462d270ed",
   "metadata": {},
   "source": [
    "# trying to check that the res model is working sitewise"
   ]
  },
  {
   "cell_type": "markdown",
   "id": "8e504dba-b19c-4db2-ae32-a353e114eead",
   "metadata": {},
   "source": [
    "# 1 checking that the data loaded is working site-wise "
   ]
  },
  {
   "cell_type": "code",
   "execution_count": 4,
   "id": "93845ede-4012-4b10-9521-6a71479e4d6f",
   "metadata": {},
   "outputs": [
    {
     "data": {
      "text/plain": [
       "'\\nimport torch.nn as nn\\nimport tqdm, torch, time, os\\nimport numpy as np\\nfrom atom3d.util import metrics\\nimport sklearn.metrics as sk_metrics\\nfrom collections import defaultdict\\nimport scipy.stats as stats\\nprint = partial(print, flush=True)\\n'"
      ]
     },
     "execution_count": 4,
     "metadata": {},
     "output_type": "execute_result"
    }
   ],
   "source": [
    "import gvp\n",
    "import gvp.atom3d\n",
    "from atom3d.datasets import LMDBDataset\n",
    "from functools import partial\n",
    "import torch_geometric"
   ]
  },
  {
   "cell_type": "code",
   "execution_count": 32,
   "id": "209085c0-3b48-4e66-a1e4-d0b46f667940",
   "metadata": {},
   "outputs": [
    {
     "name": "stdout",
     "output_type": "stream",
     "text": [
      "Data(x=[384, 3], edge_index=[2, 5638], atoms=[384], edge_s=[5638, 16], edge_v=[5638, 1, 3], label=4, ca_idx=23)\n",
      "torch.Size([384, 3])\n",
      "tensor([[17.7000, 10.4770, 41.9480],\n",
      "        [17.3400,  9.2620, 41.2200],\n",
      "        [17.6930,  9.3750, 39.7360],\n",
      "        ...,\n",
      "        [15.4350,  0.2610, 18.7770],\n",
      "        [16.2000,  1.5410, 18.4920],\n",
      "        [13.9650,  0.5580, 19.0700]])\n",
      "tensor([[  1,   2,   3,  ..., 379, 378, 369],\n",
      "        [  0,   0,   0,  ..., 383, 383, 383]])\n",
      "tensor([[1.8779e-12, 3.9249e-08, 8.4280e-05,  ..., 2.2455e-33, 6.6688e-42,\n",
      "         0.0000e+00],\n",
      "        [2.9394e-34, 1.3036e-26, 5.9400e-20,  ..., 6.2154e-12, 3.9171e-17,\n",
      "         2.5363e-23],\n",
      "        [0.0000e+00, 2.0651e-39, 3.6733e-31,  ..., 1.2335e-05, 3.0346e-09,\n",
      "         7.6706e-14],\n",
      "        ...,\n",
      "        [0.0000e+00, 1.2990e-42, 5.2281e-34,  ..., 1.3971e-04, 7.7771e-08,\n",
      "         4.4479e-12],\n",
      "        [0.0000e+00, 0.0000e+00, 0.0000e+00,  ..., 7.4020e-01, 7.3631e-02,\n",
      "         7.5249e-04],\n",
      "        [0.0000e+00, 0.0000e+00, 0.0000e+00,  ..., 2.7866e-02, 5.0587e-01,\n",
      "         9.4350e-01]])\n"
     ]
    }
   ],
   "source": [
    "# inspecting the first element in dataset, it does not have any sequence information\n",
    "\n",
    "split_path = '/n/groups/marks/users/david/res/atom3d_data/split-by-cath-topology/indices/'\n",
    "data_path = '/n/groups/marks/users/david/res/atom3d_data/raw/RES/data/'\n",
    "dataset = partial(gvp.atom3d.RESDataset, data_path)        \n",
    "trainset = dataset(split_path=split_path+'train_indices.txt')\n",
    "valset = dataset(split_path=split_path+'val_indices.txt')\n",
    "testset = dataset(split_path=split_path+'test_indices.txt')\n",
    "datasets= (trainset, valset, testset)\n",
    "\n",
    "for d in trainset:\n",
    "    print(d)\n",
    "    print(d.x.shape)\n",
    "    print(d.x)\n",
    "    print(d.edge_index)\n",
    "    print(d.edge_s)\n",
    "    #print(d.atoms)\n",
    "    #print(d.label)\n",
    "    #print(d.ca_idx)\n",
    "    break"
   ]
  },
  {
   "cell_type": "code",
   "execution_count": 7,
   "id": "88bc1748-76e5-44bc-8355-dba2af430948",
   "metadata": {},
   "outputs": [
    {
     "name": "stderr",
     "output_type": "stream",
     "text": [
      "/n/groups/marks/software/anaconda_o2/envs/dd_torch/lib/python3.7/site-packages/torch_geometric/deprecation.py:13: UserWarning: 'data.DataLoader' is deprecated, use 'loader.DataLoader' instead\n",
      "  warnings.warn(out)\n",
      "/n/groups/marks/software/anaconda_o2/envs/dd_torch/lib/python3.7/site-packages/torch/utils/data/dataloader.py:481: UserWarning: This DataLoader will create 4 worker processes in total. Our suggested max number of worker in current system is 1, which is smaller than what this DataLoader is going to create. Please be aware that excessive worker creation might get DataLoader running slow or even freeze, lower the worker number to avoid potential slowness/freeze if necessary.\n",
      "  cpuset_checked))\n"
     ]
    }
   ],
   "source": [
    "batch_size = 8 # control memory of model as long as you can fit a batch size of 1, you can do gradient accumultion to simulate batch size.\n",
    "num_workers = 4\n",
    "dataloader = partial(torch_geometric.data.DataLoader, \n",
    "                    num_workers=num_workers, batch_size=batch_size)\n",
    "\n",
    "trainset, valset, testset = map(dataloader, datasets)  "
   ]
  },
  {
   "cell_type": "markdown",
   "id": "e0548d39-3f95-4d2c-8e2f-e93f908fc454",
   "metadata": {},
   "source": [
    "# 2 potential todo check what computations the model performs?"
   ]
  },
  {
   "cell_type": "code",
   "execution_count": null,
   "id": "fa2ba92d-31e3-4d9a-a0ea-01b0379a88d6",
   "metadata": {},
   "outputs": [],
   "source": []
  }
 ],
 "metadata": {
  "kernelspec": {
   "display_name": "Python 3",
   "language": "python",
   "name": "python3"
  },
  "language_info": {
   "codemirror_mode": {
    "name": "ipython",
    "version": 3
   },
   "file_extension": ".py",
   "mimetype": "text/x-python",
   "name": "python",
   "nbconvert_exporter": "python",
   "pygments_lexer": "ipython3",
   "version": "3.7.10"
  }
 },
 "nbformat": 4,
 "nbformat_minor": 5
}
