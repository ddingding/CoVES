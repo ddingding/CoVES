{
 "cells": [
  {
   "cell_type": "code",
   "execution_count": null,
   "metadata": {
    "id": "HE3BpheG84ks"
   },
   "outputs": [],
   "source": []
  },
  {
   "cell_type": "markdown",
   "metadata": {
    "id": "v9m4oIaz84_D"
   },
   "source": [
    "Todos:\n",
    "\n",
    "1) dataset: splitting by folds, and traiing on particular folds only?\n",
    "vs.\n",
    "training on all data, irespective of fold. get the same training dataset as the pevious 2 papers. take the redo-database 19436 structures for training of which 300 are held out.\n",
    "\n",
    "- sample sequences randomly throughout the training sequences to not bias towards surface residues.\n",
    "\n",
    "- sample residues according to their frequency in the PDB dataset to not bias towards rare amino acids like Cys.\n",
    "\n",
    "- proper dataset objects, and batches of datasets. maybe try 20 examples at a time like \n",
    "\n",
    "- expanding the number of atoms to look at?\n",
    "\n",
    "features:\n",
    "- orienting all the atoms correctly wrt their position. take the bisector and make a right angle\n",
    "- add partial charges and solvent accessibility.\n",
    "- add H-atoms? https://bioinformatics.stackexchange.com/questions/17916/how-can-i-programmatically-add-hydrogen-to-a-pdb-structure-using-biopython\n",
    "\n",
    "\n",
    "model:\n",
    "\n",
    "1) only have connections between a central node and the surrounding atoms. \n",
    "\n",
    "2) graph attention networks? so that can pay attention to particular atoms in vicinity. Can you learn atoms?\n",
    "\n",
    "3) better ways to learn interactions between atoms? look at siman batzner \n",
    "\n",
    "4) rotation equivariant filters instead?\n",
    "\n",
    "\n",
    "Parameters to gridscan#\n",
    "- number of atoms in neighborhood to look at.\n",
    "- batch size, learning rate, etc."
   ]
  },
  {
   "cell_type": "code",
   "execution_count": null,
   "metadata": {
    "colab": {
     "base_uri": "https://localhost:8080/",
     "height": 388
    },
    "id": "9Xd7ZHa2txFc",
    "outputId": "42e3223b-0ddb-4b74-a52b-18d1369f5b6c"
   },
   "outputs": [
    {
     "ename": "OSError",
     "evalue": "ignored",
     "output_type": "error",
     "traceback": [
      "\u001b[0;31m---------------------------------------------------------------------------\u001b[0m",
      "\u001b[0;31mOSError\u001b[0m                                   Traceback (most recent call last)",
      "\u001b[0;32m<ipython-input-2-53f5fbd251a2>\u001b[0m in \u001b[0;36m<module>\u001b[0;34m()\u001b[0m\n\u001b[0;32m----> 1\u001b[0;31m \u001b[0;32mimport\u001b[0m \u001b[0mtorch_scatter\u001b[0m\u001b[0;34m\u001b[0m\u001b[0;34m\u001b[0m\u001b[0m\n\u001b[0m\u001b[1;32m      2\u001b[0m \u001b[0;32mimport\u001b[0m \u001b[0mtorch_cluster\u001b[0m\u001b[0;34m\u001b[0m\u001b[0;34m\u001b[0m\u001b[0m\n\u001b[1;32m      3\u001b[0m \u001b[0;34m\u001b[0m\u001b[0m\n\u001b[1;32m      4\u001b[0m \u001b[0;32mimport\u001b[0m \u001b[0mtorch_sparse\u001b[0m\u001b[0;34m\u001b[0m\u001b[0;34m\u001b[0m\u001b[0m\n\u001b[1;32m      5\u001b[0m \u001b[0;32mimport\u001b[0m \u001b[0mtorch_geometric\u001b[0m\u001b[0;34m\u001b[0m\u001b[0;34m\u001b[0m\u001b[0m\n",
      "\u001b[0;32m/content/gdrive/My Drive/Colab Notebooks/torch_scatter/__init__.py\u001b[0m in \u001b[0;36m<module>\u001b[0;34m()\u001b[0m\n\u001b[1;32m     14\u001b[0m     \u001b[0mspec\u001b[0m \u001b[0;34m=\u001b[0m \u001b[0mcuda_spec\u001b[0m \u001b[0;32mor\u001b[0m \u001b[0mcpu_spec\u001b[0m\u001b[0;34m\u001b[0m\u001b[0;34m\u001b[0m\u001b[0m\n\u001b[1;32m     15\u001b[0m     \u001b[0;32mif\u001b[0m \u001b[0mspec\u001b[0m \u001b[0;32mis\u001b[0m \u001b[0;32mnot\u001b[0m \u001b[0;32mNone\u001b[0m\u001b[0;34m:\u001b[0m\u001b[0;34m\u001b[0m\u001b[0;34m\u001b[0m\u001b[0m\n\u001b[0;32m---> 16\u001b[0;31m         \u001b[0mtorch\u001b[0m\u001b[0;34m.\u001b[0m\u001b[0mops\u001b[0m\u001b[0;34m.\u001b[0m\u001b[0mload_library\u001b[0m\u001b[0;34m(\u001b[0m\u001b[0mspec\u001b[0m\u001b[0;34m.\u001b[0m\u001b[0morigin\u001b[0m\u001b[0;34m)\u001b[0m\u001b[0;34m\u001b[0m\u001b[0;34m\u001b[0m\u001b[0m\n\u001b[0m\u001b[1;32m     17\u001b[0m     \u001b[0;32melif\u001b[0m \u001b[0mos\u001b[0m\u001b[0;34m.\u001b[0m\u001b[0mgetenv\u001b[0m\u001b[0;34m(\u001b[0m\u001b[0;34m'BUILD_DOCS'\u001b[0m\u001b[0;34m,\u001b[0m \u001b[0;34m'0'\u001b[0m\u001b[0;34m)\u001b[0m \u001b[0;34m!=\u001b[0m \u001b[0;34m'1'\u001b[0m\u001b[0;34m:\u001b[0m  \u001b[0;31m# pragma: no cover\u001b[0m\u001b[0;34m\u001b[0m\u001b[0;34m\u001b[0m\u001b[0m\n\u001b[1;32m     18\u001b[0m         raise ImportError(f\"Could not find module '{library}_cpu' in \"\n",
      "\u001b[0;32m/usr/local/lib/python3.7/dist-packages/torch/_ops.py\u001b[0m in \u001b[0;36mload_library\u001b[0;34m(self, path)\u001b[0m\n\u001b[1;32m    108\u001b[0m             \u001b[0;31m# static (global) initialization code in order to register custom\u001b[0m\u001b[0;34m\u001b[0m\u001b[0;34m\u001b[0m\u001b[0;34m\u001b[0m\u001b[0m\n\u001b[1;32m    109\u001b[0m             \u001b[0;31m# operators with the JIT.\u001b[0m\u001b[0;34m\u001b[0m\u001b[0;34m\u001b[0m\u001b[0;34m\u001b[0m\u001b[0m\n\u001b[0;32m--> 110\u001b[0;31m             \u001b[0mctypes\u001b[0m\u001b[0;34m.\u001b[0m\u001b[0mCDLL\u001b[0m\u001b[0;34m(\u001b[0m\u001b[0mpath\u001b[0m\u001b[0;34m)\u001b[0m\u001b[0;34m\u001b[0m\u001b[0;34m\u001b[0m\u001b[0m\n\u001b[0m\u001b[1;32m    111\u001b[0m         \u001b[0mself\u001b[0m\u001b[0;34m.\u001b[0m\u001b[0mloaded_libraries\u001b[0m\u001b[0;34m.\u001b[0m\u001b[0madd\u001b[0m\u001b[0;34m(\u001b[0m\u001b[0mpath\u001b[0m\u001b[0;34m)\u001b[0m\u001b[0;34m\u001b[0m\u001b[0;34m\u001b[0m\u001b[0m\n\u001b[1;32m    112\u001b[0m \u001b[0;34m\u001b[0m\u001b[0m\n",
      "\u001b[0;32m/usr/lib/python3.7/ctypes/__init__.py\u001b[0m in \u001b[0;36m__init__\u001b[0;34m(self, name, mode, handle, use_errno, use_last_error)\u001b[0m\n\u001b[1;32m    362\u001b[0m \u001b[0;34m\u001b[0m\u001b[0m\n\u001b[1;32m    363\u001b[0m         \u001b[0;32mif\u001b[0m \u001b[0mhandle\u001b[0m \u001b[0;32mis\u001b[0m \u001b[0;32mNone\u001b[0m\u001b[0;34m:\u001b[0m\u001b[0;34m\u001b[0m\u001b[0;34m\u001b[0m\u001b[0m\n\u001b[0;32m--> 364\u001b[0;31m             \u001b[0mself\u001b[0m\u001b[0;34m.\u001b[0m\u001b[0m_handle\u001b[0m \u001b[0;34m=\u001b[0m \u001b[0m_dlopen\u001b[0m\u001b[0;34m(\u001b[0m\u001b[0mself\u001b[0m\u001b[0;34m.\u001b[0m\u001b[0m_name\u001b[0m\u001b[0;34m,\u001b[0m \u001b[0mmode\u001b[0m\u001b[0;34m)\u001b[0m\u001b[0;34m\u001b[0m\u001b[0;34m\u001b[0m\u001b[0m\n\u001b[0m\u001b[1;32m    365\u001b[0m         \u001b[0;32melse\u001b[0m\u001b[0;34m:\u001b[0m\u001b[0;34m\u001b[0m\u001b[0;34m\u001b[0m\u001b[0m\n\u001b[1;32m    366\u001b[0m             \u001b[0mself\u001b[0m\u001b[0;34m.\u001b[0m\u001b[0m_handle\u001b[0m \u001b[0;34m=\u001b[0m \u001b[0mhandle\u001b[0m\u001b[0;34m\u001b[0m\u001b[0;34m\u001b[0m\u001b[0m\n",
      "\u001b[0;31mOSError\u001b[0m: /content/gdrive/My Drive/Colab Notebooks/torch_scatter/_scatter_cpu.so: undefined symbol: _ZNK2at6Tensor6narrowElll"
     ]
    }
   ],
   "source": [
    "import torch_scatter\n",
    "import torch_cluster\n",
    "\n",
    "import torch_sparse\n",
    "import torch_geometric\n",
    "import Bio"
   ]
  },
  {
   "cell_type": "markdown",
   "metadata": {
    "id": "YKOFBYYluCAQ"
   },
   "source": [
    "# get pdb coordinates"
   ]
  },
  {
   "cell_type": "code",
   "execution_count": null,
   "metadata": {
    "id": "FXm4nWAWAXaZ"
   },
   "outputs": [],
   "source": []
  },
  {
   "cell_type": "code",
   "execution_count": null,
   "metadata": {
    "colab": {
     "base_uri": "https://localhost:8080/"
    },
    "id": "GHsZhTZv0j1o",
    "outputId": "20231801-198d-4ceb-ecc6-4911b673ad5a"
   },
   "outputs": [
    {
     "name": "stdout",
     "output_type": "stream",
     "text": [
      "O [1. 0. 0. 0.] O\n",
      "N [0. 1. 0. 0.] N\n",
      "C [0. 0. 1. 0.] C\n",
      "S [0. 0. 0. 1.] S\n"
     ]
    }
   ],
   "source": [
    "from Bio.PDB import *\n",
    "import numpy as np\n",
    "import bisect\n",
    "import matplotlib.pyplot as plt\n",
    "import random\n",
    "\n",
    "\n",
    "\n"
   ]
  },
  {
   "cell_type": "code",
   "execution_count": null,
   "metadata": {
    "colab": {
     "base_uri": "https://localhost:8080/"
    },
    "id": "WRMtt_8H81Jl",
    "outputId": "b24ed5ee-07cc-47ff-840f-2ef4e1bab2ad"
   },
   "outputs": [
    {
     "name": "stdout",
     "output_type": "stream",
     "text": [
      "Structure exists: './pdb5ceg.ent' \n"
     ]
    }
   ],
   "source": [
    "\n",
    "\n",
    "pdbl = PDBList() \n",
    "pdbl.retrieve_pdb_file('5CEG', pdir = '.', file_format = 'pdb')\n",
    "\n",
    "parser = PDBParser(PERMISSIVE = True, QUIET = True) \n",
    "data = parser.get_structure(\"5CEG\",\"pdb5ceg.ent\")\n"
   ]
  },
  {
   "cell_type": "code",
   "execution_count": null,
   "metadata": {
    "colab": {
     "base_uri": "https://localhost:8080/"
    },
    "id": "2_nmRuxF0vHB",
    "outputId": "4d89baa1-c3ce-4b84-ad40-e93e8ef94e1a"
   },
   "outputs": [
    {
     "name": "stdout",
     "output_type": "stream",
     "text": [
      "[<Model id=0>]\n"
     ]
    },
    {
     "data": {
      "text/plain": [
       "<Vector -36.24, -66.58, -56.58>"
      ]
     },
     "execution_count": 12,
     "metadata": {},
     "output_type": "execute_result"
    }
   ],
   "source": [
    "'''\n",
    "model = data.get_models()\n",
    "models = list(model)\n",
    "type(models[0])\n",
    "print(models)\n",
    "\n",
    "chains = list(models[0].get_chains())\n",
    "chains\n",
    "\n",
    "chains[0]._id\n",
    "\n",
    "residue = list(chains[0].get_residues())\n",
    "len(residue)\n",
    "residue1 = list(chains[1].get_residues())\n",
    "len(residue1)\n",
    "\n",
    "residue = list(chains[0].get_residues())\n",
    "residue[2].__dict__\n",
    "\n",
    "atoms = list(residue[0].get_atoms())\n",
    "atoms\n",
    "\n",
    "atoms[1].__dict__\n",
    "\n",
    "atoms[1].get_vector()\n",
    "\n",
    "\n",
    "residue[-1].id\n",
    "'''"
   ]
  },
  {
   "cell_type": "code",
   "execution_count": null,
   "metadata": {
    "colab": {
     "base_uri": "https://localhost:8080/"
    },
    "id": "3zf7Ue4TppOf",
    "outputId": "917c449d-d8a1-4500-a3d6-e5236372cd1e"
   },
   "outputs": [
    {
     "data": {
      "text/plain": [
       "1.118033988749895"
      ]
     },
     "execution_count": 14,
     "metadata": {},
     "output_type": "execute_result"
    }
   ],
   "source": []
  },
  {
   "cell_type": "code",
   "execution_count": null,
   "metadata": {
    "colab": {
     "base_uri": "https://localhost:8080/"
    },
    "id": "C7OCFwuN2TU7",
    "outputId": "55f8e4b9-e17b-4029-875c-fe1b0a6e7422"
   },
   "outputs": [
    {
     "name": "stdout",
     "output_type": "stream",
     "text": [
      "Structure exists: './pdb5ceg.ent' \n",
      "[array([-18.229, -54.942, -56.574], dtype=float32), array([-16.799, -54.709, -56.478], dtype=float32), array([-16.334, -54.926, -55.041], dtype=float32)]\n",
      "[('O', array([-17.358, -49.744, -55.545], dtype=float32), 5.0827355), ('SD', array([-13.262, -51.321, -54.227], dtype=float32), 5.3903537), ('OE1', array([-20.605, -50.897, -57.962], dtype=float32), 5.587418), ('OE2', array([-19.828, -49.874, -56.191], dtype=float32), 5.7126546), ('OG', array([-15.262, -49.792, -59.063], dtype=float32), 5.7638073), ('CD', array([-20.047, -49.923, -57.411], dtype=float32), 5.8588214), ('O', array([-14.959, -48.724, -56.545], dtype=float32), 6.2618146), ('CE', array([-11.778, -51.725, -53.326], dtype=float32), 6.6370025), ('O', array([-22.817, -51.91 , -56.781], dtype=float32), 6.6439843), ('CG', array([-13.557, -49.65 , -53.611], dtype=float32), 6.6576056), ('CG', array([-19.612, -48.733, -58.253], dtype=float32), 6.8393083), ('CB', array([-14.567, -49.266, -60.181], dtype=float32), 6.951279), ('CB', array([-19.646, -49.021, -59.715], dtype=float32), 7.13701), ('C', array([-14.221, -47.957, -55.928], dtype=float32), 7.248315), ('CA', array([-12.763, -48.326, -55.651], dtype=float32), 7.597099), ('CB', array([-12.573, -48.627, -54.161], dtype=float32), 7.7600455), ('N', array([-17.616, -47.777, -60.233], dtype=float32), 7.9259152), ('C', array([-16.689, -48.24 , -61.069], dtype=float32), 7.933304), ('CA', array([-15.221, -47.985, -60.714], dtype=float32), 8.102219), ('O', array([-16.98 , -48.834, -62.104], dtype=float32), 8.136354), ('CA', array([-19.03 , -47.922, -60.569], dtype=float32), 8.232678), ('N', array([-14.64 , -46.781, -55.481], dtype=float32), 8.276986), ('CA', array([-16.041, -46.43 , -55.667], dtype=float32), 8.35309), ('N', array([-15.093, -46.894, -59.75 ], dtype=float32), 8.642373), ('O', array([-12.573, -47.354, -58.19 ], dtype=float32), 8.653671), ('O', array([-17.301, -46.127, -57.675], dtype=float32), 8.6796055), ('CD1', array([-18.902, -46.417, -54.725], dtype=float32), 8.73229), ('O', array([-17.106, -49.952, -49.102], dtype=float32), 8.782293), ('C', array([-16.258, -45.888, -57.076], dtype=float32), 8.857782), ('N', array([-11.851, -47.273, -56.082], dtype=float32), 8.94056), ('O2', array([-16.644, -47.119, -51.283], dtype=float32), 9.198921), ('C', array([-11.817, -46.885, -57.346], dtype=float32), 9.316048), ('O', array([-15.173, -49.492, -64.052], dtype=float32), 9.339511), ('O', array([-23.714, -48.847, -59.04 ], dtype=float32), 9.420409), ('CB', array([-16.527, -45.423, -54.603], dtype=float32), 9.477309), ('C', array([-19.852, -46.637, -60.429], dtype=float32), 9.491489), ('O', array([-14.851, -50.364, -48.12 ], dtype=float32), 9.619248), ('O', array([ -8.928, -49.19 , -55.51 ], dtype=float32), 9.66173), ('N', array([-15.258, -45.196, -57.612], dtype=float32), 9.703494), ('C1', array([-14.422, -47.413, -50.416], dtype=float32), 9.779039), ('CG1', array([-18.033, -45.147, -54.759], dtype=float32), 9.793344), ('C', array([-15.504, -45.665, -60.048], dtype=float32), 9.808967), ('N', array([-19.346, -45.658, -59.684], dtype=float32), 9.934093), ('O', array([-20.934, -46.54 , -60.992], dtype=float32), 10.208181), ('C2', array([-15.632, -46.487, -50.525], dtype=float32), 10.217699), ('CG1', array([ -9.539, -47.669, -58.859], dtype=float32), 10.389339), ('O', array([-12.49 , -54.005, -65.915], dtype=float32), 10.39808), ('O', array([-15.988, -45.369, -61.148], dtype=float32), 10.473883), ('CA', array([-15.368, -44.622, -58.953], dtype=float32), 10.484317), ('O', array([-11.351, -48.207, -49.839], dtype=float32), 10.771862), ('CG2', array([-15.709, -44.143, -54.631], dtype=float32), 10.781457), ('CA', array([-10.798, -45.806, -57.717], dtype=float32), 10.807892), ('O', array([-11.397, -51.717, -65.357], dtype=float32), 10.815283), ('CD2', array([-12.186, -46.358, -61.587], dtype=float32), 10.822238), ('NH1', array([ -9.047, -50.722, -49.947], dtype=float32), 10.892367), ('O', array([ -9.857, -46.663, -54.013], dtype=float32), 10.908974), ('O1', array([-13.358, -46.78 , -49.726], dtype=float32), 10.968091), ('NH2', array([ -7.999, -52.755, -50.206], dtype=float32), 10.981625), ('O3', array([-16.556, -47.259, -48.408], dtype=float32), 10.985739), ('CZ', array([ -8.77 , -51.939, -49.494], dtype=float32), 10.99609), ('CB', array([-21.   , -44.631, -58.181], dtype=float32), 11.05055), ('O', array([-12.609, -44.85 , -53.716], dtype=float32), 11.062759), ('CB', array([ -9.422, -46.452, -57.952], dtype=float32), 11.170088), ('CA', array([-20.115, -44.439, -59.416], dtype=float32), 11.184838), ('C3', array([-16.154, -46.111, -49.137], dtype=float32), 11.323953), ('O', array([-12.842, -44.105, -57.096], dtype=float32), 11.335104), ('NE', array([ -9.276, -52.333, -48.33 ], dtype=float32), 11.341551), ('OD1', array([ -7.411, -49.114, -53.411], dtype=float32), 11.350995), ('O', array([-17.908, -45.595, -63.159], dtype=float32), 11.354761), ('O', array([-24.269, -46.48 , -59.016], dtype=float32), 11.399946), ('O', array([ -6.774, -49.104, -56.646], dtype=float32), 11.486726), ('CD', array([-10.129, -51.485, -47.5  ], dtype=float32), 11.639913), ('N', array([-10.729, -44.77 , -56.692], dtype=float32), 11.647935), ('CG', array([-10.987, -52.287, -46.544], dtype=float32), 11.76137), ('OD2', array([-14.112, -47.787, -47.295], dtype=float32), 11.809386), ('C', array([-11.775, -43.984, -56.471], dtype=float32), 11.843404), ('OD2', array([ -7.885, -48.772, -51.296], dtype=float32), 11.897919), ('C', array([-19.172, -43.258, -59.233], dtype=float32), 12.014432), ('CG', array([ -7.43 , -48.389, -52.393], dtype=float32), 12.016978), ('C', array([-11.511, -44.349, -53.447], dtype=float32), 12.019963)]\n",
      "A\n"
     ]
    }
   ],
   "source": [
    "\n",
    "\n",
    "\n",
    "pdbl = PDBList() \n",
    "pdbl.retrieve_pdb_file('5CEG', pdir = '.', file_format = 'pdb')\n",
    "parser = PDBParser(PERMISSIVE = True, QUIET = True) \n",
    "data = parser.get_structure(\"5CEG\",\"pdb5ceg.ent\")\n",
    "model = list(data.get_models())[0]\n",
    "coords_oi, neighbors, label = get_atoms_neighbor(model, 'A', 10)\n",
    "print(coords_oi)\n",
    "print(neighbors)\n",
    "print(label)"
   ]
  },
  {
   "cell_type": "code",
   "execution_count": null,
   "metadata": {
    "colab": {
     "base_uri": "https://localhost:8080/"
    },
    "id": "2aOljHaLS-zu",
    "outputId": "8a1402cc-8040-440a-9fbe-b28a169cc78c"
   },
   "outputs": [
    {
     "name": "stdout",
     "output_type": "stream",
     "text": [
      "{'O', 'N', 'C', 'S'}\n"
     ]
    }
   ],
   "source": [
    "\n",
    "print(set([n[0][0] for n in neighbors]))"
   ]
  },
  {
   "cell_type": "code",
   "execution_count": null,
   "metadata": {
    "colab": {
     "base_uri": "https://localhost:8080/",
     "height": 316
    },
    "id": "--yW_VIDDhVK",
    "outputId": "adcf3636-4ce1-4623-a857-6c36c4920f71"
   },
   "outputs": [
    {
     "name": "stdout",
     "output_type": "stream",
     "text": [
      "Structure exists: './pdb5ceg.ent' \n",
      "[<Model id=0>]\n"
     ]
    },
    {
     "data": {
      "image/png": "[encoded data removed]",
      "text/plain": [
       "<Figure size 432x288 with 1 Axes>"
      ]
     },
     "metadata": {
      "needs_background": "light"
     },
     "output_type": "display_data"
    }
   ],
   "source": [
    "# check what the N-ca, ca-c angles are across different residues. How similar are these angles?\n",
    "\n",
    "all_angles = []\n",
    "\n",
    "pdbl = PDBList() \n",
    "pdbl.retrieve_pdb_file('5CEG', pdir = '.', file_format = 'pdb')\n",
    "parser = PDBParser(PERMISSIVE = True, QUIET = True) \n",
    "data = parser.get_structure(\"5CEG\",\"pdb5ceg.ent\")\n",
    "model = data.get_models()\n",
    "models = list(model)\n",
    "print(models)\n",
    "chains = list(models[0].get_chains())\n",
    "for chain_oi in chains:\n",
    "    residues = list(chain_oi.get_residues())\n",
    "    for res_oi in residues:  \n",
    "        if res_oi.id[0] == ' ':\n",
    "            #print(res_oi.full_id)\n",
    "            atoms_oi = list(res_oi.get_atoms())\n",
    "            #print(atoms_oi)\n",
    "            n_oi = [atom for atom in atoms_oi if atom.id == 'N'][0]\n",
    "            ca_oi = [atom for atom in atoms_oi if atom.id == 'CA'][0]\n",
    "            c_oi = [atom for atom in atoms_oi if atom.id == 'C'][0]\n",
    "\n",
    "            n_oi_coord = n_oi.coord\n",
    "            ca_oi_coord = ca_oi.coord\n",
    "            c_oi_coord = c_oi.coord\n",
    "\n",
    "            angle = angle_2_vecs(n_oi_coord-ca_oi_coord, ca_oi_coord-c_oi_coord)\n",
    "            all_angles.append(angle)\n",
    "\n",
    "\n",
    "plt.figure()\n",
    "plt.hist(all_angles)\n",
    "plt.title('distribution of angles N-CA and CA-C in 5CEG')\n",
    "plt.show()\n"
   ]
  },
  {
   "cell_type": "code",
   "execution_count": null,
   "metadata": {
    "id": "xuK4iltxskdA"
   },
   "outputs": [],
   "source": [
    "import timeit"
   ]
  },
  {
   "cell_type": "code",
   "execution_count": null,
   "metadata": {
    "colab": {
     "base_uri": "https://localhost:8080/"
    },
    "id": "wkThu9VjB0nw",
    "outputId": "2490b13c-76a2-494c-fdc1-0607f93cf86a"
   },
   "outputs": [
    {
     "data": {
      "text/plain": [
       "array([3., 4., 5.])"
      ]
     },
     "execution_count": 45,
     "metadata": {},
     "output_type": "execute_result"
    }
   ],
   "source": [
    "\n",
    "\n",
    "\n",
    "\n",
    "get_stand_coords(np.array([1,0,0]),\n",
    "                 np.array([0,0,0]),\n",
    "                 np.array([0,1,0]),\n",
    "                 np.array([3,4,5]))"
   ]
  },
  {
   "cell_type": "code",
   "execution_count": null,
   "metadata": {
    "colab": {
     "base_uri": "https://localhost:8080/"
    },
    "id": "M7mKqNMUkEEk",
    "outputId": "9b944dd4-8b2d-432b-983b-0b29953e45da"
   },
   "outputs": [
    {
     "name": "stdout",
     "output_type": "stream",
     "text": [
      "Structure exists: './pdb5ceg.ent' \n",
      "[<Model id=0>]\n",
      "100\n",
      "[<Residue ARG het=  resseq=68 icode= >, <Residue ARG het=  resseq=58 icode= >, <Residue GLY het=  resseq=82 icode= >, <Residue ARG het=  resseq=101 icode= >, <Residue PHE het=  resseq=103 icode= >, <Residue VAL het=  resseq=84 icode= >, <Residue PRO het=  resseq=71 icode= >, <Residue GLU het=  resseq=74 icode= >, <Residue GLU het=  resseq=66 icode= >, <Residue LYS het=  resseq=45 icode= >, <Residue ALA het=  resseq=16 icode= >, <Residue ARG het=  resseq=49 icode= >, <Residue ASP het=  resseq=78 icode= >, <Residue ALA het=  resseq=39 icode= >, <Residue ALA het=  resseq=76 icode= >, <Residue LEU het=  resseq=15 icode= >, <Residue VAL het=  resseq=65 icode= >, <Residue ASP het=  resseq=31 icode= >, <Residue LEU het=  resseq=44 icode= >, <Residue GLU het=  resseq=38 icode= >, <Residue ARG het=  resseq=96 icode= >, <Residue ASN het=  resseq=3 icode= >, <Residue ASP het=  resseq=31 icode= >, <Residue LEU het=  resseq=85 icode= >, <Residue ARG het=  resseq=82 icode= >, <Residue PRO het=  resseq=77 icode= >, <Residue GLN het=  resseq=14 icode= >, <Residue GLU het=  resseq=80 icode= >, <Residue VAL het=  resseq=6 icode= >, <Residue PRO het=  resseq=83 icode= >, <Residue GLU het=  resseq=38 icode= >, <Residue TRP het=  resseq=86 icode= >, <Residue GLU het=  resseq=33 icode= >, <Residue ARG het=  resseq=49 icode= >, <Residue ASP het=  resseq=81 icode= >, <Residue VAL het=  resseq=84 icode= >, <Residue ASP het=  resseq=51 icode= >, <Residue MET het=  resseq=21 icode= >, <Residue ALA het=  resseq=17 icode= >, <Residue LEU het=  resseq=5 icode= >, <Residue ASP het=  resseq=98 icode= >, <Residue ILE het=  resseq=34 icode= >, <Residue VAL het=  resseq=92 icode= >, <Residue THR het=  resseq=10 icode= >, <Residue VAL het=  resseq=4 icode= >, <Residue MET het=  resseq=50 icode= >, <Residue GLU het=  resseq=27 icode= >, <Residue GLU het=  resseq=24 icode= >, <Residue ARG het=  resseq=4 icode= >, <Residue PHE het=  resseq=74 icode= >, <Residue ILE het=  resseq=16 icode= >, <Residue PRO het=  resseq=83 icode= >, <Residue ALA het=  resseq=41 icode= >, <Residue GLU het=  resseq=27 icode= >, <Residue TYR het=  resseq=33 icode= >, <Residue ASP het=  resseq=56 icode= >, <Residue LEU het=  resseq=42 icode= >, <Residue TRP het=  resseq=86 icode= >, <Residue ASP het=  resseq=94 icode= >, <Residue LEU het=  resseq=72 icode= >, <Residue LEU het=  resseq=77 icode= >, <Residue VAL het=  resseq=4 icode= >, <Residue ARG het=  resseq=40 icode= >, <Residue VAL het=  resseq=4 icode= >, <Residue LEU het=  resseq=48 icode= >, <Residue ARG het=  resseq=54 icode= >, <Residue GLN het=  resseq=83 icode= >, <Residue ASP het=  resseq=14 icode= >, <Residue LYS het=  resseq=64 icode= >, <Residue ALA het=  resseq=44 icode= >, <Residue PRO het=  resseq=13 icode= >, <Residue ALA het=  resseq=39 icode= >, <Residue ASP het=  resseq=78 icode= >, <Residue VAL het=  resseq=84 icode= >, <Residue GLU het=  resseq=37 icode= >, <Residue ASP het=  resseq=61 icode= >, <Residue GLU het=  resseq=66 icode= >, <Residue VAL het=  resseq=11 icode= >, <Residue ALA het=  resseq=31 icode= >, <Residue ARG het=  resseq=57 icode= >, <Residue ASP het=  resseq=52 icode= >, <Residue TYR het=  resseq=19 icode= >, <Residue PRO het=  resseq=59 icode= >, <Residue PRO het=  resseq=55 icode= >, <Residue ARG het=  resseq=62 icode= >, <Residue MET het=  resseq=21 icode= >, <Residue ARG het=  resseq=91 icode= >, <Residue ALA het=  resseq=10 icode= >, <Residue ALA het=  resseq=65 icode= >, <Residue ASP het=  resseq=80 icode= >, <Residue VAL het=  resseq=6 icode= >, <Residue GLU het=  resseq=5 icode= >, <Residue ASP het=  resseq=41 icode= >, <Residue TYR het=  resseq=34 icode= >, <Residue VAL het=  resseq=90 icode= >, <Residue ALA het=  resseq=2 icode= >, <Residue ARG het=  resseq=28 icode= >, <Residue LEU het=  resseq=64 icode= >, <Residue VAL het=  resseq=39 icode= >, <Residue ALA het=  resseq=65 icode= >]\n"
     ]
    }
   ],
   "source": [
    "# take 100 random residues, get their neighbors and coordinates, transform them, get their labels\n",
    "# and make a training dataset.\n",
    "\n",
    "\n",
    "def get_x_train(model, n_res):\n",
    "\n",
    "    chains = list(model.get_chains())\n",
    "\n",
    "    all_residues=[]\n",
    "    for chain in chains:\n",
    "        all_residues += chain.get_residues()\n",
    "\n",
    "    res_wo_het = [res for res in all_residues if res.id[0] == ' ']\n",
    "\n",
    "    random_residues = random.choices(res_wo_het, k=n_res)\n",
    "    print(len(random_residues))\n",
    "    print(random_residues)\n",
    "\n",
    "    all_ns = []\n",
    "    all_y = []\n",
    "    for res in random_residues:\n",
    "        chain = res.full_id[2] # full id is ('5CEG', 0, 'C', (' ', 10, ' '))\n",
    "        resn = res.full_id[3][1]\n",
    "        bb_coords, ns, label =  get_atoms_neighbor(model, chain, resn, n_neighbours = 80)\n",
    "\n",
    "        # concatenate all these\n",
    "        # get the one hot encoding of amino acid types\n",
    "        x_atom = np.stack([atom_to_oh(n[0][0]) for n in ns])\n",
    "\n",
    "        # todo: transform each neighbor into new coordinates\n",
    "        x_pos = np.stack([n[1] - np.array(bb_coords) for n in ns])\n",
    "        x_pos.shape\n",
    "\n",
    "        # append the distnces\n",
    "        x_d = np.array([n[2] for n in ns]).T\n",
    "        x_d = x_d.reshape(-1,1)\n",
    "        x_d.shape\n",
    "\n",
    "        x_all = np.concatenate([ x2, x1, x_d], axis=1)\n",
    "        x_all.shape\n",
    "                \n",
    "\n",
    "        # transform label into single letter codes.\n",
    "        #y = aa_to_oh(label)\n",
    "        y = aa_to_idx(label)\n",
    "\n",
    "        all_ns.append(x_all)\n",
    "        all_y.append([y])\n",
    "\n",
    "    return all_ns, all_y\n",
    "\n",
    "pdb_id = '5CEG'\n",
    "pdbl = PDBList() \n",
    "pdbl.retrieve_pdb_file(pdb_id, pdir = '.', file_format = 'pdb')\n",
    "parser = PDBParser(PERMISSIVE = True, QUIET = True) \n",
    "data = parser.get_structure(pdb_id,\"pdb\"+pdb_id.lower()+\".ent\")\n",
    "models = list(data.get_models())\n",
    "print(models)\n",
    "m= models[0]\n",
    "\n",
    "all_x, all_y = get_x_train(m,100)\n"
   ]
  },
  {
   "cell_type": "code",
   "execution_count": null,
   "metadata": {
    "colab": {
     "base_uri": "https://localhost:8080/"
    },
    "id": "kFs_QC9fs16L",
    "outputId": "33fac2b1-7c09-448e-9912-52424346eb49"
   },
   "outputs": [
    {
     "data": {
      "text/plain": [
       "100"
      ]
     },
     "execution_count": 102,
     "metadata": {},
     "output_type": "execute_result"
    }
   ],
   "source": [
    "len(x)"
   ]
  },
  {
   "cell_type": "code",
   "execution_count": null,
   "metadata": {
    "id": "8IyU8fWHwpqj"
   },
   "outputs": [],
   "source": [
    "# making a fully connected edge index between all 80 atoms\n",
    "n_nodes = x[0].shape[0]\n",
    "n_nodes\n",
    "\n",
    "r2 = np.repeat(np.array(range(n_nodes)), n_nodes) # gives [0,0,0, ..., 79, 79, 79]\n",
    "r1 = np.array(list(range(n_nodes))*n_nodes) # gives [0,1,2,3, ... 77, 78, 79]\n",
    "\n",
    "edge_index = np.stack([r1, r2])\n"
   ]
  },
  {
   "cell_type": "code",
   "execution_count": null,
   "metadata": {
    "colab": {
     "base_uri": "https://localhost:8080/"
    },
    "id": "nH25j__o6e3n",
    "outputId": "bfa04b8c-ac10-4d81-fcbb-c5397ee3a2eb"
   },
   "outputs": [
    {
     "name": "stdout",
     "output_type": "stream",
     "text": [
      "Structure exists: './pdb5ceg.ent' \n"
     ]
    },
    {
     "data": {
      "text/plain": [
       "('O', array([-17.358, -49.744, -55.545], dtype=float32), 5.0827355)"
      ]
     },
     "execution_count": 51,
     "metadata": {},
     "output_type": "execute_result"
    }
   ],
   "source": [
    "'''\n",
    "pdbl = PDBList() \n",
    "pdbl.retrieve_pdb_file('5CEG', pdir = '.', file_format = 'pdb')\n",
    "parser = PDBParser(PERMISSIVE = True, QUIET = True) \n",
    "data = parser.get_structure(\"5CEG\",\"pdb5ceg.ent\")\n",
    "model = list(data.get_models())[0]\n",
    "\n",
    "bb_coords, ns, label = get_atoms_neighbor(model, 'A', 10, n_neighbours = 80)\n",
    "ns[0]\n",
    "'''"
   ]
  },
  {
   "cell_type": "markdown",
   "metadata": {
    "id": "cAv2Ltd8zqH3"
   },
   "source": [
    "# proteinnet"
   ]
  },
  {
   "cell_type": "code",
   "execution_count": null,
   "metadata": {
    "id": "gDaklblQUbK1"
   },
   "outputs": [],
   "source": [
    "# make a message passing layer that has\n",
    "#node features: position+atom type + distance to amino acid of interest\n",
    "#edge features: distances between atoms"
   ]
  },
  {
   "cell_type": "code",
   "execution_count": null,
   "metadata": {
    "colab": {
     "base_uri": "https://localhost:8080/"
    },
    "id": "bdS45lH-Gggd",
    "outputId": "3bb87bb1-ad34-4e6c-d2c3-8b5fad29bcc7"
   },
   "outputs": [
    {
     "name": "stdout",
     "output_type": "stream",
     "text": [
      "Epoch: 00, Loss: 0.0290\n",
      "Epoch: 01, Loss: 0.0069\n",
      "Epoch: 02, Loss: 0.1140\n",
      "Epoch: 03, Loss: 0.0005\n",
      "Epoch: 04, Loss: 0.0580\n",
      "Epoch: 05, Loss: 0.0444\n",
      "Epoch: 06, Loss: 0.0538\n",
      "Epoch: 07, Loss: 0.0513\n",
      "Epoch: 08, Loss: 0.0426\n",
      "Epoch: 09, Loss: 0.0474\n",
      "Epoch: 10, Loss: 0.0422\n",
      "Epoch: 11, Loss: 0.0299\n",
      "Epoch: 12, Loss: 0.0474\n",
      "Epoch: 13, Loss: 0.0355\n",
      "Epoch: 14, Loss: 0.0337\n",
      "Epoch: 15, Loss: 0.0447\n",
      "Epoch: 16, Loss: 0.0270\n",
      "Epoch: 17, Loss: 0.0394\n",
      "Epoch: 18, Loss: 0.0410\n",
      "Epoch: 19, Loss: 0.0306\n",
      "Epoch: 20, Loss: 0.0315\n",
      "Epoch: 21, Loss: 0.0536\n",
      "Epoch: 22, Loss: 0.0311\n",
      "Epoch: 23, Loss: 0.0327\n",
      "Epoch: 24, Loss: 0.0302\n",
      "Epoch: 25, Loss: 0.0416\n",
      "Epoch: 26, Loss: 0.0544\n",
      "Epoch: 27, Loss: 0.0310\n",
      "Epoch: 28, Loss: 0.0298\n",
      "Epoch: 29, Loss: 0.0371\n",
      "Epoch: 30, Loss: 0.0278\n",
      "Epoch: 31, Loss: 0.0557\n",
      "Epoch: 32, Loss: 0.0254\n",
      "Epoch: 33, Loss: 0.0295\n",
      "Epoch: 34, Loss: 0.0317\n",
      "Epoch: 35, Loss: 0.0286\n",
      "Epoch: 36, Loss: 0.0305\n",
      "Epoch: 37, Loss: 0.0550\n",
      "Epoch: 38, Loss: 0.0363\n",
      "Epoch: 39, Loss: 0.0336\n",
      "Epoch: 40, Loss: 0.0270\n",
      "Epoch: 41, Loss: 0.0589\n",
      "Epoch: 42, Loss: 0.0282\n",
      "Epoch: 43, Loss: 0.0623\n",
      "Epoch: 44, Loss: 0.0290\n",
      "Epoch: 45, Loss: 0.0434\n",
      "Epoch: 46, Loss: 0.0282\n",
      "Epoch: 47, Loss: 0.0286\n",
      "Epoch: 48, Loss: 0.0362\n",
      "Epoch: 49, Loss: 0.0390\n",
      "Epoch: 50, Loss: 0.0416\n",
      "Epoch: 51, Loss: 0.0367\n",
      "Epoch: 52, Loss: 0.0298\n",
      "Epoch: 53, Loss: 0.0269\n",
      "Epoch: 54, Loss: 0.0501\n",
      "Epoch: 55, Loss: 0.0322\n",
      "Epoch: 56, Loss: 0.0351\n",
      "Epoch: 57, Loss: 0.0415\n",
      "Epoch: 58, Loss: 0.0316\n",
      "Epoch: 59, Loss: 0.0344\n",
      "Epoch: 60, Loss: 0.0339\n",
      "Epoch: 61, Loss: 0.0295\n",
      "Epoch: 62, Loss: 0.0351\n",
      "Epoch: 63, Loss: 0.0288\n",
      "Epoch: 64, Loss: 0.0316\n",
      "Epoch: 65, Loss: 0.0344\n",
      "Epoch: 66, Loss: 0.0444\n",
      "Epoch: 67, Loss: 0.0259\n",
      "Epoch: 68, Loss: 0.0518\n",
      "Epoch: 69, Loss: 0.0312\n",
      "Epoch: 70, Loss: 0.0370\n",
      "Epoch: 71, Loss: 0.0304\n",
      "Epoch: 72, Loss: 0.0258\n",
      "Epoch: 73, Loss: 0.0258\n",
      "Epoch: 74, Loss: 0.0254\n",
      "Epoch: 75, Loss: 0.0251\n",
      "Epoch: 76, Loss: 0.0244\n",
      "Epoch: 77, Loss: 0.0242\n",
      "Epoch: 78, Loss: 0.0289\n",
      "Epoch: 79, Loss: 0.0326\n",
      "Epoch: 80, Loss: 0.0225\n",
      "Epoch: 81, Loss: 0.0686\n",
      "Epoch: 82, Loss: 0.0363\n",
      "Epoch: 83, Loss: 0.0357\n",
      "Epoch: 84, Loss: 0.0317\n",
      "Epoch: 85, Loss: 0.0524\n",
      "Epoch: 86, Loss: 0.0302\n",
      "Epoch: 87, Loss: 0.0260\n",
      "Epoch: 88, Loss: 0.0257\n",
      "Epoch: 89, Loss: 0.0238\n",
      "Epoch: 90, Loss: 0.0264\n",
      "Epoch: 91, Loss: 0.0254\n",
      "Epoch: 92, Loss: 0.0235\n",
      "Epoch: 93, Loss: 0.0566\n",
      "Epoch: 94, Loss: 0.0264\n",
      "Epoch: 95, Loss: 0.0231\n",
      "Epoch: 96, Loss: 0.0267\n",
      "Epoch: 97, Loss: 0.0367\n",
      "Epoch: 98, Loss: 0.0253\n",
      "Epoch: 99, Loss: 0.0216\n"
     ]
    }
   ],
   "source": [
    "\n",
    "from torch.nn import Sequential, Linear, ReLU\n",
    "from torch_geometric.nn import MessagePassing\n",
    "\n",
    "import torch\n",
    "import torch.nn.functional as F\n",
    "from torch_cluster import knn_graph\n",
    "from torch_geometric.nn import global_max_pool\n",
    "\n",
    "# this is very much like the edge conv layer in the example:\n",
    "#https://pytorch-geometric.readthedocs.io/en/latest/notes/create_gnn.html\n",
    "\n",
    "class ProteinNetLayer1(MessagePassing):\n",
    "    def __init__(self, in_channels, out_channels, edge_index):\n",
    "        # Message passing with \"max\" aggregation.\n",
    "        super(ProteinNetLayer1, self).__init__('max')\n",
    "        \n",
    "        # Initialization of the MLP:\n",
    "        # Here, the number of input features correspond to the hidden node\n",
    "        # dimensionality plus point dimensionality (=3).\n",
    "        # in channels *2 so can concatenate the neighbor node feature and the satial relation\n",
    "        self.mlp = Sequential(Linear(in_channels +3, out_channels), # 32 out dimensions for each datapoint\n",
    "                              ReLU(), # applying relu elementwise. maintains 32 out dimensions\n",
    "                              Linear(out_channels, out_channels))\n",
    "        self.edge_index = edge_index\n",
    "        \n",
    "    def forward(self, h, x):\n",
    "        # Start propagating messages.\n",
    "        # initial call to propagate, takes edge_indices and all additional data \n",
    "        # to construct messages and update node embeddings\n",
    "        #can do bipartite graphs too by passing a tuple.\n",
    "\n",
    "        # propagate() internally calls \n",
    "        #   message()   defined below\n",
    "        #   aggregate() defined above by 'max'\n",
    "        #   update():   update node embeddings in analogy to gamma. takes output \n",
    "        #               of aggregation as first argument and any arguent which was \n",
    "        #               initially passed to propagate()\n",
    "        edge_index = self.edge_index\n",
    "        return self.propagate(edge_index, h=h, x=x) \n",
    "    \n",
    "    def message(self, h_j, x_j, x_i):\n",
    "        # constructs messages to node i in analogy to phy for each edge\n",
    "        # can take any argument that was initially passed to propagated\n",
    "        # in addition, tensors passed to propagate() can be mapped to the respectives\n",
    "        # nodes i and j by appending _i or _j.\n",
    "\n",
    "\n",
    "        # h_j defines the features of neighboring nodes as shape [num_edges, in_channels]. this is a lifted tensor.\n",
    "        # pos_j defines the position of neighboring nodes as shape [num_edges, 3], so is shape [20480 = 10* 128 * 16, 3]\n",
    "        # pos_i defines the position of central nodes as shape [num_edges, 3], so is shape [20480 = 10* 128 * 16, 3]\n",
    "        \n",
    "        input = x_j[:,:3] - x_i[:,:3]  # Compute spatial relation between all 2 nodes\n",
    "        #print(input.shape)\n",
    "        if h_j is not None:\n",
    "            # In the first layer, we may not have any hidden node features,\n",
    "            # so we only combine them in case they are present.\n",
    "            #print(h_j.shape, h_j)\n",
    "            input = torch.cat([h_j, input], dim=-1)\n",
    "        #print(input.shape)\n",
    "        return self.mlp(input)  # Apply our final MLP.\n",
    "\n",
    "class ProteinNet1(torch.nn.Module):\n",
    "    def __init__(self, in_dims, out_dims, edge_index):\n",
    "        super(ProteinNet1, self).__init__()\n",
    "\n",
    "        torch.manual_seed(12345)\n",
    "        self.conv1 = ProteinNetLayer1(in_dims, 32, edge_index)\n",
    "        self.conv2 = ProteinNetLayer1(32, 32, edge_index)\n",
    "        self.classifier = Linear(32, out_dims)\n",
    "        \n",
    "    def forward(self, x, batch):\n",
    "        # pos is the [10*128=1280, 3] position vector # 128 samples per example\n",
    "        # batch is [1280] vector that says which point belongs to which example ([0,0,0, ... , 9,9])\n",
    "        # and this function call returns the output of classifier (the linear output)\n",
    "\n",
    "\n",
    "        # Compute the kNN graph:\n",
    "        # Here, we need to pass the batch vector to the function call in order\n",
    "        # to prevent creating edges between points of different examples.\n",
    "        # We also add `loop=True` which will add self-loops to the graph in\n",
    "        # order to preserve central point information.\n",
    "        #edge_index = knn_graph(pos, k=16, batch=batch, loop=True) \n",
    "        # edge_index is a [2,16*128 * 10= 20480] matrix saying which 2 nodes are connected\n",
    "        \n",
    "        # 3. Start bipartite message passing.\n",
    "        # h will change, but position doesn't\n",
    "        h = self.conv1(h=x, x=x) # passing it the positions, and connections.\n",
    "        h = h.relu() # what does this do?\n",
    "        h = self.conv2(h=h, x=x)\n",
    "        h = h.relu()\n",
    "\n",
    "        # 4. Global Pooling.\n",
    "        #print('x_shape', x.shape)\n",
    "        #print('h_shape', h.shape)\n",
    "        \n",
    "        h = global_max_pool(h, batch = batch)  # [num_examples, hidden_channels]\n",
    "        \n",
    "        # 5. Classifier.\n",
    "        return self.classifier(h)\n",
    "\n",
    "\n",
    "model = ProteinNet1(in_dims =8, out_dims = len(alphabet), edge_index = torch.from_numpy(edge_index))\n",
    "optimizer = torch.optim.Adam(model.parameters(), lr=0.01)\n",
    "criterion = torch.nn.CrossEntropyLoss()  # Define loss criterion.\n",
    "\n",
    "def train(model, optimizer, x, y):\n",
    "    model.train()\n",
    "    \n",
    "    total_loss = 0\n",
    "    optimizer.zero_grad()  # Clear gradients.\n",
    "\n",
    "    batch = torch.tensor([0]*x.shape[0])\n",
    "    #print(batch.shape)\n",
    "    logits = model(x.float(), batch)  # Forward pass.\n",
    "    #print('logits',logits.shape, logits)\n",
    "    loss = criterion(logits, y)  # Loss computation.\n",
    "    #print('loss', loss)\n",
    "    loss.backward()  # Backward pass.\n",
    "    optimizer.step()  # Update model parameters.\n",
    "    total_loss += loss.item()\n",
    "\n",
    "    return total_loss / len(x)\n",
    "\n",
    "\n",
    "for epoch in range(0, len(all_x)):\n",
    "    x_train = torch.from_numpy(all_x[epoch])\n",
    "    y_train = torch.from_numpy(np.array(all_y[epoch]))\n",
    "    #print('y_train',y_train.shape, y_train)\n",
    "    #print('x_train', x_train.shape)\n",
    "    loss = train(model, optimizer, x_train, y_train)\n",
    "    print(f'Epoch: {epoch:02d}, Loss: {loss:.4f}')"
   ]
  },
  {
   "cell_type": "code",
   "execution_count": null,
   "metadata": {
    "colab": {
     "base_uri": "https://localhost:8080/"
    },
    "id": "dmva3VPZ78M6",
    "outputId": "0b976b44-65e2-4677-dbe5-68178be8f662"
   },
   "outputs": [
    {
     "name": "stdout",
     "output_type": "stream",
     "text": [
      "tensor([[-1.3405, -0.2251,  0.2040,  0.8747,  0.1143],\n",
      "        [-0.5788,  0.8519,  1.8421, -1.1253,  0.2136],\n",
      "        [ 2.6940,  0.8644,  0.4634,  0.0028, -2.2809]], requires_grad=True)\n",
      "tensor([3, 2, 4])\n"
     ]
    }
   ],
   "source": [
    "# Example of target with class indices # this works.\n",
    "from torch import nn\n",
    "loss = nn.CrossEntropyLoss()\n",
    "input = torch.randn(3, 5, requires_grad=True)\n",
    "target = torch.empty(3, dtype=torch.long).random_(5)\n",
    "output = loss(input, target)\n",
    "output.backward()\n",
    "print(input)\n",
    "print(target)"
   ]
  },
  {
   "cell_type": "code",
   "execution_count": null,
   "metadata": {
    "colab": {
     "base_uri": "https://localhost:8080/",
     "height": 477
    },
    "id": "NJbdkR_38Ds4",
    "outputId": "7f8a9e59-6e90-4393-d8d1-4d3102521933"
   },
   "outputs": [
    {
     "name": "stdout",
     "output_type": "stream",
     "text": [
      "tensor([[-1.5514, -1.0154,  0.4368,  0.1970,  0.0982],\n",
      "        [ 0.9143, -0.3493, -1.7955,  0.0173, -0.8788],\n",
      "        [ 1.9122,  0.1722,  1.2774,  0.2898,  0.6558]], requires_grad=True)\n",
      "tensor([[0.4159, 0.1464, 0.1386, 0.1604, 0.1388],\n",
      "        [0.2023, 0.1465, 0.2610, 0.2095, 0.1807],\n",
      "        [0.1899, 0.1788, 0.0505, 0.3830, 0.1978]])\n"
     ]
    },
    {
     "ename": "RuntimeError",
     "evalue": "ignored",
     "output_type": "error",
     "traceback": [
      "\u001b[0;31m---------------------------------------------------------------------------\u001b[0m",
      "\u001b[0;31mRuntimeError\u001b[0m                              Traceback (most recent call last)",
      "\u001b[0;32m<ipython-input-164-70f7fee54a67>\u001b[0m in \u001b[0;36m<module>\u001b[0;34m()\u001b[0m\n\u001b[1;32m      5\u001b[0m \u001b[0mprint\u001b[0m\u001b[0;34m(\u001b[0m\u001b[0minput\u001b[0m\u001b[0;34m)\u001b[0m\u001b[0;34m\u001b[0m\u001b[0;34m\u001b[0m\u001b[0m\n\u001b[1;32m      6\u001b[0m \u001b[0mprint\u001b[0m\u001b[0;34m(\u001b[0m\u001b[0mtarget\u001b[0m\u001b[0;34m)\u001b[0m\u001b[0;34m\u001b[0m\u001b[0;34m\u001b[0m\u001b[0m\n\u001b[0;32m----> 7\u001b[0;31m \u001b[0moutput\u001b[0m \u001b[0;34m=\u001b[0m \u001b[0mloss\u001b[0m\u001b[0;34m(\u001b[0m\u001b[0minput\u001b[0m\u001b[0;34m,\u001b[0m \u001b[0mtarget\u001b[0m\u001b[0;34m)\u001b[0m\u001b[0;34m\u001b[0m\u001b[0;34m\u001b[0m\u001b[0m\n\u001b[0m\u001b[1;32m      8\u001b[0m \u001b[0moutput\u001b[0m\u001b[0;34m.\u001b[0m\u001b[0mbackward\u001b[0m\u001b[0;34m(\u001b[0m\u001b[0;34m)\u001b[0m\u001b[0;34m\u001b[0m\u001b[0;34m\u001b[0m\u001b[0m\n",
      "\u001b[0;32m/usr/local/lib/python3.7/dist-packages/torch/nn/modules/module.py\u001b[0m in \u001b[0;36m_call_impl\u001b[0;34m(self, *input, **kwargs)\u001b[0m\n\u001b[1;32m   1049\u001b[0m         if not (self._backward_hooks or self._forward_hooks or self._forward_pre_hooks or _global_backward_hooks\n\u001b[1;32m   1050\u001b[0m                 or _global_forward_hooks or _global_forward_pre_hooks):\n\u001b[0;32m-> 1051\u001b[0;31m             \u001b[0;32mreturn\u001b[0m \u001b[0mforward_call\u001b[0m\u001b[0;34m(\u001b[0m\u001b[0;34m*\u001b[0m\u001b[0minput\u001b[0m\u001b[0;34m,\u001b[0m \u001b[0;34m**\u001b[0m\u001b[0mkwargs\u001b[0m\u001b[0;34m)\u001b[0m\u001b[0;34m\u001b[0m\u001b[0;34m\u001b[0m\u001b[0m\n\u001b[0m\u001b[1;32m   1052\u001b[0m         \u001b[0;31m# Do not call functions when jit is used\u001b[0m\u001b[0;34m\u001b[0m\u001b[0;34m\u001b[0m\u001b[0;34m\u001b[0m\u001b[0m\n\u001b[1;32m   1053\u001b[0m         \u001b[0mfull_backward_hooks\u001b[0m\u001b[0;34m,\u001b[0m \u001b[0mnon_full_backward_hooks\u001b[0m \u001b[0;34m=\u001b[0m \u001b[0;34m[\u001b[0m\u001b[0;34m]\u001b[0m\u001b[0;34m,\u001b[0m \u001b[0;34m[\u001b[0m\u001b[0;34m]\u001b[0m\u001b[0;34m\u001b[0m\u001b[0;34m\u001b[0m\u001b[0m\n",
      "\u001b[0;32m/usr/local/lib/python3.7/dist-packages/torch/nn/modules/loss.py\u001b[0m in \u001b[0;36mforward\u001b[0;34m(self, input, target)\u001b[0m\n\u001b[1;32m   1119\u001b[0m     \u001b[0;32mdef\u001b[0m \u001b[0mforward\u001b[0m\u001b[0;34m(\u001b[0m\u001b[0mself\u001b[0m\u001b[0;34m,\u001b[0m \u001b[0minput\u001b[0m\u001b[0;34m:\u001b[0m \u001b[0mTensor\u001b[0m\u001b[0;34m,\u001b[0m \u001b[0mtarget\u001b[0m\u001b[0;34m:\u001b[0m \u001b[0mTensor\u001b[0m\u001b[0;34m)\u001b[0m \u001b[0;34m->\u001b[0m \u001b[0mTensor\u001b[0m\u001b[0;34m:\u001b[0m\u001b[0;34m\u001b[0m\u001b[0;34m\u001b[0m\u001b[0m\n\u001b[1;32m   1120\u001b[0m         return F.cross_entropy(input, target, weight=self.weight,\n\u001b[0;32m-> 1121\u001b[0;31m                                ignore_index=self.ignore_index, reduction=self.reduction)\n\u001b[0m\u001b[1;32m   1122\u001b[0m \u001b[0;34m\u001b[0m\u001b[0m\n\u001b[1;32m   1123\u001b[0m \u001b[0;34m\u001b[0m\u001b[0m\n",
      "\u001b[0;32m/usr/local/lib/python3.7/dist-packages/torch/nn/functional.py\u001b[0m in \u001b[0;36mcross_entropy\u001b[0;34m(input, target, weight, size_average, ignore_index, reduce, reduction)\u001b[0m\n\u001b[1;32m   2822\u001b[0m     \u001b[0;32mif\u001b[0m \u001b[0msize_average\u001b[0m \u001b[0;32mis\u001b[0m \u001b[0;32mnot\u001b[0m \u001b[0;32mNone\u001b[0m \u001b[0;32mor\u001b[0m \u001b[0mreduce\u001b[0m \u001b[0;32mis\u001b[0m \u001b[0;32mnot\u001b[0m \u001b[0;32mNone\u001b[0m\u001b[0;34m:\u001b[0m\u001b[0;34m\u001b[0m\u001b[0;34m\u001b[0m\u001b[0m\n\u001b[1;32m   2823\u001b[0m         \u001b[0mreduction\u001b[0m \u001b[0;34m=\u001b[0m \u001b[0m_Reduction\u001b[0m\u001b[0;34m.\u001b[0m\u001b[0mlegacy_get_string\u001b[0m\u001b[0;34m(\u001b[0m\u001b[0msize_average\u001b[0m\u001b[0;34m,\u001b[0m \u001b[0mreduce\u001b[0m\u001b[0;34m)\u001b[0m\u001b[0;34m\u001b[0m\u001b[0;34m\u001b[0m\u001b[0m\n\u001b[0;32m-> 2824\u001b[0;31m     \u001b[0;32mreturn\u001b[0m \u001b[0mtorch\u001b[0m\u001b[0;34m.\u001b[0m\u001b[0m_C\u001b[0m\u001b[0;34m.\u001b[0m\u001b[0m_nn\u001b[0m\u001b[0;34m.\u001b[0m\u001b[0mcross_entropy_loss\u001b[0m\u001b[0;34m(\u001b[0m\u001b[0minput\u001b[0m\u001b[0;34m,\u001b[0m \u001b[0mtarget\u001b[0m\u001b[0;34m,\u001b[0m \u001b[0mweight\u001b[0m\u001b[0;34m,\u001b[0m \u001b[0m_Reduction\u001b[0m\u001b[0;34m.\u001b[0m\u001b[0mget_enum\u001b[0m\u001b[0;34m(\u001b[0m\u001b[0mreduction\u001b[0m\u001b[0;34m)\u001b[0m\u001b[0;34m,\u001b[0m \u001b[0mignore_index\u001b[0m\u001b[0;34m)\u001b[0m\u001b[0;34m\u001b[0m\u001b[0;34m\u001b[0m\u001b[0m\n\u001b[0m\u001b[1;32m   2825\u001b[0m \u001b[0;34m\u001b[0m\u001b[0m\n\u001b[1;32m   2826\u001b[0m \u001b[0;34m\u001b[0m\u001b[0m\n",
      "\u001b[0;31mRuntimeError\u001b[0m: 1D target tensor expected, multi-target not supported"
     ]
    }
   ],
   "source": [
    "\n",
    "# Example of target with class probabilities # this doesn't work.\n",
    "input = torch.randn(3, 5, requires_grad=True)\n",
    "target = torch.randn(3, 5).softmax(dim=1)\n",
    "print(input)\n",
    "print(target)\n",
    "output = loss(input, target)\n",
    "output.backward()"
   ]
  },
  {
   "cell_type": "code",
   "execution_count": null,
   "metadata": {
    "colab": {
     "base_uri": "https://localhost:8080/"
    },
    "id": "J3fIfCDsysM5",
    "outputId": "5103d0fc-3c9a-40a2-d41c-211de45eef16"
   },
   "outputs": [
    {
     "data": {
      "text/plain": [
       "torch.Size([2, 6400])"
      ]
     },
     "execution_count": 130,
     "metadata": {},
     "output_type": "execute_result"
    }
   ],
   "source": [
    "torch.from_numpy(edge_index)\n"
   ]
  },
  {
   "cell_type": "markdown",
   "metadata": {
    "id": "Sqo-S-9nMop1"
   },
   "source": [
    "## example point net "
   ]
  },
  {
   "cell_type": "code",
   "execution_count": null,
   "metadata": {
    "colab": {
     "base_uri": "https://localhost:8080/",
     "height": 346
    },
    "id": "IL3j-6m0Ugdd",
    "outputId": "782b60e6-7588-4e44-9697-3dce829dd076"
   },
   "outputs": [
    {
     "ename": "NameError",
     "evalue": "ignored",
     "output_type": "error",
     "traceback": [
      "\u001b[0;31m---------------------------------------------------------------------------\u001b[0m",
      "\u001b[0;31mNameError\u001b[0m                                 Traceback (most recent call last)",
      "\u001b[0;32m<ipython-input-6-209ebcfa57f6>\u001b[0m in \u001b[0;36m<module>\u001b[0;34m()\u001b[0m\n\u001b[1;32m     70\u001b[0m \u001b[0;34m\u001b[0m\u001b[0m\n\u001b[1;32m     71\u001b[0m \u001b[0;34m\u001b[0m\u001b[0m\n\u001b[0;32m---> 72\u001b[0;31m \u001b[0mmodel\u001b[0m \u001b[0;34m=\u001b[0m \u001b[0mPointNet\u001b[0m\u001b[0;34m(\u001b[0m\u001b[0;34m)\u001b[0m\u001b[0;34m\u001b[0m\u001b[0;34m\u001b[0m\u001b[0m\n\u001b[0m\u001b[1;32m     73\u001b[0m \u001b[0mprint\u001b[0m\u001b[0;34m(\u001b[0m\u001b[0mmodel\u001b[0m\u001b[0;34m)\u001b[0m\u001b[0;34m\u001b[0m\u001b[0;34m\u001b[0m\u001b[0m\n",
      "\u001b[0;32m<ipython-input-6-209ebcfa57f6>\u001b[0m in \u001b[0;36m__init__\u001b[0;34m(self)\u001b[0m\n\u001b[1;32m     45\u001b[0m \u001b[0;34m\u001b[0m\u001b[0m\n\u001b[1;32m     46\u001b[0m         \u001b[0mtorch\u001b[0m\u001b[0;34m.\u001b[0m\u001b[0mmanual_seed\u001b[0m\u001b[0;34m(\u001b[0m\u001b[0;36m12345\u001b[0m\u001b[0;34m)\u001b[0m\u001b[0;34m\u001b[0m\u001b[0;34m\u001b[0m\u001b[0m\n\u001b[0;32m---> 47\u001b[0;31m         \u001b[0mself\u001b[0m\u001b[0;34m.\u001b[0m\u001b[0mconv1\u001b[0m \u001b[0;34m=\u001b[0m \u001b[0mPointNetLayer\u001b[0m\u001b[0;34m(\u001b[0m\u001b[0;36m3\u001b[0m\u001b[0;34m,\u001b[0m \u001b[0;36m32\u001b[0m\u001b[0;34m)\u001b[0m\u001b[0;34m\u001b[0m\u001b[0;34m\u001b[0m\u001b[0m\n\u001b[0m\u001b[1;32m     48\u001b[0m         \u001b[0mself\u001b[0m\u001b[0;34m.\u001b[0m\u001b[0mconv2\u001b[0m \u001b[0;34m=\u001b[0m \u001b[0mPointNetLayer\u001b[0m\u001b[0;34m(\u001b[0m\u001b[0;36m32\u001b[0m\u001b[0;34m,\u001b[0m \u001b[0;36m32\u001b[0m\u001b[0;34m)\u001b[0m\u001b[0;34m\u001b[0m\u001b[0;34m\u001b[0m\u001b[0m\n\u001b[1;32m     49\u001b[0m         \u001b[0mself\u001b[0m\u001b[0;34m.\u001b[0m\u001b[0mclassifier\u001b[0m \u001b[0;34m=\u001b[0m \u001b[0mLinear\u001b[0m\u001b[0;34m(\u001b[0m\u001b[0;36m32\u001b[0m\u001b[0;34m,\u001b[0m \u001b[0mdataset\u001b[0m\u001b[0;34m.\u001b[0m\u001b[0mnum_classes\u001b[0m\u001b[0;34m)\u001b[0m\u001b[0;34m\u001b[0m\u001b[0;34m\u001b[0m\u001b[0m\n",
      "\u001b[0;31mNameError\u001b[0m: name 'PointNetLayer' is not defined"
     ]
    }
   ],
   "source": [
    "from torch.nn import Sequential, Linear, ReLU\n",
    "from torch_geometric.nn import MessagePassing\n",
    "\n",
    "import torch\n",
    "import torch.nn.functional as F\n",
    "from torch_cluster import knn_graph\n",
    "from torch_geometric.nn import global_max_pool\n",
    "\n",
    "# this is very much like the edge conv layer in the example:\n",
    "#https://pytorch-geometric.readthedocs.io/en/latest/notes/create_gnn.html\n",
    "\n",
    "class PointNetLayer(MessagePassing):\n",
    "    def __init__(self, in_channels, out_channels):\n",
    "        # Message passing with \"max\" aggregation.\n",
    "        super(ProteinNetLayer, self).__init__('max')\n",
    "        \n",
    "        # Initialization of the MLP:\n",
    "        # Here, the number of input features correspond to the hidden node\n",
    "        # dimensionality plus point dimensionality (=3).\n",
    "        # in channels *2 so can concatenate the neighbor node feature and the satial relation\n",
    "        self.mlp = Sequential(Linear(in_channels *2, out_channels), \n",
    "                              ReLU(),\n",
    "                              Linear(out_channels, out_channels))\n",
    "        \n",
    "    def forward(self, h, pos, edge_index):\n",
    "        # Start propagating messages.\n",
    "        # initial call to propagate, takes edge_indices and all additional data \n",
    "        # to construct messages and update node embeddings\n",
    "        #can do bipartite graphs too by passing a tuple.\n",
    "\n",
    "        # propagate() internally calls \n",
    "        #   message()   defined below\n",
    "        #   aggregate() defined above by 'max'\n",
    "        #   update():   update node embeddings in analogy to gamma. takes output \n",
    "        #               of aggregation as first argument and any arguent which was \n",
    "        #               initially passed to propagate()\n",
    "\n",
    "        return self.propagate(edge_index, h=h, pos=pos) \n",
    "    \n",
    "    def message(self, h_j, pos_j, pos_i):\n",
    "        # constructs messages to node i in analogy to phy for each edge\n",
    "        # can take any argument that was initially passed to propagated\n",
    "        # in addition, tensors passed to propagate() can be mapped to the respectives\n",
    "        # nodes i and j by appending _i or _j.\n",
    "\n",
    "\n",
    "        # h_j defines the features of neighboring nodes as shape [num_edges, in_channels]. this is a lifted tensor.\n",
    "        # pos_j defines the position of neighboring nodes as shape [num_edges, 3], so is shape [20480 = 10* 128 * 16, 3]\n",
    "        # pos_i defines the position of central nodes as shape [num_edges, 3], so is shape [20480 = 10* 128 * 16, 3]\n",
    "        \n",
    "        input = pos_j - pos_i  # Compute spatial relation.\n",
    "\n",
    "        if h_j is not None:\n",
    "            # In the first layer, we may not have any hidden node features,\n",
    "            # so we only combine them in case they are present.\n",
    "            input = torch.cat([h_j, input], dim=-1)\n",
    "\n",
    "        return self.mlp(input)  # Apply our final MLP.\n",
    "\n",
    "\n",
    "\n",
    "\n",
    "class PointNet(torch.nn.Module):\n",
    "    def __init__(self):\n",
    "        super(PointNet, self).__init__()\n",
    "\n",
    "        torch.manual_seed(12345)\n",
    "        self.conv1 = PointNetLayer(3, 32)\n",
    "        self.conv2 = PointNetLayer(32, 32)\n",
    "        self.classifier = Linear(32, dataset.num_classes)\n",
    "        \n",
    "    def forward(self, pos, batch):\n",
    "        # pos is the [10*128=1280, 3] position vector # 128 samples per example\n",
    "        # batch is [1280] vector that says which point belongs to which example ([0,0,0, ... , 9,9])\n",
    "        # and this function call returns the output of classifier (the linear output)\n",
    "\n",
    "\n",
    "        # Compute the kNN graph:\n",
    "        # Here, we need to pass the batch vector to the function call in order\n",
    "        # to prevent creating edges between points of different examples.\n",
    "        # We also add `loop=True` which will add self-loops to the graph in\n",
    "        # order to preserve central point information.\n",
    "        edge_index = knn_graph(pos, k=16, batch=batch, loop=True) \n",
    "        # edge_index is a [2,16*128 * 10= 20480] matrix saying which 2 nodes are connected\n",
    "        \n",
    "        # 3. Start bipartite message passing.\n",
    "        h = self.conv1(h=pos, pos=pos, edge_index=edge_index) # passing it the positions, and connections.\n",
    "        h = h.relu() # what does this do?\n",
    "        h = self.conv2(h=h, pos=pos, edge_index=edge_index)\n",
    "        h = h.relu()\n",
    "\n",
    "        # 4. Global Pooling.\n",
    "        h = global_max_pool(h, batch)  # [num_examples, hidden_channels]\n",
    "        \n",
    "        # 5. Classifier.\n",
    "        return self.classifier(h)\n",
    "\n",
    "\n",
    "model = PointNet()\n",
    "print(model)"
   ]
  },
  {
   "cell_type": "markdown",
   "metadata": {
    "id": "nf3hAHcDuZOm"
   },
   "source": [
    "# train test"
   ]
  },
  {
   "cell_type": "code",
   "execution_count": null,
   "metadata": {
    "id": "rnpeCt20uasN"
   },
   "outputs": [],
   "source": []
  }
 ],
 "metadata": {
  "colab": {
   "collapsed_sections": [
    "Sqo-S-9nMop1"
   ],
   "name": "torch19.ipynb",
   "provenance": []
  },
  "kernelspec": {
   "display_name": "Python 3",
   "language": "python",
   "name": "python3"
  },
  "language_info": {
   "codemirror_mode": {
    "name": "ipython",
    "version": 3
   },
   "file_extension": ".py",
   "mimetype": "text/x-python",
   "name": "python",
   "nbconvert_exporter": "python",
   "pygments_lexer": "ipython3",
   "version": "3.7.10"
  }
 },
 "nbformat": 4,
 "nbformat_minor": 4
}
