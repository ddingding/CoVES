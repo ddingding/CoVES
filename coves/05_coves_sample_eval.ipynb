{
 "cells": [
  {
   "cell_type": "markdown",
   "id": "ec051e48-69ad-48f3-a04e-a2f195e2bbf8",
   "metadata": {},
   "source": [
    "# notebook to visualize evaluating sampled antitoxin and GFP sequences"
   ]
  },
  {
   "cell_type": "code",
   "execution_count": 13,
   "id": "b49c5de3-30a6-43d2-b940-f4e0f68c3b88",
   "metadata": {},
   "outputs": [
    {
     "name": "stdout",
     "output_type": "stream",
     "text": [
      "2.7.0\n"
     ]
    }
   ],
   "source": [
    "import pandas as pd\n",
    "import numpy as np\n",
    "import matplotlib.pyplot as plt\n",
    "from os import listdir\n",
    "import os\n",
    "import math\n",
    "from collections import Counter\n",
    "from scipy.sparse.linalg import lsmr\n",
    "from copy import deepcopy\n",
    "import tensorflow as tf\n",
    "print(tf.__version__)\n",
    "import keras\n",
    "import importlib\n",
    "import random\n",
    "\n",
    "import logomaker\n",
    "\n",
    "import sys\n",
    "sys.path.append('../src/')\n",
    "import covesTools\n",
    "importlib.reload(covesTools)\n",
    "import covesTools as ct\n",
    "\n",
    "import dataTools\n",
    "importlib.reload(dataTools)\n",
    "import dataTools as dt\n",
    "\n",
    "import regressionTools\n",
    "importlib.reload(regressionTools)\n",
    "import regressionTools as rt\n",
    "\n",
    "### get the right plt style\n",
    "plt.style.use('../src/paper_style1.mplstyle')\n",
    "\n",
    "## adding the arial font that had to be downloaded\n",
    "# following this: https://betterdatascience.com/python-matplotlib-fonts/\n",
    "import matplotlib.font_manager as font_manager\n",
    "\n",
    "# Add every font at the specified location\n",
    "font_dir = ['../src/fonts/']\n",
    "for font in font_manager.findSystemFonts(font_dir):\n",
    "    font_manager.fontManager.addfont(font)\n",
    "\n",
    "font_manager.findfont('arial') # font_manager.findfont('Arial') doesn't work\n",
    "from matplotlib import rcParams\n",
    "rcParams['font.family'] = 'arial'\n"
   ]
  },
  {
   "cell_type": "code",
   "execution_count": 2,
   "id": "35d8293e-20cf-40f1-990d-b1862503cb48",
   "metadata": {},
   "outputs": [],
   "source": [
    "dout ='../data/out/'\n"
   ]
  },
  {
   "cell_type": "markdown",
   "id": "1c689364-7508-4418-b473-5e2f767fc4ad",
   "metadata": {},
   "source": [
    "# AT 10 position sampled sequence evaluation"
   ]
  },
  {
   "cell_type": "code",
   "execution_count": 1,
   "id": "4b1e579d-aca9-4de6-9ee0-b25d1cad1bd6",
   "metadata": {},
   "outputs": [
    {
     "name": "stdout",
     "output_type": "stream",
     "text": [
      "/n/groups/marks/users/david/github/CoVES/coves\n"
     ]
    }
   ],
   "source": [
    "! pwd"
   ]
  },
  {
   "cell_type": "code",
   "execution_count": 2,
   "id": "81d0ee63-f2f4-4b89-8147-96cd2e219803",
   "metadata": {},
   "outputs": [],
   "source": [
    "sample_din_at_coves = '../data/coves/samples/at/'\n",
    "\n",
    "pmpnn_dir_at = '../other_tools/protein_mpnn/samples/at_samples/'\n",
    "esm_dir_at = '../other_tools/esm/samples/at_samples/'\n",
    "evc_dir_at = '../other_tools/evc/samples/t_screen/'"
   ]
  },
  {
   "cell_type": "markdown",
   "id": "845b1d78-16e9-4ccb-bdd6-923b35bc38b0",
   "metadata": {},
   "source": [
    "## get the supervised oracle function"
   ]
  },
  {
   "cell_type": "code",
   "execution_count": 162,
   "id": "dae28187-5d93-4dc2-8e08-c9073afb5933",
   "metadata": {},
   "outputs": [
    {
     "name": "stdout",
     "output_type": "stream",
     "text": [
      "(201, 1)\n",
      "layer0 weights set to:  [[ 0.01701156]\n",
      " [-0.01035653]\n",
      " [ 0.03116564]\n",
      " [ 0.00747865]\n",
      " [-0.03876103]]\n",
      "beta_hat [ 0.01701156 -0.01035653  0.03116564  0.00747865 -0.03876103]\n"
     ]
    },
    {
     "data": {
      "image/png": "[encoded data removed]",
      "text/plain": [
       "<Figure size 200x200 with 1 Axes>"
      ]
     },
     "metadata": {},
     "output_type": "display_data"
    }
   ],
   "source": [
    "# get the supervised oracle\n",
    "x,y,df_at_10p = dt.get_x_y_at_10p()\n",
    "model_10p, history, callbacks = rt.fit_log_model(\n",
    "    x,y, \n",
    "    my_layer=rt.log_layer(1), # do not scale, just predict between 0 and 1\n",
    "    adam_lr =0.1, \n",
    "    epochs=200,\n",
    "    batch_size=1000)"
   ]
  },
  {
   "cell_type": "markdown",
   "id": "1c651ed4-c7fa-48ff-8000-696ac0188784",
   "metadata": {},
   "source": [
    "## load antitoxin generated sequences"
   ]
  },
  {
   "cell_type": "code",
   "execution_count": 163,
   "id": "f9708882-6ca2-4dc4-a5cd-710206314ece",
   "metadata": {},
   "outputs": [],
   "source": [
    "random.seed(42)\n",
    "live_thresh = 0.5 # threshold for considering a variant functional\n",
    "model = model_10p # which oracle model to use\n",
    "deduplicate = True # whether to deduplicate the sampled sequences\n",
    "n_unique_seq_sample = 30 # number of sequences to downsample to\n",
    "n_downsampling = 10 # how many times to downsample"
   ]
  },
  {
   "cell_type": "markdown",
   "id": "58532381-64dc-424f-9a2d-059a086b9041",
   "metadata": {},
   "source": [
    "## read coves generated sequences"
   ]
  },
  {
   "cell_type": "code",
   "execution_count": 190,
   "id": "793d6075-9282-470d-88ef-13a9d9b82c8c",
   "metadata": {},
   "outputs": [],
   "source": [
    "# read in coves sampled sequences\n",
    "# deduplicates sampled sequences\n",
    "# downsamples sampled sequences to match approximately \n",
    "# the number of generated sequence from proteinMPNN, for which ~ 30 seqs were sampled only\n",
    "\n",
    "mean_hamming_pw_coves = []\n",
    "mean_hamming_wt_coves = []\n",
    "frac_alive_coves = []\n",
    "for t in [0.1, 0.5,0.7,1,1.5,2,2.25,2.5,2.75,3,4,5]:\n",
    "    fin = sample_din_at_coves+'gvp_100_m_RES_1646945484_3030427_8_220711_samples_t{}_n500.csv'.format(t)\n",
    "    for i in range(n_downsampling):\n",
    "        mutkeys = rt.read_sampled_mut_key(fin) # getting the mutkeys\n",
    "        if deduplicate:\n",
    "            mutkeys = list(set(mutkeys))\n",
    "        #sample down to match the number of sequences generated by proteinMPNN\n",
    "        mutkeys = random.choices(mutkeys, k=n_unique_seq_sample)\n",
    "        \n",
    "        # make a list of mutated sequence considering only the 10 mutated positions\n",
    "        list_mutseqs = rt.get_muts_from_mutkeys(mutkeys)\n",
    "\n",
    "        # calculate statistics\n",
    "        frac_alive,mean_pw_hamming,mean_wt_hamming = rt.calc_at_sample_stats(list_mutseqs, model, live_thresh)\n",
    "        \n",
    "        #collect\n",
    "        frac_alive_coves.append(frac_alive)\n",
    "        mean_hamming_pw_coves.append(mean_pw_hamming)\n",
    "        mean_hamming_wt_coves.append(mean_wt_hamming)\n",
    "    "
   ]
  },
  {
   "cell_type": "markdown",
   "id": "9531a67c-4357-4c73-9fd7-d404d7dc0772",
   "metadata": {},
   "source": [
    "## read proteinMPNN generated sequences"
   ]
  },
  {
   "cell_type": "code",
   "execution_count": 175,
   "id": "523eb091-8d43-4c47-8edc-87aaecd74e18",
   "metadata": {},
   "outputs": [],
   "source": [
    "# read in proteinMPNN sampled sequences\n",
    "\n",
    "mean_hamming_pw_pmpnn = []\n",
    "mean_hamming_wt_pmpnn = []\n",
    "frac_alive_pmpnn = []\n",
    "\n",
    "pmpnn_files_consider = [f for f in listdir(pmpnn_dir_at) if f.split('_')[2]=='n30']\n",
    "\n",
    "m0_pos_10x = [int(m[1:])-1 for m in rt.list_wtaa_pos]\n",
    "\n",
    "for f in sorted(pmpnn_files_consider):\n",
    "    # collect all mutants for a file\n",
    "    list_muts = [] # list of mutations ['EERK', ] per sequence\n",
    "\n",
    "    for r in rt.fasta_iter_py3(pmpnn_dir_at + f):\n",
    "        gen_seq = r.sequence\n",
    "        one_seq_muts = rt.get_muts_from_fl_sampled_seq(gen_seq,m0_pos_10x, wt_chain= rt.wt_chain_a) # get the right positions\n",
    "        list_muts.append(''.join(one_seq_muts))\n",
    "        \n",
    "    if deduplicate:\n",
    "        n_before_dedup = len(list_muts)\n",
    "        list_muts = list(set(list_muts))\n",
    "        n_after_dedup = len(list_muts)\n",
    "    \n",
    "    # calculate statistics\n",
    "    frac_alive,mean_pw_hamming,mean_wt_hamming = rt.calc_at_sample_stats(list_muts, model, threshold)\n",
    "\n",
    "    frac_alive_pmpnn.append(frac_alive)\n",
    "    mean_hamming_pw_pmpnn.append(np.mean(mean_pw_hamming))\n",
    "    mean_hamming_wt_pmpnn.append(np.mean(mean_wt_hamming))\n"
   ]
  },
  {
   "cell_type": "markdown",
   "id": "bdf307b2-2e56-44b1-a7eb-e46f0b84302a",
   "metadata": {},
   "source": [
    "## read ESM-IF generated sequences"
   ]
  },
  {
   "cell_type": "code",
   "execution_count": 178,
   "id": "f005fdae-ff1a-4c41-9ff6-931b27321d6a",
   "metadata": {},
   "outputs": [],
   "source": [
    "# for ESM gen seqs\n",
    "\n",
    "t_esm = [0.75, 1.25, 1.5, 1.75, 2.0, 3.0, 4.0, 5.0]\n",
    "m0_pos_10x = [int(m[1:])-1 for m in rt.list_wtaa_pos]\n",
    "\n",
    "frac_alive_esm =[]\n",
    "mean_hamming_pw_esm = []\n",
    "mean_hamming_wt_esm = []\n",
    "\n",
    "p = 10\n",
    "for t in t_esm:\n",
    "    for i in range(n_downsampling):\n",
    "        df_esm_gen = pd.read_csv(esm_dir_at + 'esm_t{}_pos{}_n100_gen_seq.csv'.format(t, p), header=None)\n",
    "        df_esm_gen = df_esm_gen.rename(columns={0:'seq'})\n",
    "        df_esm_gen['has_weird_chars'] = df_esm_gen.apply(lambda r: ('<' in r.seq) or ('B' in r.seq), axis=1)\n",
    "        df_esm_gen_clean = deepcopy(df_esm_gen[~df_esm_gen.has_weird_chars])\n",
    "        \n",
    "        df_esm_gen_clean['muts'] = df_esm_gen_clean.apply(\n",
    "            lambda r: ''.join(rt.get_muts_from_fl_sampled_seq(r.seq,m0_pos_10x)), axis=1)\n",
    "        if deduplicate:\n",
    "            muts = list(set(df_esm_gen_clean['muts']))\n",
    "            # downsample to match proteinMPNN numbers approximately\n",
    "            list_muts = random.choices(muts, k=n_unique_seq_sample)\n",
    "        else:\n",
    "            list_muts = list(df_esm_gen_clean['muts'].values)\n",
    "\n",
    "        # calculate statistics\n",
    "        frac_alive,mean_pw_hamming,mean_wt_hamming = rt.calc_at_sample_stats(list_muts, model, threshold)\n",
    "\n",
    "        frac_alive_esm.append(frac_alive)\n",
    "        mean_hamming_pw_esm.append(np.mean(mean_pw_hamming))\n",
    "        mean_hamming_wt_esm.append(np.mean(mean_wt_hamming))"
   ]
  },
  {
   "cell_type": "markdown",
   "id": "640a4cb3-dd41-478d-b00b-c5eeeeb22687",
   "metadata": {},
   "source": [
    "## evcouplings generated sequences"
   ]
  },
  {
   "cell_type": "code",
   "execution_count": 179,
   "id": "004ceeaf-1cd8-496a-950c-1d95c4a1ff72",
   "metadata": {},
   "outputs": [],
   "source": [
    "# for evcouplings gen seqs\n",
    "frac_alive_evc =[]\n",
    "mean_hamming_pw_evc = []\n",
    "mean_hamming_wt_evc = []\n",
    "\n",
    "p = 10\n",
    "fs = [f for f in listdir(evc_dir_at) if f.endswith('.csv')]\n",
    "for f in fs:\n",
    "    for i in range(n_downsampling):\n",
    "        df_evc_gen = pd.read_csv(evc_dir_at + f, index_col=0)\n",
    "        df_evc_gen.loc[:,'muts_only'] = df_evc_gen.apply(lambda r: ''.join([v[-1] for v in r.full_mut.split(':')]), axis=1)\n",
    "\n",
    "        # get deduplicated individual mutants\n",
    "        muts = list(df_evc_gen['muts_only'])\n",
    "        if deduplicate:\n",
    "            muts = list(set(muts))\n",
    "            # downsample to match proteinMPNN numbers approximately\n",
    "            list_muts = random.choices(muts, k=n_unique_seq_sample)\n",
    "        else:\n",
    "            list_muts = list(df_evc_gen['muts'].values)\n",
    "\n",
    "        # calculate statistics\n",
    "        frac_alive,mean_pw_hamming,mean_wt_hamming = rt.calc_at_sample_stats(list_muts, model, threshold)\n",
    "\n",
    "        frac_alive_evc.append(frac_alive)\n",
    "        mean_hamming_pw_evc.append(np.mean(mean_pw_hamming))\n",
    "        mean_hamming_wt_evc.append(np.mean(mean_wt_hamming))\n",
    "        "
   ]
  },
  {
   "cell_type": "markdown",
   "id": "552f2668-2b1f-478e-8b7f-280de4b30d3d",
   "metadata": {},
   "source": [
    "## making random samples from dataframe"
   ]
  },
  {
   "cell_type": "code",
   "execution_count": 180,
   "id": "6df30684-3780-4c90-804b-b2c6848ff8ba",
   "metadata": {
    "tags": []
   },
   "outputs": [],
   "source": [
    "# make random samples from the observed df\n",
    "rand_seed = 42\n",
    "np.random.seed(rand_seed)\n",
    "\n",
    "def sample_biased_df_penalized_hamming(df, bias_scale=1, rand_seed = 42):\n",
    "    np.random.seed(rand_seed)\n",
    "    # higher more bias towards low hamming distance sequences\n",
    "    # df needs a column 'hamming' to weight by\n",
    "    idx_to_sample = list(range(len(df)))\n",
    "    f_samples = [10**(-int(v)*bias_scale) for v in df.hamming]\n",
    "    p_samples = np.array(f_samples)/math.fsum(f_samples)\n",
    "    #print(p_samples)\n",
    "\n",
    "    random_row_idxs = np.random.choice(idx_to_sample, n_unique_seq_sample, p=p_samples)\n",
    "    random_row_idxs\n",
    "    df_sample = df.iloc[random_row_idxs]\n",
    "    return df_sample\n",
    "\n",
    "\n",
    "df_at_10p['muts_only'] = df_at_10p.apply(lambda r: ''.join([v[-1] for v in r.muts.split(':')]), axis=1)\n",
    "\n",
    "frac_alive_pw_random =[]\n",
    "mean_hamming_pw_random = []\n",
    "mean_hamming_wt_random = []\n",
    "\n",
    "for i in range(n_downsampling):\n",
    "    for bias_scale in [-0.5,0,0.3,0.5, 0.7, 1, 1.5]:\n",
    "        df_sample = sample_biased_df_penalized_hamming(df_at_10p, \n",
    "                                                       bias_scale=bias_scale, \n",
    "                                                       rand_seed = np.random.randint(100))\n",
    "\n",
    "        list_muts = list(set(df_sample['muts_only']))\n",
    "        # calculate statistics\n",
    "        frac_alive,mean_pw_hamming,mean_wt_hamming = rt.calc_at_sample_stats(list_muts, model, threshold)\n",
    "       \n",
    "        frac_alive_pw_random.append(frac_alive)\n",
    "        mean_hamming_pw_random.append(mean_pw_hamming)\n",
    "        mean_hamming_wt_random.append(mean_wt_hamming)\n",
    "        "
   ]
  },
  {
   "cell_type": "markdown",
   "id": "7c2df00d-2912-4a3e-a69d-bd9acf5c1618",
   "metadata": {},
   "source": [
    "## sampling using the logistic regression weights of the oracle --> Does the oracle believe there are more good sequences out there?"
   ]
  },
  {
   "cell_type": "code",
   "execution_count": 181,
   "id": "8408e7e3-8ac8-4bb8-8248-943fa9e0ea24",
   "metadata": {},
   "outputs": [],
   "source": [
    "# generate sequences using learned log regression weights\n",
    "\n",
    "# get the weights of the logistic regression\n",
    "model_w_10p = model_10p.get_weights()[0]\n",
    "model_10_p_aa_pref = model_w_10p[:200,:]\n",
    "model_10_p_aa_pref= model_10_p_aa_pref.reshape(20,-1,order='F') # reshape in fortran order, this is important here, otherwise they get mixed up weird.\n",
    "\n",
    "random.seed(3)\n",
    "\n",
    "n_sample = n_unique_seq_sample\n",
    "t_sample = [0.5, 0.7, 0.8, 0.9, 1, 1.5, 2, 3,5]\n",
    "t_to_sampled_muts = {}\n",
    "\n",
    "for t in t_sample:\n",
    "    list_combi_mutkeys = []\n",
    "    for i in range(n_sample):\n",
    "        list_one_combi_muts = []\n",
    "        for p in range(10):\n",
    "            scores = model_10_p_aa_pref[:,p]\n",
    "            scores_shift = scores - np.max(scores) # need to shift these, since the scores can be below and above 0, and that does not work for get_norm_prob\n",
    "            sampled_aa = ct.sample_aa_gvp_pos_boltz(rt.AA_ALPHABET, \n",
    "                                                    scores_shift, \n",
    "                                                    t=t, \n",
    "                                                    n_sample = 1, \n",
    "                                                    rand_seed=random.randint(0, 100))\n",
    "            list_one_combi_muts.append(sampled_aa[0])\n",
    "\n",
    "        list_combi_mutkeys.append(''.join(list_one_combi_muts))\n",
    "    t_to_sampled_muts[t] = list_combi_mutkeys\n"
   ]
  },
  {
   "cell_type": "code",
   "execution_count": 183,
   "id": "e20190ac-110b-40fc-bf7b-6c6a0e4d81f9",
   "metadata": {},
   "outputs": [],
   "source": [
    "#\n",
    "frac_alive_lr =[]\n",
    "mean_hamming_pw_lr = []\n",
    "mean_hamming_wt_lr = []\n",
    "\n",
    "for t in t_sample:\n",
    "    for i in range(n_sample):\n",
    "        list_muts = t_to_sampled_muts[t]\n",
    "        \n",
    "        if deduplicate:\n",
    "            list_muts = list(set(list_muts))\n",
    "            # downsample to match proteinMPNN numbers approximately\n",
    "            list_muts = random.choices(list_muts, k=n_unique_seq_sample)\n",
    "        # calculate statistics\n",
    "        frac_alive,mean_pw_hamming,mean_wt_hamming = rt.calc_at_sample_stats(list_muts, model, threshold)\n",
    "\n",
    "        frac_alive_lr.append(frac_alive)\n",
    "        mean_hamming_pw_lr.append(mean_pw_hamming)\n",
    "        mean_hamming_wt_lr.append(mean_wt_hamming)\n"
   ]
  },
  {
   "cell_type": "markdown",
   "id": "959e513f-9fa2-40fd-b499-690eb79d5462",
   "metadata": {},
   "source": [
    "## plot "
   ]
  },
  {
   "cell_type": "code",
   "execution_count": 184,
   "id": "3121a24b-1d48-4f96-ad96-7aea6797c64e",
   "metadata": {},
   "outputs": [
    {
     "data": {
      "image/png": "[encoded data removed]",
      "text/plain": [
       "<Figure size 300x300 with 1 Axes>"
      ]
     },
     "metadata": {},
     "output_type": "display_data"
    }
   ],
   "source": [
    "\n",
    "def plot_polyline(x_in, y_in, \n",
    "                  order=8, \n",
    "                  fixed_points=([0,1, 10],[1,1, 0]),\n",
    "                    color = 'black', \n",
    "                  alpha=1\n",
    "                 ):\n",
    "\n",
    "    x,y = fixed_points[0]+x_in, fixed_points[1]+y_in\n",
    "    polyf = np.poly1d(np.polyfit(x,y, order))\n",
    "    xp = np.linspace(min(x_in),max(x_in), 100)\n",
    "    plt.plot(xp, polyf(xp), color=color, alpha=alpha)\n",
    "\n",
    "\n",
    "alpha=0.4\n",
    "ms = 4\n",
    "plot_lw = 1\n",
    "fig= plt.figure(figsize=(3,3))\n",
    "\n",
    "#coves\n",
    "plt.scatter(mean_hamming_pw_coves, frac_alive_coves, label='coves', alpha=1, s=ms)\n",
    "plot_polyline(mean_hamming_pw_coves, frac_alive_coves, color = '#5B49B6', alpha=1)\n",
    "\n",
    "#pmpnn\n",
    "plt.scatter(mean_hamming_pw_pmpnn, frac_alive_pmpnn, label ='pMPNN', color = 'green',alpha=alpha, s=ms)\n",
    "plot_polyline(mean_hamming_pw_pmpnn, frac_alive_pmpnn, color = 'green', alpha=alpha)\n",
    "\n",
    "# esm\n",
    "plt.scatter(mean_hamming_pw_esm, frac_alive_esm, label ='esm IF', alpha=alpha, s=ms)\n",
    "plot_polyline(mean_hamming_pw_esm, frac_alive_esm, color= '#59C09D', alpha=alpha)\n",
    "\n",
    "# evc\n",
    "plt.scatter(mean_hamming_pw_evc, frac_alive_evc, label ='evC', color = '#C3D64C', alpha=alpha, s=ms)\n",
    "plot_polyline(mean_hamming_pw_evc, frac_alive_evc, order = 3, color= '#C3D64C', alpha=alpha)\n",
    "\n",
    "# random\n",
    "plt.scatter(mean_hamming_pw_random, frac_alive_pw_random, label ='random', color = 'black', alpha=alpha, s=ms)\n",
    "plot_polyline(mean_hamming_pw_random, frac_alive_pw_random, color= 'black', alpha=alpha, order=6)\n",
    "\n",
    "# supervised\n",
    "plt.scatter(mean_hamming_pw_lr, frac_alive_lr, label ='supervised', color='black', alpha=0.2, s=ms)\n",
    "plot_polyline(mean_hamming_pw_lr, frac_alive_lr, order = 10,color= 'black', alpha=0.2, \n",
    "              fixed_points = ([0,1,2,3,4,5, 10],[1,1,1,1,1,1,0]))\n",
    "\n",
    "plt.xlim([0,10])\n",
    "#plt.legend(loc='center left', fontsize=8)\n",
    "plt.xticks(list(range(11)))\n",
    "plt.xticks([0,2,4,6,8,10], size=8)\n",
    "plt.yticks([0,0.5,1], size=8)\n",
    "\n",
    "#plt.legend()\n",
    "plt.xlabel('mean pairwise mutations')\n",
    "plt.ylabel('fraction alive')\n",
    "#plt.title('pairwise hamming vs. fraction alive')\n",
    "plt.grid(alpha=0.3)\n",
    "fig.patch.set_visible(False)\n",
    "plt.savefig(dout + 'frac_alive_vs_hamm_pw_renorm_dedup_res_sample_down_n10down.svg', format='svg')\n",
    "plt.show()"
   ]
  },
  {
   "cell_type": "code",
   "execution_count": 168,
   "id": "7c990827-e1e2-4c8d-8477-856788984728",
   "metadata": {},
   "outputs": [
    {
     "data": {
      "image/png": "[encoded data removed]",
      "text/plain": [
       "<Figure size 300x300 with 1 Axes>"
      ]
     },
     "metadata": {},
     "output_type": "display_data"
    }
   ],
   "source": [
    "# plotting the average number of mutations to WT vs. function\n",
    "fig= plt.figure(figsize=(3,3))\n",
    "\n",
    "# coves\n",
    "plt.scatter(mean_hamming_wt_coves, frac_alive_res, label='RES', alpha=1, s=ms)\n",
    "plot_polyline(mean_hamming_wt_coves, frac_alive_res, color = '#5B49B6', alpha=1)\n",
    "# pmpnn\n",
    "plt.scatter(mean_hamming_wt_pmpnn, frac_alive_pmpnn, label ='pMPNN', color = 'green',  alpha=alpha, s=ms)\n",
    "plot_polyline(mean_hamming_wt_pmpnn, frac_alive_pmpnn, color = 'green', alpha=alpha)\n",
    "\n",
    "# esm\n",
    "plt.scatter(mean_hamming_wt_esm, frac_alive_esm, label ='esm IF', alpha=alpha, s=ms)\n",
    "plot_polyline(mean_hamming_wt_esm, frac_alive_esm, color = '#59C09D', alpha=alpha)\n",
    "\n",
    "#evc\n",
    "plt.scatter(mean_hamming_wt_evc, frac_alive_evc, label ='evC',color = '#C3D64C', alpha=alpha, s=ms)\n",
    "plot_polyline(mean_hamming_wt_evc, frac_alive_evc, order=5, color = '#C3D64C', alpha=alpha)\n",
    "\n",
    "# random\n",
    "plt.scatter(mean_hamming_wt_random, frac_alive_pw_random, label ='random', color = 'black',alpha=alpha, s=ms)\n",
    "plot_polyline(mean_hamming_wt_random, frac_alive_pw_random, order=5, color = 'black', alpha=alpha)\n",
    "\n",
    "# supervised\n",
    "plt.scatter(mean_hamming_wt_lr, frac_alive_lr, label ='supervised', color='black', alpha=0.2, s=ms)\n",
    "plot_polyline(mean_hamming_wt_lr, frac_alive_lr, order = 6,color = 'black', alpha=0.2,\n",
    "              fixed_points = ([0,1,2,3,4,5, 10],[1,1,1,1,1,1,0])\n",
    "             )\n",
    "\n",
    "\n",
    "#plt.legend(loc='center left', fontsize = 8)\n",
    "plt.xlim([0,10])\n",
    "plt.xticks([0,2,4,6,8,10], size=8)\n",
    "plt.yticks([0,0.5,1], size=8)\n",
    "\n",
    "plt.xlabel('mean # mutations to wt')\n",
    "plt.ylabel('fraction alive')\n",
    "#plt.legend()\n",
    "#plt.title('hamming to wt vs. fraction alive')\n",
    "plt.grid(alpha=0.3)\n",
    "fig.patch.set_visible(False)\n",
    "plt.savefig(dout + 'frac_alive_vs_hamm_wt_renorm_dedup_res_sample_down_n10down.svg', format='svg')\n",
    "plt.show()"
   ]
  },
  {
   "cell_type": "markdown",
   "id": "70f8bae7-9d30-46c6-8271-8aa08a93f75d",
   "metadata": {},
   "source": [
    "## plotting the sequence logos of generated sequences\n"
   ]
  },
  {
   "cell_type": "code",
   "execution_count": 10,
   "id": "71d75c02-8b8d-470a-ad72-fda753fd93ec",
   "metadata": {},
   "outputs": [
    {
     "data": {
      "text/html": [
       "<div>\n",
       "<style scoped>\n",
       "    .dataframe tbody tr th:only-of-type {\n",
       "        vertical-align: middle;\n",
       "    }\n",
       "\n",
       "    .dataframe tbody tr th {\n",
       "        vertical-align: top;\n",
       "    }\n",
       "\n",
       "    .dataframe thead th {\n",
       "        text-align: right;\n",
       "    }\n",
       "</style>\n",
       "<table border=\"1\" class=\"dataframe\">\n",
       "  <thead>\n",
       "    <tr style=\"text-align: right;\">\n",
       "      <th></th>\n",
       "      <th>M</th>\n",
       "      <th>K</th>\n",
       "      <th>Q</th>\n",
       "      <th>A</th>\n",
       "      <th>R</th>\n",
       "      <th>V</th>\n",
       "      <th>T</th>\n",
       "      <th>W</th>\n",
       "      <th>E</th>\n",
       "      <th>C</th>\n",
       "      <th>I</th>\n",
       "      <th>H</th>\n",
       "      <th>S</th>\n",
       "      <th>N</th>\n",
       "      <th>G</th>\n",
       "      <th>L</th>\n",
       "      <th>D</th>\n",
       "      <th>F</th>\n",
       "      <th>Y</th>\n",
       "      <th>P</th>\n",
       "    </tr>\n",
       "  </thead>\n",
       "  <tbody>\n",
       "    <tr>\n",
       "      <th>1</th>\n",
       "      <td>17.0</td>\n",
       "      <td>20.0</td>\n",
       "      <td>8.0</td>\n",
       "      <td>6.0</td>\n",
       "      <td>20.0</td>\n",
       "      <td>3.0</td>\n",
       "      <td>4</td>\n",
       "      <td>1.0</td>\n",
       "      <td>1.0</td>\n",
       "      <td>1</td>\n",
       "      <td>3.0</td>\n",
       "      <td>2.0</td>\n",
       "      <td>2.0</td>\n",
       "      <td>1.0</td>\n",
       "      <td>1.0</td>\n",
       "      <td>1.0</td>\n",
       "      <td>0.0</td>\n",
       "      <td>0.0</td>\n",
       "      <td>0.0</td>\n",
       "      <td>0.0</td>\n",
       "    </tr>\n",
       "    <tr>\n",
       "      <th>2</th>\n",
       "      <td>0.0</td>\n",
       "      <td>0.0</td>\n",
       "      <td>0.0</td>\n",
       "      <td>0.0</td>\n",
       "      <td>0.0</td>\n",
       "      <td>0.0</td>\n",
       "      <td>1</td>\n",
       "      <td>0.0</td>\n",
       "      <td>0.0</td>\n",
       "      <td>1</td>\n",
       "      <td>0.0</td>\n",
       "      <td>0.0</td>\n",
       "      <td>2.0</td>\n",
       "      <td>8.0</td>\n",
       "      <td>0.0</td>\n",
       "      <td>0.0</td>\n",
       "      <td>79.0</td>\n",
       "      <td>0.0</td>\n",
       "      <td>0.0</td>\n",
       "      <td>0.0</td>\n",
       "    </tr>\n",
       "    <tr>\n",
       "      <th>3</th>\n",
       "      <td>4.0</td>\n",
       "      <td>1.0</td>\n",
       "      <td>3.0</td>\n",
       "      <td>1.0</td>\n",
       "      <td>7.0</td>\n",
       "      <td>27.0</td>\n",
       "      <td>4</td>\n",
       "      <td>1.0</td>\n",
       "      <td>4.0</td>\n",
       "      <td>3</td>\n",
       "      <td>14.0</td>\n",
       "      <td>1.0</td>\n",
       "      <td>1.0</td>\n",
       "      <td>4.0</td>\n",
       "      <td>1.0</td>\n",
       "      <td>7.0</td>\n",
       "      <td>1.0</td>\n",
       "      <td>3.0</td>\n",
       "      <td>3.0</td>\n",
       "      <td>1.0</td>\n",
       "    </tr>\n",
       "    <tr>\n",
       "      <th>4</th>\n",
       "      <td>3.0</td>\n",
       "      <td>20.0</td>\n",
       "      <td>6.0</td>\n",
       "      <td>4.0</td>\n",
       "      <td>26.0</td>\n",
       "      <td>4.0</td>\n",
       "      <td>6</td>\n",
       "      <td>0.0</td>\n",
       "      <td>2.0</td>\n",
       "      <td>1</td>\n",
       "      <td>1.0</td>\n",
       "      <td>1.0</td>\n",
       "      <td>1.0</td>\n",
       "      <td>1.0</td>\n",
       "      <td>1.0</td>\n",
       "      <td>3.0</td>\n",
       "      <td>2.0</td>\n",
       "      <td>3.0</td>\n",
       "      <td>6.0</td>\n",
       "      <td>0.0</td>\n",
       "    </tr>\n",
       "    <tr>\n",
       "      <th>5</th>\n",
       "      <td>12.0</td>\n",
       "      <td>1.0</td>\n",
       "      <td>2.0</td>\n",
       "      <td>1.0</td>\n",
       "      <td>2.0</td>\n",
       "      <td>1.0</td>\n",
       "      <td>1</td>\n",
       "      <td>2.0</td>\n",
       "      <td>0.0</td>\n",
       "      <td>3</td>\n",
       "      <td>0.0</td>\n",
       "      <td>1.0</td>\n",
       "      <td>1.0</td>\n",
       "      <td>2.0</td>\n",
       "      <td>0.0</td>\n",
       "      <td>58.0</td>\n",
       "      <td>0.0</td>\n",
       "      <td>2.0</td>\n",
       "      <td>2.0</td>\n",
       "      <td>0.0</td>\n",
       "    </tr>\n",
       "    <tr>\n",
       "      <th>6</th>\n",
       "      <td>1.0</td>\n",
       "      <td>1.0</td>\n",
       "      <td>1.0</td>\n",
       "      <td>0.0</td>\n",
       "      <td>1.0</td>\n",
       "      <td>5.0</td>\n",
       "      <td>2</td>\n",
       "      <td>2.0</td>\n",
       "      <td>3.0</td>\n",
       "      <td>2</td>\n",
       "      <td>8.0</td>\n",
       "      <td>1.0</td>\n",
       "      <td>1.0</td>\n",
       "      <td>1.0</td>\n",
       "      <td>0.0</td>\n",
       "      <td>4.0</td>\n",
       "      <td>0.0</td>\n",
       "      <td>38.0</td>\n",
       "      <td>20.0</td>\n",
       "      <td>0.0</td>\n",
       "    </tr>\n",
       "    <tr>\n",
       "      <th>7</th>\n",
       "      <td>3.0</td>\n",
       "      <td>24.0</td>\n",
       "      <td>4.0</td>\n",
       "      <td>0.0</td>\n",
       "      <td>49.0</td>\n",
       "      <td>1.0</td>\n",
       "      <td>3</td>\n",
       "      <td>0.0</td>\n",
       "      <td>1.0</td>\n",
       "      <td>2</td>\n",
       "      <td>1.0</td>\n",
       "      <td>0.0</td>\n",
       "      <td>1.0</td>\n",
       "      <td>0.0</td>\n",
       "      <td>0.0</td>\n",
       "      <td>1.0</td>\n",
       "      <td>1.0</td>\n",
       "      <td>0.0</td>\n",
       "      <td>0.0</td>\n",
       "      <td>0.0</td>\n",
       "    </tr>\n",
       "    <tr>\n",
       "      <th>8</th>\n",
       "      <td>5.0</td>\n",
       "      <td>6.0</td>\n",
       "      <td>14.0</td>\n",
       "      <td>8.0</td>\n",
       "      <td>6.0</td>\n",
       "      <td>5.0</td>\n",
       "      <td>3</td>\n",
       "      <td>1.0</td>\n",
       "      <td>28.0</td>\n",
       "      <td>1</td>\n",
       "      <td>2.0</td>\n",
       "      <td>2.0</td>\n",
       "      <td>1.0</td>\n",
       "      <td>1.0</td>\n",
       "      <td>0.0</td>\n",
       "      <td>2.0</td>\n",
       "      <td>3.0</td>\n",
       "      <td>1.0</td>\n",
       "      <td>2.0</td>\n",
       "      <td>0.0</td>\n",
       "    </tr>\n",
       "    <tr>\n",
       "      <th>9</th>\n",
       "      <td>0.0</td>\n",
       "      <td>0.0</td>\n",
       "      <td>0.0</td>\n",
       "      <td>72.0</td>\n",
       "      <td>0.0</td>\n",
       "      <td>0.0</td>\n",
       "      <td>2</td>\n",
       "      <td>0.0</td>\n",
       "      <td>0.0</td>\n",
       "      <td>4</td>\n",
       "      <td>0.0</td>\n",
       "      <td>0.0</td>\n",
       "      <td>12.0</td>\n",
       "      <td>0.0</td>\n",
       "      <td>1.0</td>\n",
       "      <td>0.0</td>\n",
       "      <td>0.0</td>\n",
       "      <td>0.0</td>\n",
       "      <td>0.0</td>\n",
       "      <td>0.0</td>\n",
       "    </tr>\n",
       "    <tr>\n",
       "      <th>10</th>\n",
       "      <td>4.0</td>\n",
       "      <td>40.0</td>\n",
       "      <td>3.0</td>\n",
       "      <td>0.0</td>\n",
       "      <td>32.0</td>\n",
       "      <td>3.0</td>\n",
       "      <td>1</td>\n",
       "      <td>0.0</td>\n",
       "      <td>1.0</td>\n",
       "      <td>3</td>\n",
       "      <td>2.0</td>\n",
       "      <td>0.0</td>\n",
       "      <td>0.0</td>\n",
       "      <td>0.0</td>\n",
       "      <td>0.0</td>\n",
       "      <td>2.0</td>\n",
       "      <td>0.0</td>\n",
       "      <td>0.0</td>\n",
       "      <td>0.0</td>\n",
       "      <td>0.0</td>\n",
       "    </tr>\n",
       "  </tbody>\n",
       "</table>\n",
       "</div>"
      ],
      "text/plain": [
       "       M     K     Q     A     R     V  T    W     E  C     I    H     S    N  \\\n",
       "1   17.0  20.0   8.0   6.0  20.0   3.0  4  1.0   1.0  1   3.0  2.0   2.0  1.0   \n",
       "2    0.0   0.0   0.0   0.0   0.0   0.0  1  0.0   0.0  1   0.0  0.0   2.0  8.0   \n",
       "3    4.0   1.0   3.0   1.0   7.0  27.0  4  1.0   4.0  3  14.0  1.0   1.0  4.0   \n",
       "4    3.0  20.0   6.0   4.0  26.0   4.0  6  0.0   2.0  1   1.0  1.0   1.0  1.0   \n",
       "5   12.0   1.0   2.0   1.0   2.0   1.0  1  2.0   0.0  3   0.0  1.0   1.0  2.0   \n",
       "6    1.0   1.0   1.0   0.0   1.0   5.0  2  2.0   3.0  2   8.0  1.0   1.0  1.0   \n",
       "7    3.0  24.0   4.0   0.0  49.0   1.0  3  0.0   1.0  2   1.0  0.0   1.0  0.0   \n",
       "8    5.0   6.0  14.0   8.0   6.0   5.0  3  1.0  28.0  1   2.0  2.0   1.0  1.0   \n",
       "9    0.0   0.0   0.0  72.0   0.0   0.0  2  0.0   0.0  4   0.0  0.0  12.0  0.0   \n",
       "10   4.0  40.0   3.0   0.0  32.0   3.0  1  0.0   1.0  3   2.0  0.0   0.0  0.0   \n",
       "\n",
       "      G     L     D     F     Y    P  \n",
       "1   1.0   1.0   0.0   0.0   0.0  0.0  \n",
       "2   0.0   0.0  79.0   0.0   0.0  0.0  \n",
       "3   1.0   7.0   1.0   3.0   3.0  1.0  \n",
       "4   1.0   3.0   2.0   3.0   6.0  0.0  \n",
       "5   0.0  58.0   0.0   2.0   2.0  0.0  \n",
       "6   0.0   4.0   0.0  38.0  20.0  0.0  \n",
       "7   0.0   1.0   1.0   0.0   0.0  0.0  \n",
       "8   0.0   2.0   3.0   1.0   2.0  0.0  \n",
       "9   1.0   0.0   0.0   0.0   0.0  0.0  \n",
       "10  0.0   2.0   0.0   0.0   0.0  0.0  "
      ]
     },
     "metadata": {},
     "output_type": "display_data"
    },
    {
     "name": "stderr",
     "output_type": "stream",
     "text": [
      "/tmp/ipykernel_9402/1567460417.py:21: UserWarning: FixedFormatter should only be used together with FixedLocator\n",
      "  lm.ax.set_yticklabels([0,25,50,75],size=7)\n"
     ]
    },
    {
     "data": {
      "image/png": "[encoded data removed]",
      "text/plain": [
       "<Figure size 250x150 with 1 Axes>"
      ]
     },
     "metadata": {},
     "output_type": "display_data"
    }
   ],
   "source": [
    "df_t15 = pd.read_csv(sample_din_at_coves+'gvp_100_m_RES_1646945484_3030427_8_220711_samples_t1.5_n500.csv', header=None)\n",
    "\n",
    "# deduplicate\n",
    "all_gen_muts = set(df_t15[0])\n",
    "# creating a position by amino acid df\n",
    "list_of_dics=[]\n",
    "for p in range(10):\n",
    "    muts = [mut.split(':')[p][-1] for mut in all_gen_muts]\n",
    "    list_of_dics.append(Counter(muts))\n",
    "df_counts = pd.DataFrame(list_of_dics)\n",
    "df_counts.index = range(1,11)\n",
    "df_counts = df_counts.fillna(0)\n",
    "\n",
    "display(df_counts)\n",
    "lm = logomaker.Logo(df_counts, color_scheme='chemistry', \n",
    "                    figsize= (2.5,1.5))\n",
    "lm.ax.set_xticks(range(1,11))\n",
    "lm.ax.set_xticklabels(list_wtaa_pos, size=7)\n",
    "lm.ax.set_yticklabels([0,25,50,75],size=7)\n",
    "\n",
    "plt.savefig(dout + 'logo_gen_seq_n500_t15.svg', format='svg')"
   ]
  },
  {
   "cell_type": "markdown",
   "id": "8047c3e8-dbdd-4b5f-ba3a-e4dd7f614d67",
   "metadata": {},
   "source": [
    "# GFP: evaluate sampled sequences from CoVES, ESM-IF, proteinMPNN\n",
    "- "
   ]
  },
  {
   "cell_type": "code",
   "execution_count": 3,
   "id": "0ff21bda-8060-4f8e-b90c-a8e67070ae66",
   "metadata": {},
   "outputs": [
    {
     "name": "stdout",
     "output_type": "stream",
     "text": [
      "2.7032641513550004\n",
      "1810\n",
      "233\n",
      "1 1084\n",
      "2 12777\n",
      "3 12336\n",
      "4 9387\n",
      "5 6825\n",
      "6 4298\n",
      "7 2526\n",
      "8 1364\n",
      "9 627\n",
      "10 299\n",
      "11 118\n",
      "12 43\n",
      "13 23\n",
      "14 5\n",
      "15 2\n"
     ]
    }
   ],
   "source": [
    "sample_din_gfp_coves = '../data/coves/samples/gfp/'\n",
    "\n",
    "# do not call these mutations since they are the difference between pdb sequence and experimental sequence\n",
    "list_muts_dms_exclude = ['R80Q','T167I','N238K'] \n",
    "\n",
    "# fetch experimental data\n",
    "fin_gfp_exp = '../data/DMS_data/gfp_data.csv'\n",
    "df_gfp = pd.read_csv(fin_gfp_exp, index_col = 0)\n",
    "\n",
    "# find the half-maximal DMS score\n",
    "threshold = (max(df_gfp.DMS_score) - min(df_gfp.DMS_score))/2 + min(df_gfp.DMS_score)\n",
    "print(threshold)\n",
    "\n",
    "# calculate how many individual mutants seen\n",
    "muts_seen_dms = set([ind_m for m in df_gfp.mutant for ind_m in m.split(':') ])\n",
    "print(len(muts_seen_dms))\n",
    "print(len(set([m[1:-1] for m in muts_seen_dms])))\n",
    "\n",
    "# calculate how many variants seen per mutation distance, and how many variants achieve the half-maximal DMS score threshold\n",
    "wt_gfp_seq_dms = 'MSKGEELFTGVVPILVELDGDVNGHKFSVSGEGEGDATYGKLTLKFICTTGKLPVPWPTLVTTLSYGVQCFSRYPDHMKQHDFFKSAMPEGYVQERTIFFKDDGNYKTRAEVKFEGDTLVNRIELKGIDFKEDGNILGHKLEYNYNSHNVYIMADKQKNGIKVNFKIRHNIEDGSVQLADHYQQNTPIGDGPVLLPDNHYLSTQSALSKDPNEKRDHMVLLEFVTAAGITHGMDELYK'\n",
    "df_gfp['hamming_wt'] = df_gfp.mutated_sequence.apply(lambda x: rt.hamming(wt_gfp_seq_dms,x))\n",
    "\n",
    "list_hamming_obs = []\n",
    "list_fraction_alive_obs = []\n",
    "for n_muts in sorted(list(set(df_gfp.hamming_wt))):\n",
    "    df_gfp_n_hamm = df_gfp.loc[df_gfp.hamming_wt == n_muts]\n",
    "    print(n_muts, len(df_gfp_n_hamm))\n",
    "    f_alive = sum(df_gfp_n_hamm.DMS_score > threshold)/len(df_gfp_n_hamm)\n",
    "    list_fraction_alive_obs.append(f_alive)\n",
    "    list_hamming_obs.append(n_muts)\n"
   ]
  },
  {
   "cell_type": "code",
   "execution_count": 4,
   "id": "29e664be-096d-4470-9446-5e1c5932f848",
   "metadata": {},
   "outputs": [
    {
     "name": "stdout",
     "output_type": "stream",
     "text": [
      "(51714, 4761)\n"
     ]
    },
    {
     "name": "stderr",
     "output_type": "stream",
     "text": [
      "2023-06-21 17:29:36.380282: W tensorflow/stream_executor/platform/default/dso_loader.cc:64] Could not load dynamic library 'libcuda.so.1'; dlerror: libcuda.so.1: cannot open shared object file: No such file or directory; LD_LIBRARY_PATH: /n/app/gcc/6.2.0/lib64:/n/app/gcc/6.2.0/lib\n",
      "2023-06-21 17:29:36.380370: W tensorflow/stream_executor/cuda/cuda_driver.cc:269] failed call to cuInit: UNKNOWN ERROR (303)\n",
      "2023-06-21 17:29:36.380408: I tensorflow/stream_executor/cuda/cuda_diagnostics.cc:156] kernel driver does not appear to be running on this host (compute-a-16-166.o2.rc.hms.harvard.edu): /proc/driver/nvidia/version does not exist\n",
      "2023-06-21 17:29:36.380987: I tensorflow/core/platform/cpu_feature_guard.cc:151] This TensorFlow binary is optimized with oneAPI Deep Neural Network Library (oneDNN) to use the following CPU instructions in performance-critical operations:  SSE4.1 SSE4.2 AVX AVX2 FMA\n",
      "To enable them in other operations, rebuild TensorFlow with the appropriate compiler flags.\n"
     ]
    },
    {
     "name": "stdout",
     "output_type": "stream",
     "text": [
      "(4761, 1)\n",
      "layer0 weights set to:  [[0.]\n",
      " [0.]\n",
      " [0.]\n",
      " [0.]\n",
      " [0.]]\n",
      "beta_hat [0. 0. 0. 0. 0.]\n"
     ]
    },
    {
     "data": {
      "image/png": "[encoded data removed]",
      "text/plain": [
       "<Figure size 200x200 with 1 Axes>"
      ]
     },
     "metadata": {},
     "output_type": "display_data"
    }
   ],
   "source": [
    "# train the scaled logistic regression\n",
    "\n",
    "# fetch x,y\n",
    "df_gfp['oh_code'] = df_gfp.apply(lambda r: rt.seq_to_oh(r.mutated_sequence, rt.aa_to_idx), axis=1)\n",
    "X = np.stack(list(df_gfp['oh_code'].values), axis=0)\n",
    "X= np.c_[X,np.ones(X.shape[0])]\n",
    "print(X.shape)\n",
    "Y = df_gfp.DMS_score.values\n",
    "\n",
    "model, history, callbacks = rt.fit_log_model(X, Y, \n",
    "                                        my_layer=rt.log_layer_scale_shift(1, reg_strength=0),\n",
    "                                        adam_lr =0.005,\n",
    "                                         epochs=500,\n",
    "                                         batch_size=1000, \n",
    "                                         rand_seed=3)\n",
    "\n",
    "Yhat_non= model.predict(X).flatten()\n",
    "df_gfp['nonlinear_predict'] = Yhat_non\n"
   ]
  },
  {
   "cell_type": "code",
   "execution_count": 13,
   "id": "c5cc5798-0280-4771-b882-97710e3be6db",
   "metadata": {},
   "outputs": [
    {
     "data": {
      "image/png": "[encoded data removed]",
      "text/plain": [
       "<Figure size 200x200 with 1 Axes>"
      ]
     },
     "metadata": {},
     "output_type": "display_data"
    }
   ],
   "source": [
    "# double check training worked\n",
    "plt.figure(figsize=(2,2))\n",
    "plt.scatter(Y, Yhat_non, s=0.001)\n",
    "plt.xlabel('yobs')\n",
    "plt.ylabel('Yhat_nonlinear')\n",
    "plt.show()"
   ]
  },
  {
   "cell_type": "markdown",
   "id": "5c597057-9c5e-46c1-835b-f5a804af6d3b",
   "metadata": {},
   "source": [
    "## reading COVES samples in"
   ]
  },
  {
   "cell_type": "code",
   "execution_count": 15,
   "id": "7f08e872-d86e-4b37-bf48-9a9dd8a979b9",
   "metadata": {
    "tags": []
   },
   "outputs": [
    {
     "name": "stdout",
     "output_type": "stream",
     "text": [
      "95\n",
      "reading f with t1.0, n_sample300, n_pos_mutate8\n",
      "286\n",
      "reading f with t1.0, n_sample300, n_pos_mutate13\n",
      "289\n",
      "reading f with t0.5, n_sample300, n_pos_mutate17\n",
      "286\n",
      "reading f with t1.0, n_sample300, n_pos_mutate14\n",
      "278\n",
      "reading f with t1.0, n_sample300, n_pos_mutate16\n",
      "284\n",
      "reading f with t10.0, n_sample300, n_pos_mutate15\n",
      "285\n"
     ]
    },
    {
     "name": "stderr",
     "output_type": "stream",
     "text": [
      "/n/groups/marks/users/david/github/CoVES/coves/../src/dataTools.py:268: SettingWithCopyWarning: \n",
      "A value is trying to be set on a copy of a slice from a DataFrame.\n",
      "Try using .loc[row_indexer,col_indexer] = value instead\n",
      "\n",
      "See the caveats in the documentation: https://pandas.pydata.org/pandas-docs/stable/user_guide/indexing.html#returning-a-view-versus-a-copy\n",
      "  df_gen_seqs['all_seen'] = df_gen_seqs.mutkey.apply(lambda mk: not bool(sum([1 for m in mk.split(':') if m not in muts_seen_dms])))\n"
     ]
    },
    {
     "name": "stdout",
     "output_type": "stream",
     "text": [
      "reading f with t2.0, n_sample300, n_pos_mutate9\n",
      "285\n",
      "reading f with t2.5, n_sample300, n_pos_mutate10\n",
      "279\n",
      "reading f with t0.7, n_sample300, n_pos_mutate10\n",
      "288\n",
      "reading f with t0.6, n_sample300, n_pos_mutate10\n",
      "285\n",
      "reading f with t2.5, n_sample300, n_pos_mutate13\n",
      "289\n",
      "reading f with t0.5, n_sample300, n_pos_mutate16\n",
      "282\n",
      "reading f with t1.0, n_sample300, n_pos_mutate11\n",
      "287\n",
      "reading f with t2.0, n_sample300, n_pos_mutate14\n",
      "279\n",
      "reading f with t2.0, n_sample300, n_pos_mutate10\n",
      "278\n",
      "reading f with t3.0, n_sample300, n_pos_mutate15\n",
      "283\n",
      "reading f with t1.0, n_sample300, n_pos_mutate9\n",
      "288\n",
      "reading f with t0.6, n_sample300, n_pos_mutate5\n",
      "281\n",
      "reading f with t2.5, n_sample300, n_pos_mutate9\n",
      "284\n",
      "reading f with t0.5, n_sample300, n_pos_mutate6\n",
      "284\n",
      "reading f with t0.5, n_sample300, n_pos_mutate10\n",
      "285\n",
      "reading f with t0.3, n_sample300, n_pos_mutate5\n",
      "285\n",
      "reading f with t1.0, n_sample300, n_pos_mutate15\n",
      "280\n",
      "reading f with t3.0, n_sample300, n_pos_mutate7\n",
      "277\n",
      "reading f with t2.0, n_sample300, n_pos_mutate11\n",
      "287\n",
      "reading f with t10.0, n_sample300, n_pos_mutate5\n",
      "287\n",
      "reading f with t0.5, n_sample300, n_pos_mutate9\n",
      "282\n",
      "reading f with t2.5, n_sample300, n_pos_mutate7\n",
      "281\n",
      "reading f with t1.0, n_sample300, n_pos_mutate10\n",
      "288\n",
      "reading f with t4.0, n_sample300, n_pos_mutate5\n",
      "281\n",
      "reading f with t1.0, n_sample300, n_pos_mutate18\n",
      "287\n",
      "reading f with t5.0, n_sample300, n_pos_mutate10\n",
      "288\n",
      "reading f with t1.0, n_sample300, n_pos_mutate12\n",
      "282\n",
      "reading f with t2.5, n_sample300, n_pos_mutate5\n",
      "287\n",
      "reading f with t2.5, n_sample300, n_pos_mutate8\n",
      "282\n",
      "reading f with t2.0, n_sample300, n_pos_mutate13\n",
      "281\n",
      "reading f with t0.4, n_sample300, n_pos_mutate10\n",
      "290\n",
      "reading f with t3.0, n_sample300, n_pos_mutate11\n",
      "284\n",
      "reading f with t5.0, n_sample300, n_pos_mutate15\n",
      "285\n"
     ]
    },
    {
     "name": "stderr",
     "output_type": "stream",
     "text": [
      "/n/groups/marks/users/david/github/CoVES/coves/../src/dataTools.py:268: SettingWithCopyWarning: \n",
      "A value is trying to be set on a copy of a slice from a DataFrame.\n",
      "Try using .loc[row_indexer,col_indexer] = value instead\n",
      "\n",
      "See the caveats in the documentation: https://pandas.pydata.org/pandas-docs/stable/user_guide/indexing.html#returning-a-view-versus-a-copy\n",
      "  df_gen_seqs['all_seen'] = df_gen_seqs.mutkey.apply(lambda mk: not bool(sum([1 for m in mk.split(':') if m not in muts_seen_dms])))\n"
     ]
    },
    {
     "name": "stdout",
     "output_type": "stream",
     "text": [
      "reading f with t1.0, n_sample300, n_pos_mutate19\n",
      "285\n"
     ]
    },
    {
     "name": "stderr",
     "output_type": "stream",
     "text": [
      "/n/groups/marks/users/david/github/CoVES/coves/../src/dataTools.py:268: SettingWithCopyWarning: \n",
      "A value is trying to be set on a copy of a slice from a DataFrame.\n",
      "Try using .loc[row_indexer,col_indexer] = value instead\n",
      "\n",
      "See the caveats in the documentation: https://pandas.pydata.org/pandas-docs/stable/user_guide/indexing.html#returning-a-view-versus-a-copy\n",
      "  df_gen_seqs['all_seen'] = df_gen_seqs.mutkey.apply(lambda mk: not bool(sum([1 for m in mk.split(':') if m not in muts_seen_dms])))\n"
     ]
    },
    {
     "name": "stdout",
     "output_type": "stream",
     "text": [
      "reading f with t1.0, n_sample300, n_pos_mutate5\n",
      "287\n",
      "reading f with t0.5, n_sample300, n_pos_mutate19\n",
      "288\n",
      "reading f with t4.0, n_sample300, n_pos_mutate10\n",
      "284\n",
      "reading f with t3.0, n_sample300, n_pos_mutate12\n",
      "288\n",
      "reading f with t3.0, n_sample300, n_pos_mutate8\n",
      "286\n",
      "reading f with t3.0, n_sample300, n_pos_mutate13\n",
      "288\n",
      "reading f with t3.0, n_sample300, n_pos_mutate5\n",
      "282\n",
      "reading f with t2.5, n_sample300, n_pos_mutate11\n",
      "289\n",
      "reading f with t4.0, n_sample300, n_pos_mutate15\n",
      "284\n"
     ]
    },
    {
     "name": "stderr",
     "output_type": "stream",
     "text": [
      "/n/groups/marks/users/david/github/CoVES/coves/../src/dataTools.py:268: SettingWithCopyWarning: \n",
      "A value is trying to be set on a copy of a slice from a DataFrame.\n",
      "Try using .loc[row_indexer,col_indexer] = value instead\n",
      "\n",
      "See the caveats in the documentation: https://pandas.pydata.org/pandas-docs/stable/user_guide/indexing.html#returning-a-view-versus-a-copy\n",
      "  df_gen_seqs['all_seen'] = df_gen_seqs.mutkey.apply(lambda mk: not bool(sum([1 for m in mk.split(':') if m not in muts_seen_dms])))\n"
     ]
    },
    {
     "name": "stdout",
     "output_type": "stream",
     "text": [
      "reading f with t2.5, n_sample300, n_pos_mutate15\n",
      "291\n",
      "reading f with t0.5, n_sample300, n_pos_mutate15\n",
      "280\n",
      "reading f with t0.5, n_sample300, n_pos_mutate8\n",
      "280\n",
      "reading f with t2.5, n_sample300, n_pos_mutate14\n",
      "289\n",
      "reading f with t0.1, n_sample300, n_pos_mutate5\n",
      "282\n",
      "reading f with t20.0, n_sample300, n_pos_mutate15\n",
      "278\n"
     ]
    },
    {
     "name": "stderr",
     "output_type": "stream",
     "text": [
      "/n/groups/marks/users/david/github/CoVES/coves/../src/dataTools.py:268: SettingWithCopyWarning: \n",
      "A value is trying to be set on a copy of a slice from a DataFrame.\n",
      "Try using .loc[row_indexer,col_indexer] = value instead\n",
      "\n",
      "See the caveats in the documentation: https://pandas.pydata.org/pandas-docs/stable/user_guide/indexing.html#returning-a-view-versus-a-copy\n",
      "  df_gen_seqs['all_seen'] = df_gen_seqs.mutkey.apply(lambda mk: not bool(sum([1 for m in mk.split(':') if m not in muts_seen_dms])))\n"
     ]
    },
    {
     "name": "stdout",
     "output_type": "stream",
     "text": [
      "reading f with t0.1, n_sample300, n_pos_mutate15\n",
      "280\n",
      "reading f with t2.0, n_sample300, n_pos_mutate12\n",
      "281\n",
      "reading f with t0.5, n_sample300, n_pos_mutate7\n",
      "285\n",
      "reading f with t2.0, n_sample300, n_pos_mutate7\n",
      "284\n",
      "reading f with t20.0, n_sample300, n_pos_mutate10\n",
      "288\n",
      "reading f with t0.5, n_sample300, n_pos_mutate5\n",
      "284\n",
      "reading f with t2.0, n_sample300, n_pos_mutate5\n",
      "284\n",
      "reading f with t10.0, n_sample300, n_pos_mutate10\n",
      "282\n",
      "reading f with t0.7, n_sample300, n_pos_mutate15\n",
      "282\n",
      "reading f with t0.5, n_sample300, n_pos_mutate20\n",
      "284\n",
      "reading f with t0.5, n_sample300, n_pos_mutate18\n",
      "283\n",
      "reading f with t8.0, n_sample300, n_pos_mutate15\n",
      "278\n"
     ]
    },
    {
     "name": "stderr",
     "output_type": "stream",
     "text": [
      "/n/groups/marks/users/david/github/CoVES/coves/../src/dataTools.py:268: SettingWithCopyWarning: \n",
      "A value is trying to be set on a copy of a slice from a DataFrame.\n",
      "Try using .loc[row_indexer,col_indexer] = value instead\n",
      "\n",
      "See the caveats in the documentation: https://pandas.pydata.org/pandas-docs/stable/user_guide/indexing.html#returning-a-view-versus-a-copy\n",
      "  df_gen_seqs['all_seen'] = df_gen_seqs.mutkey.apply(lambda mk: not bool(sum([1 for m in mk.split(':') if m not in muts_seen_dms])))\n"
     ]
    },
    {
     "name": "stdout",
     "output_type": "stream",
     "text": [
      "reading f with t2.5, n_sample300, n_pos_mutate6\n",
      "286\n",
      "reading f with t20.0, n_sample300, n_pos_mutate5\n",
      "287\n",
      "reading f with t5.0, n_sample300, n_pos_mutate5\n",
      "291\n",
      "reading f with t3.0, n_sample300, n_pos_mutate9\n",
      "282\n",
      "reading f with t0.5, n_sample300, n_pos_mutate13\n",
      "271\n",
      "reading f with t0.5, n_sample300, n_pos_mutate11\n",
      "286\n",
      "reading f with t8.0, n_sample300, n_pos_mutate5\n",
      "288\n",
      "reading f with t3.0, n_sample300, n_pos_mutate10\n",
      "285\n",
      "reading f with t0.4, n_sample300, n_pos_mutate5\n",
      "284\n",
      "reading f with t0.3, n_sample300, n_pos_mutate15\n",
      "289\n",
      "reading f with t0.6, n_sample300, n_pos_mutate15\n",
      "277\n",
      "reading f with t3.0, n_sample300, n_pos_mutate14\n",
      "284\n",
      "reading f with t0.5, n_sample300, n_pos_mutate14\n",
      "283\n",
      "reading f with t3.0, n_sample300, n_pos_mutate6\n",
      "289\n",
      "reading f with t0.7, n_sample300, n_pos_mutate5\n",
      "287\n",
      "reading f with t2.0, n_sample300, n_pos_mutate6\n",
      "289\n",
      "reading f with t2.5, n_sample300, n_pos_mutate12\n",
      "285\n",
      "reading f with t1.0, n_sample300, n_pos_mutate7\n",
      "283\n",
      "reading f with t0.3, n_sample300, n_pos_mutate10\n",
      "277\n",
      "reading f with t1.0, n_sample300, n_pos_mutate20\n",
      "287\n"
     ]
    },
    {
     "name": "stderr",
     "output_type": "stream",
     "text": [
      "/n/groups/marks/users/david/github/CoVES/coves/../src/dataTools.py:268: SettingWithCopyWarning: \n",
      "A value is trying to be set on a copy of a slice from a DataFrame.\n",
      "Try using .loc[row_indexer,col_indexer] = value instead\n",
      "\n",
      "See the caveats in the documentation: https://pandas.pydata.org/pandas-docs/stable/user_guide/indexing.html#returning-a-view-versus-a-copy\n",
      "  df_gen_seqs['all_seen'] = df_gen_seqs.mutkey.apply(lambda mk: not bool(sum([1 for m in mk.split(':') if m not in muts_seen_dms])))\n"
     ]
    },
    {
     "name": "stdout",
     "output_type": "stream",
     "text": [
      "reading f with t0.1, n_sample300, n_pos_mutate10\n",
      "292\n",
      "reading f with t1.0, n_sample300, n_pos_mutate6\n",
      "287\n",
      "reading f with t0.4, n_sample300, n_pos_mutate15\n",
      "281\n",
      "reading f with t1.0, n_sample300, n_pos_mutate17\n",
      "285\n",
      "reading f with t0.5, n_sample300, n_pos_mutate12\n",
      "283\n",
      "reading f with t2.0, n_sample300, n_pos_mutate8\n",
      "287\n",
      "reading f with t2.0, n_sample300, n_pos_mutate15\n",
      "282\n",
      "reading f with t8.0, n_sample300, n_pos_mutate10\n",
      "288\n"
     ]
    }
   ],
   "source": [
    "sample_din = '../data/coves/samples/gfp/'\n",
    "\n",
    "df_coves_sampling_results_all = dt.collate_gfp_sampling_results_coves(sample_din, \n",
    "                                                               model, \n",
    "                                                               muts_seen_dms, \n",
    "                                                               wt_gfp_seq_dms, \n",
    "                                                               threshold,\n",
    "                                                               suffix_filter='230528.csv', \n",
    "                                                               suffix_exclude = '.txt')"
   ]
  },
  {
   "cell_type": "markdown",
   "id": "1ff3bcaf-02ab-4504-8315-b049b76f32a4",
   "metadata": {},
   "source": [
    "## read ESM generation files in:"
   ]
  },
  {
   "cell_type": "code",
   "execution_count": 29,
   "id": "e825f508-d8c4-4360-bae3-27f864f2e0d1",
   "metadata": {
    "tags": []
   },
   "outputs": [
    {
     "name": "stdout",
     "output_type": "stream",
     "text": [
      "reading f with t3.0, n_sample400, n_pos_mutate5\n",
      "reading f with t0.5, n_sample400, n_pos_mutate11\n",
      "reading f with t0.001, n_sample400, n_pos_mutate10\n",
      "reading f with t2.0, n_sample400, n_pos_mutate10\n",
      "reading f with t5.0, n_sample400, n_pos_mutate10\n",
      "reading f with t30.0, n_sample400, n_pos_mutate5\n",
      "reading f with t0.1, n_sample400, n_pos_mutate5\n",
      "reading f with t1.75, n_sample400, n_pos_mutate5\n",
      "reading f with t10.0, n_sample400, n_pos_mutate15\n",
      "reading f with t1.75, n_sample400, n_pos_mutate10\n"
     ]
    },
    {
     "name": "stderr",
     "output_type": "stream",
     "text": [
      "/n/groups/marks/users/david/github/CoVES/coves/../src/dataTools.py:268: SettingWithCopyWarning: \n",
      "A value is trying to be set on a copy of a slice from a DataFrame.\n",
      "Try using .loc[row_indexer,col_indexer] = value instead\n",
      "\n",
      "See the caveats in the documentation: https://pandas.pydata.org/pandas-docs/stable/user_guide/indexing.html#returning-a-view-versus-a-copy\n",
      "  df_gen_seqs['all_seen'] = df_gen_seqs.mutkey.apply(lambda mk: not bool(sum([1 for m in mk.split(':') if m not in muts_seen_dms])))\n"
     ]
    },
    {
     "name": "stdout",
     "output_type": "stream",
     "text": [
      "reading f with t1.25, n_sample400, n_pos_mutate15\n",
      "reading f with t4.0, n_sample400, n_pos_mutate10\n",
      "reading f with t5.0, n_sample400, n_pos_mutate5\n",
      "reading f with t0.75, n_sample400, n_pos_mutate19\n"
     ]
    },
    {
     "name": "stderr",
     "output_type": "stream",
     "text": [
      "/n/groups/marks/users/david/github/CoVES/coves/../src/dataTools.py:268: SettingWithCopyWarning: \n",
      "A value is trying to be set on a copy of a slice from a DataFrame.\n",
      "Try using .loc[row_indexer,col_indexer] = value instead\n",
      "\n",
      "See the caveats in the documentation: https://pandas.pydata.org/pandas-docs/stable/user_guide/indexing.html#returning-a-view-versus-a-copy\n",
      "  df_gen_seqs['all_seen'] = df_gen_seqs.mutkey.apply(lambda mk: not bool(sum([1 for m in mk.split(':') if m not in muts_seen_dms])))\n"
     ]
    },
    {
     "name": "stdout",
     "output_type": "stream",
     "text": [
      "reading f with t1000.0, n_sample400, n_pos_mutate10\n",
      "reading f with t0.75, n_sample400, n_pos_mutate10\n",
      "reading f with t1000.0, n_sample400, n_pos_mutate5\n",
      "reading f with t1.0, n_sample400, n_pos_mutate17\n",
      "reading f with t1.0, n_sample400, n_pos_mutate11\n",
      "reading f with t80.0, n_sample400, n_pos_mutate5\n",
      "reading f with t1.0, n_sample400, n_pos_mutate7\n",
      "reading f with t0.75, n_sample400, n_pos_mutate15\n",
      "reading f with t0.5, n_sample400, n_pos_mutate9\n",
      "reading f with t0.75, n_sample400, n_pos_mutate7\n",
      "reading f with t20.0, n_sample400, n_pos_mutate10\n",
      "reading f with t3.0, n_sample400, n_pos_mutate15\n",
      "reading f with t0.75, n_sample400, n_pos_mutate17\n",
      "reading f with t0.5, n_sample400, n_pos_mutate7\n",
      "reading f with t0.75, n_sample400, n_pos_mutate5\n",
      "reading f with t4.0, n_sample400, n_pos_mutate15\n"
     ]
    },
    {
     "name": "stderr",
     "output_type": "stream",
     "text": [
      "/n/groups/marks/users/david/github/CoVES/coves/../src/dataTools.py:268: SettingWithCopyWarning: \n",
      "A value is trying to be set on a copy of a slice from a DataFrame.\n",
      "Try using .loc[row_indexer,col_indexer] = value instead\n",
      "\n",
      "See the caveats in the documentation: https://pandas.pydata.org/pandas-docs/stable/user_guide/indexing.html#returning-a-view-versus-a-copy\n",
      "  df_gen_seqs['all_seen'] = df_gen_seqs.mutkey.apply(lambda mk: not bool(sum([1 for m in mk.split(':') if m not in muts_seen_dms])))\n"
     ]
    },
    {
     "name": "stdout",
     "output_type": "stream",
     "text": [
      "reading f with t100.0, n_sample400, n_pos_mutate10\n",
      "reading f with t200.0, n_sample400, n_pos_mutate10\n",
      "reading f with t80.0, n_sample400, n_pos_mutate10\n",
      "reading f with t0.1, n_sample400, n_pos_mutate15\n",
      "reading f with t1.5, n_sample400, n_pos_mutate5\n",
      "reading f with t0.1, n_sample400, n_pos_mutate10\n",
      "reading f with t0.5, n_sample400, n_pos_mutate19\n"
     ]
    },
    {
     "name": "stderr",
     "output_type": "stream",
     "text": [
      "/n/groups/marks/users/david/github/CoVES/coves/../src/dataTools.py:268: SettingWithCopyWarning: \n",
      "A value is trying to be set on a copy of a slice from a DataFrame.\n",
      "Try using .loc[row_indexer,col_indexer] = value instead\n",
      "\n",
      "See the caveats in the documentation: https://pandas.pydata.org/pandas-docs/stable/user_guide/indexing.html#returning-a-view-versus-a-copy\n",
      "  df_gen_seqs['all_seen'] = df_gen_seqs.mutkey.apply(lambda mk: not bool(sum([1 for m in mk.split(':') if m not in muts_seen_dms])))\n"
     ]
    },
    {
     "name": "stdout",
     "output_type": "stream",
     "text": [
      "reading f with t10.0, n_sample400, n_pos_mutate5\n",
      "reading f with t200.0, n_sample400, n_pos_mutate5\n",
      "reading f with t100.0, n_sample400, n_pos_mutate5\n",
      "reading f with t0.01, n_sample400, n_pos_mutate15\n",
      "reading f with t0.75, n_sample400, n_pos_mutate9\n",
      "reading f with t70.0, n_sample400, n_pos_mutate5\n",
      "reading f with t1.75, n_sample400, n_pos_mutate15\n",
      "reading f with t1.0, n_sample400, n_pos_mutate15\n",
      "reading f with t0.5, n_sample400, n_pos_mutate15\n",
      "reading f with t1.25, n_sample400, n_pos_mutate5\n",
      "reading f with t0.01, n_sample400, n_pos_mutate5\n",
      "reading f with t4.0, n_sample400, n_pos_mutate5\n",
      "reading f with t40.0, n_sample400, n_pos_mutate10\n",
      "reading f with t0.75, n_sample400, n_pos_mutate13\n",
      "reading f with t1.0, n_sample400, n_pos_mutate10\n",
      "reading f with t2.0, n_sample400, n_pos_mutate15\n",
      "reading f with t0.5, n_sample400, n_pos_mutate13\n",
      "reading f with t20.0, n_sample400, n_pos_mutate5\n",
      "reading f with t70.0, n_sample400, n_pos_mutate10\n",
      "reading f with t0.001, n_sample400, n_pos_mutate5\n",
      "reading f with t0.5, n_sample400, n_pos_mutate10\n",
      "reading f with t1.0, n_sample400, n_pos_mutate19\n"
     ]
    },
    {
     "name": "stderr",
     "output_type": "stream",
     "text": [
      "/n/groups/marks/users/david/github/CoVES/coves/../src/dataTools.py:268: SettingWithCopyWarning: \n",
      "A value is trying to be set on a copy of a slice from a DataFrame.\n",
      "Try using .loc[row_indexer,col_indexer] = value instead\n",
      "\n",
      "See the caveats in the documentation: https://pandas.pydata.org/pandas-docs/stable/user_guide/indexing.html#returning-a-view-versus-a-copy\n",
      "  df_gen_seqs['all_seen'] = df_gen_seqs.mutkey.apply(lambda mk: not bool(sum([1 for m in mk.split(':') if m not in muts_seen_dms])))\n"
     ]
    },
    {
     "name": "stdout",
     "output_type": "stream",
     "text": [
      "reading f with t3.0, n_sample400, n_pos_mutate10\n",
      "reading f with t0.01, n_sample400, n_pos_mutate10\n",
      "reading f with t5.0, n_sample400, n_pos_mutate15\n"
     ]
    },
    {
     "name": "stderr",
     "output_type": "stream",
     "text": [
      "/n/groups/marks/users/david/github/CoVES/coves/../src/dataTools.py:268: SettingWithCopyWarning: \n",
      "A value is trying to be set on a copy of a slice from a DataFrame.\n",
      "Try using .loc[row_indexer,col_indexer] = value instead\n",
      "\n",
      "See the caveats in the documentation: https://pandas.pydata.org/pandas-docs/stable/user_guide/indexing.html#returning-a-view-versus-a-copy\n",
      "  df_gen_seqs['all_seen'] = df_gen_seqs.mutkey.apply(lambda mk: not bool(sum([1 for m in mk.split(':') if m not in muts_seen_dms])))\n"
     ]
    },
    {
     "name": "stdout",
     "output_type": "stream",
     "text": [
      "reading f with t30.0, n_sample400, n_pos_mutate10\n",
      "reading f with t2.0, n_sample400, n_pos_mutate5\n",
      "reading f with t10.0, n_sample400, n_pos_mutate10\n",
      "reading f with t1.0, n_sample400, n_pos_mutate13\n",
      "reading f with t1.0, n_sample400, n_pos_mutate9\n",
      "reading f with t1.5, n_sample400, n_pos_mutate10\n",
      "reading f with t0.5, n_sample400, n_pos_mutate5\n",
      "reading f with t0.75, n_sample400, n_pos_mutate11\n",
      "reading f with t1.25, n_sample400, n_pos_mutate10\n",
      "reading f with t1.5, n_sample400, n_pos_mutate15\n",
      "reading f with t0.5, n_sample400, n_pos_mutate17\n",
      "reading f with t1.0, n_sample400, n_pos_mutate5\n",
      "reading f with t40.0, n_sample400, n_pos_mutate5\n"
     ]
    }
   ],
   "source": [
    "esm_dout_samples = \"../other_tools/esm/samples/gfp_samples/\"\n",
    "\n",
    "df_result_esm_all = dt.collate_gfp_sampling_results_esm(esm_dout_samples, \n",
    "                                               model, \n",
    "                                               muts_seen_dms, \n",
    "                                               wt_gfp_seq_dms,\n",
    "                                               list_muts_dms_exclude, # list of mutations\n",
    "                                               threshold,\n",
    "                                               suffix_filter='.csv')"
   ]
  },
  {
   "cell_type": "markdown",
   "id": "48986686-adc2-477d-aadc-564212ab2f72",
   "metadata": {},
   "source": [
    "# read proteinMPNN generated samples in"
   ]
  },
  {
   "cell_type": "code",
   "execution_count": 31,
   "id": "36837c6a-4b08-4be5-bdad-c17bc5f1dce2",
   "metadata": {
    "tags": []
   },
   "outputs": [
    {
     "name": "stdout",
     "output_type": "stream",
     "text": [
      "reading f with t4.0, n_sample1600, n_pos_mutate10\n",
      "reading f with t0.25, n_sample1600, n_pos_mutate15\n",
      "reading f with t1.0, n_sample1600, n_pos_mutate19\n",
      "reading f with t0.2, n_sample1600, n_pos_mutate15\n",
      "reading f with t0.5, n_sample1600, n_pos_mutate15\n",
      "reading f with t0.15, n_sample400, n_pos_mutate10\n",
      "reading f with t2.25, n_sample1600, n_pos_mutate5\n",
      "reading f with t0.7, n_sample400, n_pos_mutate10\n",
      "reading f with t1.75, n_sample1600, n_pos_mutate10\n",
      "reading f with t1.0, n_sample1600, n_pos_mutate13\n",
      "reading f with t0.1, n_sample400, n_pos_mutate5\n",
      "reading f with t0.7, n_sample1600, n_pos_mutate13\n",
      "reading f with t100.0, n_sample400, n_pos_mutate5\n",
      "reading f with t1.5, n_sample1600, n_pos_mutate5\n",
      "reading f with t70.0, n_sample400, n_pos_mutate5\n",
      "reading f with t1.5, n_sample1600, n_pos_mutate11\n",
      "reading f with t10.0, n_sample1600, n_pos_mutate15\n"
     ]
    },
    {
     "name": "stderr",
     "output_type": "stream",
     "text": [
      "/n/groups/marks/users/david/github/CoVES/coves/../src/dataTools.py:268: SettingWithCopyWarning: \n",
      "A value is trying to be set on a copy of a slice from a DataFrame.\n",
      "Try using .loc[row_indexer,col_indexer] = value instead\n",
      "\n",
      "See the caveats in the documentation: https://pandas.pydata.org/pandas-docs/stable/user_guide/indexing.html#returning-a-view-versus-a-copy\n",
      "  df_gen_seqs['all_seen'] = df_gen_seqs.mutkey.apply(lambda mk: not bool(sum([1 for m in mk.split(':') if m not in muts_seen_dms])))\n"
     ]
    },
    {
     "name": "stdout",
     "output_type": "stream",
     "text": [
      "reading f with t5.0, n_sample1600, n_pos_mutate10\n",
      "reading f with t10.0, n_sample1600, n_pos_mutate5\n",
      "reading f with t0.5, n_sample400, n_pos_mutate5\n",
      "reading f with t2.5, n_sample1600, n_pos_mutate15\n"
     ]
    },
    {
     "name": "stderr",
     "output_type": "stream",
     "text": [
      "/n/groups/marks/users/david/github/CoVES/coves/../src/dataTools.py:268: SettingWithCopyWarning: \n",
      "A value is trying to be set on a copy of a slice from a DataFrame.\n",
      "Try using .loc[row_indexer,col_indexer] = value instead\n",
      "\n",
      "See the caveats in the documentation: https://pandas.pydata.org/pandas-docs/stable/user_guide/indexing.html#returning-a-view-versus-a-copy\n",
      "  df_gen_seqs['all_seen'] = df_gen_seqs.mutkey.apply(lambda mk: not bool(sum([1 for m in mk.split(':') if m not in muts_seen_dms])))\n"
     ]
    },
    {
     "name": "stdout",
     "output_type": "stream",
     "text": [
      "reading f with t0.7, n_sample1600, n_pos_mutate19\n",
      "reading f with t0.2, n_sample400, n_pos_mutate5\n",
      "reading f with t1.5, n_sample1600, n_pos_mutate13\n",
      "reading f with t40.0, n_sample400, n_pos_mutate10\n",
      "reading f with t2.0, n_sample1600, n_pos_mutate15\n"
     ]
    },
    {
     "name": "stderr",
     "output_type": "stream",
     "text": [
      "/n/groups/marks/users/david/github/CoVES/coves/../src/dataTools.py:268: SettingWithCopyWarning: \n",
      "A value is trying to be set on a copy of a slice from a DataFrame.\n",
      "Try using .loc[row_indexer,col_indexer] = value instead\n",
      "\n",
      "See the caveats in the documentation: https://pandas.pydata.org/pandas-docs/stable/user_guide/indexing.html#returning-a-view-versus-a-copy\n",
      "  df_gen_seqs['all_seen'] = df_gen_seqs.mutkey.apply(lambda mk: not bool(sum([1 for m in mk.split(':') if m not in muts_seen_dms])))\n"
     ]
    },
    {
     "name": "stdout",
     "output_type": "stream",
     "text": [
      "reading f with t40.0, n_sample1600, n_pos_mutate5\n",
      "reading f with t5.0, n_sample1600, n_pos_mutate15\n"
     ]
    },
    {
     "name": "stderr",
     "output_type": "stream",
     "text": [
      "/n/groups/marks/users/david/github/CoVES/coves/../src/dataTools.py:268: SettingWithCopyWarning: \n",
      "A value is trying to be set on a copy of a slice from a DataFrame.\n",
      "Try using .loc[row_indexer,col_indexer] = value instead\n",
      "\n",
      "See the caveats in the documentation: https://pandas.pydata.org/pandas-docs/stable/user_guide/indexing.html#returning-a-view-versus-a-copy\n",
      "  df_gen_seqs['all_seen'] = df_gen_seqs.mutkey.apply(lambda mk: not bool(sum([1 for m in mk.split(':') if m not in muts_seen_dms])))\n"
     ]
    },
    {
     "name": "stdout",
     "output_type": "stream",
     "text": [
      "reading f with t2.25, n_sample1600, n_pos_mutate10\n",
      "reading f with t0.15, n_sample400, n_pos_mutate5\n",
      "reading f with t0.3, n_sample400, n_pos_mutate10\n",
      "reading f with t1.5, n_sample1600, n_pos_mutate15\n",
      "reading f with t3.0, n_sample400, n_pos_mutate10\n",
      "reading f with t70.0, n_sample1600, n_pos_mutate5\n",
      "reading f with t1.0, n_sample1600, n_pos_mutate11\n",
      "reading f with t1.5, n_sample1600, n_pos_mutate10\n",
      "reading f with t0.7, n_sample1600, n_pos_mutate11\n",
      "reading f with t20.0, n_sample400, n_pos_mutate5\n",
      "reading f with t2.0, n_sample1600, n_pos_mutate5\n",
      "reading f with t0.0001, n_sample1600, n_pos_mutate15\n",
      "reading f with t5.0, n_sample400, n_pos_mutate5\n",
      "reading f with t0.25, n_sample400, n_pos_mutate5\n",
      "reading f with t40.0, n_sample1600, n_pos_mutate10\n",
      "reading f with t3.0, n_sample1600, n_pos_mutate10\n",
      "reading f with t5.0, n_sample400, n_pos_mutate10\n",
      "reading f with t1.0, n_sample1600, n_pos_mutate7\n",
      "reading f with t1.75, n_sample1600, n_pos_mutate5\n",
      "reading f with t0.15, n_sample1600, n_pos_mutate15\n",
      "reading f with t0.7, n_sample1600, n_pos_mutate5\n",
      "reading f with t1.0, n_sample1600, n_pos_mutate9\n",
      "reading f with t1.0, n_sample400, n_pos_mutate10\n",
      "reading f with t0.1, n_sample1600, n_pos_mutate15\n",
      "reading f with t4.0, n_sample1600, n_pos_mutate5\n",
      "reading f with t4.0, n_sample400, n_pos_mutate10\n",
      "reading f with t20.0, n_sample1600, n_pos_mutate10\n",
      "reading f with t1.5, n_sample1600, n_pos_mutate7\n",
      "reading f with t0.7, n_sample1600, n_pos_mutate17\n",
      "reading f with t40.0, n_sample400, n_pos_mutate5\n",
      "reading f with t0.1, n_sample400, n_pos_mutate10\n",
      "reading f with t1.0, n_sample1600, n_pos_mutate17\n",
      "reading f with t1.5, n_sample1600, n_pos_mutate17\n"
     ]
    },
    {
     "name": "stderr",
     "output_type": "stream",
     "text": [
      "/n/groups/marks/users/david/github/CoVES/coves/../src/dataTools.py:268: SettingWithCopyWarning: \n",
      "A value is trying to be set on a copy of a slice from a DataFrame.\n",
      "Try using .loc[row_indexer,col_indexer] = value instead\n",
      "\n",
      "See the caveats in the documentation: https://pandas.pydata.org/pandas-docs/stable/user_guide/indexing.html#returning-a-view-versus-a-copy\n",
      "  df_gen_seqs['all_seen'] = df_gen_seqs.mutkey.apply(lambda mk: not bool(sum([1 for m in mk.split(':') if m not in muts_seen_dms])))\n"
     ]
    },
    {
     "name": "stdout",
     "output_type": "stream",
     "text": [
      "reading f with t0.3, n_sample400, n_pos_mutate5\n",
      "reading f with t2.5, n_sample1600, n_pos_mutate10\n",
      "reading f with t0.7, n_sample1600, n_pos_mutate9\n",
      "reading f with t1.0, n_sample1600, n_pos_mutate15\n",
      "reading f with t10.0, n_sample400, n_pos_mutate5\n",
      "reading f with t0.3, n_sample1600, n_pos_mutate15\n",
      "reading f with t2.5, n_sample1600, n_pos_mutate5\n",
      "reading f with t0.25, n_sample400, n_pos_mutate10\n",
      "reading f with t1.5, n_sample1600, n_pos_mutate19\n"
     ]
    },
    {
     "name": "stderr",
     "output_type": "stream",
     "text": [
      "/n/groups/marks/users/david/github/CoVES/coves/../src/dataTools.py:268: SettingWithCopyWarning: \n",
      "A value is trying to be set on a copy of a slice from a DataFrame.\n",
      "Try using .loc[row_indexer,col_indexer] = value instead\n",
      "\n",
      "See the caveats in the documentation: https://pandas.pydata.org/pandas-docs/stable/user_guide/indexing.html#returning-a-view-versus-a-copy\n",
      "  df_gen_seqs['all_seen'] = df_gen_seqs.mutkey.apply(lambda mk: not bool(sum([1 for m in mk.split(':') if m not in muts_seen_dms])))\n"
     ]
    },
    {
     "name": "stdout",
     "output_type": "stream",
     "text": [
      "reading f with t20.0, n_sample1600, n_pos_mutate5\n",
      "reading f with t100.0, n_sample400, n_pos_mutate10\n",
      "reading f with t100.0, n_sample1600, n_pos_mutate5\n",
      "reading f with t1.5, n_sample1600, n_pos_mutate9\n",
      "reading f with t1.0, n_sample1600, n_pos_mutate10\n",
      "reading f with t0.7, n_sample400, n_pos_mutate5\n",
      "reading f with t4.0, n_sample400, n_pos_mutate5\n",
      "reading f with t1000.0, n_sample400, n_pos_mutate5\n",
      "reading f with t0.7, n_sample1600, n_pos_mutate10\n",
      "reading f with t10.0, n_sample400, n_pos_mutate10\n",
      "reading f with t100.0, n_sample1600, n_pos_mutate10\n",
      "reading f with t1.75, n_sample1600, n_pos_mutate15\n"
     ]
    },
    {
     "name": "stderr",
     "output_type": "stream",
     "text": [
      "/n/groups/marks/users/david/github/CoVES/coves/../src/dataTools.py:268: SettingWithCopyWarning: \n",
      "A value is trying to be set on a copy of a slice from a DataFrame.\n",
      "Try using .loc[row_indexer,col_indexer] = value instead\n",
      "\n",
      "See the caveats in the documentation: https://pandas.pydata.org/pandas-docs/stable/user_guide/indexing.html#returning-a-view-versus-a-copy\n",
      "  df_gen_seqs['all_seen'] = df_gen_seqs.mutkey.apply(lambda mk: not bool(sum([1 for m in mk.split(':') if m not in muts_seen_dms])))\n"
     ]
    },
    {
     "name": "stdout",
     "output_type": "stream",
     "text": [
      "reading f with t70.0, n_sample1600, n_pos_mutate10\n",
      "reading f with t0.0001, n_sample400, n_pos_mutate10\n",
      "reading f with t2.25, n_sample1600, n_pos_mutate15\n"
     ]
    },
    {
     "name": "stderr",
     "output_type": "stream",
     "text": [
      "/n/groups/marks/users/david/github/CoVES/coves/../src/dataTools.py:268: SettingWithCopyWarning: \n",
      "A value is trying to be set on a copy of a slice from a DataFrame.\n",
      "Try using .loc[row_indexer,col_indexer] = value instead\n",
      "\n",
      "See the caveats in the documentation: https://pandas.pydata.org/pandas-docs/stable/user_guide/indexing.html#returning-a-view-versus-a-copy\n",
      "  df_gen_seqs['all_seen'] = df_gen_seqs.mutkey.apply(lambda mk: not bool(sum([1 for m in mk.split(':') if m not in muts_seen_dms])))\n"
     ]
    },
    {
     "name": "stdout",
     "output_type": "stream",
     "text": [
      "reading f with t2.0, n_sample1600, n_pos_mutate10\n",
      "reading f with t0.7, n_sample1600, n_pos_mutate7\n",
      "reading f with t0.0001, n_sample400, n_pos_mutate5\n",
      "reading f with t0.2, n_sample400, n_pos_mutate10\n",
      "reading f with t3.0, n_sample400, n_pos_mutate5\n",
      "reading f with t0.5, n_sample400, n_pos_mutate10\n",
      "reading f with t0.7, n_sample1600, n_pos_mutate15\n",
      "reading f with t1.0, n_sample400, n_pos_mutate5\n",
      "reading f with t20.0, n_sample400, n_pos_mutate10\n",
      "reading f with t2.0, n_sample400, n_pos_mutate5\n",
      "reading f with t3.0, n_sample1600, n_pos_mutate5\n",
      "reading f with t5.0, n_sample1600, n_pos_mutate5\n",
      "reading f with t1.0, n_sample1600, n_pos_mutate5\n",
      "reading f with t10.0, n_sample1600, n_pos_mutate10\n",
      "reading f with t70.0, n_sample400, n_pos_mutate10\n",
      "reading f with t1000.0, n_sample400, n_pos_mutate10\n",
      "reading f with t2.0, n_sample400, n_pos_mutate10\n"
     ]
    }
   ],
   "source": [
    "mpnn_dout_samples = '../other_tools/protein_mpnn/samples/gfp_samples/'\n",
    "\n",
    "df_mpnn_all = dt.collate_gfp_sampling_results_mpnn(mpnn_dout_samples, \n",
    "                                           model, \n",
    "                                           muts_seen_dms, \n",
    "                                           wt_gfp_seq_dms,\n",
    "                                           list_muts_dms_exclude, # list of mutations\n",
    "                                           threshold,\n",
    "                                           suffix_filter='.csv'\n",
    "                                            )"
   ]
  },
  {
   "cell_type": "markdown",
   "id": "376d0a09-9277-4477-b88e-e0394ea5966a",
   "metadata": {},
   "source": [
    "## plot GFP sampling results"
   ]
  },
  {
   "cell_type": "code",
   "execution_count": 32,
   "id": "bec645c3-276a-4868-bdbf-68eda22dbfa0",
   "metadata": {},
   "outputs": [
    {
     "data": {
      "image/png": "[encoded data removed]",
      "text/plain": [
       "<Figure size 200x200 with 1 Axes>"
      ]
     },
     "metadata": {},
     "output_type": "display_data"
    }
   ],
   "source": [
    "### plotting results with maximum number of mutated positions = 10, while scanning different temperatures\n",
    "dot_size = 10\n",
    "alpha_other = 0.5\n",
    "fig = plt.figure(figsize=(2,2))\n",
    "\n",
    "plt.scatter(df_coves_sampling_results_all.loc[df_coves_sampling_results_all.max_mut ==10].average_wt_hamming,\n",
    "            df_coves_sampling_results_all.loc[df_coves_sampling_results_all.max_mut ==10].frac_above_thresh, \n",
    "            label='COVES, max=10', s=dot_size, c= '#5B49B6')\n",
    "\n",
    "df_plot = df_result_esm_all.loc[df_result_esm_all.max_mut ==10]\n",
    "plt.scatter(df_plot.average_wt_hamming,\n",
    "            df_plot.frac_above_thresh, \n",
    "            label='esm-IF, max=10', s=dot_size, alpha=alpha_other, c='#59C09D', marker='x')\n",
    "\n",
    "df_plot = df_mpnn_all.loc[(df_mpnn_all.max_mut ==10)]\n",
    "plt.scatter(df_plot.average_wt_hamming,\n",
    "            df_plot.frac_above_thresh, \n",
    "            label='proteinMPNN, max10', s=dot_size, alpha=alpha_other, c='green', marker='s')\n",
    "\n",
    "# plot observed function\n",
    "plt.plot(list_hamming_obs,list_fraction_alive_obs, c='black', label='observed', lw=0.5)\n",
    "plt.xticks(list(range(1,10)),size=8)\n",
    "plt.yticks([0,0.25, 0.5, 0.75, 1],size=8)\n",
    "\n",
    "plt.xlim([0,10])\n",
    "plt.ylim([-0.05,1.05])\n",
    "plt.xlabel('mean # muts from wt', fontsize=9)\n",
    "plt.ylabel('fraction > half-maximal', fontsize=9)\n",
    "#plt.legend(loc='upper right',fontsize=9)\n",
    "plt.grid(alpha=0.3)\n",
    "fig.patch.set_visible(False)\n",
    "#fig.tight_layout()\n",
    "\n",
    "plt.savefig(dout + 'gfp_sample_eval_div_func_maxPos10_t_scan.svg', format='svg')\n",
    "\n",
    "plt.show()"
   ]
  },
  {
   "cell_type": "markdown",
   "id": "38e8dde6-a7ff-4dc4-920c-de60aa99b236",
   "metadata": {},
   "source": [
    "## plotting sample evaluation using different scan of max_pos_mutate at low temperatures"
   ]
  },
  {
   "cell_type": "code",
   "execution_count": 33,
   "id": "d09640b5-bbf1-4a3b-8205-6714cd181a5e",
   "metadata": {},
   "outputs": [
    {
     "data": {
      "image/png": "[encoded data removed]",
      "text/plain": [
       "<Figure size 200x200 with 1 Axes>"
      ]
     },
     "metadata": {},
     "output_type": "display_data"
    }
   ],
   "source": [
    "dot_size = 10\n",
    "alpha_other = 0.5\n",
    "fig = plt.figure(figsize=(2,2))\n",
    "\n",
    "t=0.5\n",
    "df_plot = df_coves_sampling_results_all.loc[df_coves_sampling_results_all.t==t]\n",
    "plt.scatter(df_plot.average_wt_hamming,\n",
    "            df_plot.frac_above_thresh, \n",
    "            label=f'COVES, t={t}', s=dot_size, c= '#5B49B6')\n",
    "\n",
    "t=1.0\n",
    "df_plot = df_result_esm_all.loc[df_result_esm_all.t==t]\n",
    "plt.scatter(df_plot.average_wt_hamming,\n",
    "            df_plot.frac_above_thresh, \n",
    "            label=f'esm, t={t}', s=dot_size, c='#59C09D', marker='x')\n",
    "t=1.5   \n",
    "df_plot = df_mpnn_all.loc[df_mpnn_all.t==t]\n",
    "plt.scatter(df_plot.average_wt_hamming,\n",
    "            df_plot.frac_above_thresh, \n",
    "            label=f'mpnn, t={t}', s=dot_size, c='green', marker='s')\n",
    "\n",
    "\n",
    "# plot observed function\n",
    "plt.plot(list_hamming_obs,list_fraction_alive_obs, c='black', label='observed', lw=0.5)\n",
    "plt.xticks(list(range(1,10)),size=8)\n",
    "plt.yticks([0,0.25, 0.5, 0.75, 1],size=8)\n",
    "plt.xlim([0,10])\n",
    "plt.ylim([-0.05,1.05])\n",
    "plt.xlabel('mean # muts from wt', fontsize=9)\n",
    "plt.ylabel('fraction > half-maximal', fontsize=9)\n",
    "#plt.legend(fontsize=9)\n",
    "plt.grid(alpha=0.3)\n",
    "fig.patch.set_visible(False)\n",
    "#fig.tight_layout()\n",
    "plt.savefig(dout + 'gfp_sample_eval_div_func_lowT_scan_mutPos.svg', format='svg')\n",
    "plt.show()"
   ]
  },
  {
   "cell_type": "markdown",
   "id": "35fe288d-ce2a-4900-bcb8-2eb7f8c68da0",
   "metadata": {},
   "source": [
    "## plotting sample eval with max_pos15 and different temperatures"
   ]
  },
  {
   "cell_type": "code",
   "execution_count": 106,
   "id": "2bfe56dc-1c20-41dc-838a-d1c737dd2065",
   "metadata": {},
   "outputs": [
    {
     "data": {
      "image/png": "[encoded data removed]",
      "text/plain": [
       "<Figure size 200x200 with 1 Axes>"
      ]
     },
     "metadata": {},
     "output_type": "display_data"
    }
   ],
   "source": [
    "dot_size = 10\n",
    "alpha_other = 0.5\n",
    "plt.figure(figsize=(2,2))\n",
    "df_plot = df_coves_sampling_results_all.loc[df_coves_sampling_results_all.max_mut ==15]\n",
    "plt.scatter(df_plot.average_wt_hamming,\n",
    "            df_plot.frac_above_thresh, \n",
    "            label='COVES, max=15', s=dot_size, c= '#5B49B6')\n",
    "\n",
    "df_plot = df_result_esm_all.loc[df_result_esm_all.max_mut==15]\n",
    "plt.scatter(df_plot.average_wt_hamming,\n",
    "            df_plot.frac_above_thresh, \n",
    "            label=f'esm, t=15', s=dot_size, c='#59C09D', marker='x')\n",
    "\n",
    "df_plot = df_mpnn_all.loc[df_mpnn_all.max_mut==15]\n",
    "plt.scatter(df_plot.average_wt_hamming,\n",
    "            df_plot.frac_above_thresh, \n",
    "            label=f'mpnn, max_mut=15', s=dot_size, c='green', marker='s', alpha=alpha_other)\n",
    "# plot observed function\n",
    "plt.plot(list_hamming_obs,list_fraction_alive_obs, c='black', label='observed', lw=0.5)\n",
    "plt.xticks(list(range(1,10)),size=8)\n",
    "plt.yticks([0,0.25, 0.5, 0.75, 1],size=8)\n",
    "\n",
    "plt.xlim([0,10])\n",
    "plt.ylim([-0.05,1.05])\n",
    "plt.xlabel('mean # muts from wt', fontsize=9)\n",
    "plt.ylabel('fraction > half-maximal', fontsize=9)\n",
    "plt.legend(fontsize=9)\n",
    "plt.grid(alpha=0.3)\n",
    "fig.patch.set_visible(False)\n",
    "#fig.tight_layout()\n",
    "plt.savefig(dout + 'gfp_sample_eval_div_func_maxPos15_t_scan.svg', format='svg')\n",
    "plt.show()"
   ]
  }
 ],
 "metadata": {
  "kernelspec": {
   "display_name": "Python (dd_tf2_mamba)",
   "language": "python",
   "name": "dd_tf2_mamba"
  },
  "language_info": {
   "codemirror_mode": {
    "name": "ipython",
    "version": 3
   },
   "file_extension": ".py",
   "mimetype": "text/x-python",
   "name": "python",
   "nbconvert_exporter": "python",
   "pygments_lexer": "ipython3",
   "version": "3.10.5"
  }
 },
 "nbformat": 4,
 "nbformat_minor": 5
}
