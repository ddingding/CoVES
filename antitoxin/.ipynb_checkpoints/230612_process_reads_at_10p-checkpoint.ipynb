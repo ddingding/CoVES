{
 "cells": [
  {
   "cell_type": "code",
   "execution_count": 6,
   "id": "91611234-8de0-4533-90b3-ea71d04dba52",
   "metadata": {},
   "outputs": [],
   "source": [
    "import pandas as pd\n",
    "from copy import deepcopy\n",
    "import numpy as np"
   ]
  },
  {
   "cell_type": "code",
   "execution_count": 7,
   "id": "813b9a06-1a76-4ecc-bc3d-dc465f64b2f2",
   "metadata": {},
   "outputs": [],
   "source": [
    "din = '/n/groups/marks/users/david/ex62/data/'\n",
    "\n",
    "fin = din + 'df_704_10x_rc3_col_processed.csv'\n",
    "df_10pos = pd.read_csv(fin)\n",
    "\n",
    "# get read_cut\n",
    "rc = 3\n",
    "def get_read_cut_df(df, read_cut = 3):\n",
    "    # returns a dataframe only for variants with at least 3 read pre and post seleciton in both experiments\n",
    "    df_read = df[(df.pre1>read_cut) &(df.pre2 > read_cut) & (df.post1>read_cut) &(df.post2 > read_cut)]\n",
    "    return df_read\n",
    "df_10pos_rc3 = deepcopy(df_10pos)\n",
    "df_10pos_rc3 = get_read_cut_df(df_10pos_rc3, read_cut=rc)\n",
    "#normalize\n",
    "# renormalize fitness for this readcutoff\n",
    "def norm_lrr(df):\n",
    "    df['mean_lrr'] = (df['lrr1'] + df['lrr2'])/2\n",
    "\n",
    "    df_stop = df[df.stop == True]\n",
    "    df_wt = df[df.wt == True]\n",
    "\n",
    "    mean_lrr_stop = np.mean(df_stop.mean_lrr)\n",
    "    mean_lrr_wt = np.mean(df_wt.mean_lrr)\n",
    "\n",
    "    df['mean_lrr_norm'] = (df.mean_lrr - mean_lrr_stop) / (mean_lrr_wt - mean_lrr_stop)\n",
    "\n",
    "    df['lrr1_norm'] = (df.lrr1 - np.mean(df_stop['lrr1'])) / (np.mean(df_wt['lrr1']) - np.mean(df_stop['lrr1']))\n",
    "    df['lrr2_norm'] = (df.lrr2 - np.mean(df_stop['lrr2'])) / (np.mean(df_wt['lrr2']) - np.mean(df_stop['lrr2']))\n",
    "norm_lrr(df_10pos_rc3)\n",
    "df_10pos_rc3.to_csv(din+'df_at_10pos.csv')"
   ]
  },
  {
   "cell_type": "code",
   "execution_count": null,
   "id": "35dddba7-7563-4db1-92e3-1d610b8a1395",
   "metadata": {},
   "outputs": [],
   "source": []
  }
 ],
 "metadata": {
  "kernelspec": {
   "display_name": "Python (dd_tf2_mamba)",
   "language": "python",
   "name": "dd_tf2_mamba"
  },
  "language_info": {
   "codemirror_mode": {
    "name": "ipython",
    "version": 3
   },
   "file_extension": ".py",
   "mimetype": "text/x-python",
   "name": "python",
   "nbconvert_exporter": "python",
   "pygments_lexer": "ipython3",
   "version": "3.10.5"
  }
 },
 "nbformat": 4,
 "nbformat_minor": 5
}
