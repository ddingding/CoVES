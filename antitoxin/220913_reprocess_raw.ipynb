{
 "cells": [
  {
   "cell_type": "code",
   "execution_count": 13,
   "id": "fdcecbe4-96f9-4dac-b769-1b3db8bd96c6",
   "metadata": {},
   "outputs": [],
   "source": [
    "#\n",
    "import pandas as pd\n",
    "import numpy as np\n",
    "import matplotlib.pyplot as plt\n",
    "from myTools import get_read_cut_data"
   ]
  },
  {
   "cell_type": "code",
   "execution_count": 5,
   "id": "b0f7df7d-70ce-4b16-b8d8-b19e77582eca",
   "metadata": {},
   "outputs": [],
   "source": [
    "# reading in raw data\n",
    "df_700 = pd.read_csv('/n/groups/marks/users/david/github/pareSingleLibrary2/codebase/pairedEnd/ex62_gvp/raw_data/700.csv', index_col = 0)\n",
    "df_704 = pd.read_csv('/n/groups/marks/users/david/github/pareSingleLibrary2/codebase/pairedEnd/ex62_gvp/raw_data/704.csv', index_col = 0)\n",
    "df_10x = pd.read_csv('/n/groups/marks/users/david/github/pareSingleLibrary2/codebase/pairedEnd/ex62_gvp/raw_data/10x.csv', index_col = 0)\n",
    "\n",
    "\n",
    "def get_pos(muts):\n",
    "    #take a mutstr like I33S:L47K:D51S:I52L:R54S:L55E, and return list of positions\n",
    "    if muts == 'wtAT':\n",
    "        return [0]\n",
    "    else:\n",
    "        mut_pos = [int(k[1:-1]) for k in muts.split(':')]\n",
    "        return mut_pos\n",
    "\n",
    "def all_muts_in_exp(poss, expPoss):\n",
    "    # check whether all positions in first list are found in the second list\n",
    "    all_exp = True\n",
    "    for p in poss:\n",
    "        if p not in expPoss+[0]: # 0 codes for wtat\n",
    "            all_exp = False\n",
    "    return all_exp\n",
    "\n",
    "\n",
    "# M1\n",
    "# 700: 48, 52, 53, 55,56\n",
    "# 704: 74, 78, 80, 81, 82\n",
    "\n",
    "exp_pos_700 = [47,51,52,54,55]\n",
    "exp_pos_704 = [73, 77, 79, 80, 81]\n",
    "exp_pos_10x = exp_pos_700 + exp_pos_704\n",
    "df_700['pos_exp'] = df_700.apply(lambda r: all_muts_in_exp(get_pos(r.name), exp_pos_700), axis=1)\n",
    "df_704['pos_exp'] = df_704.apply(lambda r: all_muts_in_exp(get_pos(r.name), exp_pos_704), axis=1)\n",
    "df_10x['pos_exp'] = df_10x.apply(lambda r: all_muts_in_exp(get_pos(r.name), exp_pos_10x), axis=1)\n",
    "\n",
    "\n",
    "df_700_exp= df_700[df_700.pos_exp==True].dropna()\n",
    "df_704_exp= df_704[df_704.pos_exp==True].dropna()\n",
    "df_10x_exp= df_10x[df_10x.pos_exp==True].dropna()\n",
    "\n",
    "\n",
    "# create the full length mutt_str\n",
    "#700: L48, D52, I53, R55,L56\n",
    "wt_muts_700 = 'L47L:D51D:I52I:R54R:L55L'\n",
    "\n",
    "# 704: F74, R78, E80, A81, R82\n",
    "wt_muts_704 = 'F73F:R77R:E79E:A80A:R81R'\n",
    "\n",
    "wt_muts_10x = wt_muts_700 +':' + wt_muts_704\n",
    "\n",
    "def make_full_mutstr(muts, wt_muts):\n",
    "    # to go from L47G to the full mutstr for all mutated positions\n",
    "    if muts == 'wtAT':\n",
    "        return wt_muts\n",
    "    else:\n",
    "        curr_mut_list = muts.split(':')\n",
    "        curr_mut_pos_to_mut = dict(zip([m[:-1] for m in curr_mut_list], curr_mut_list))\n",
    "        new_mut_list = []\n",
    "\n",
    "        for wt_mut in wt_muts.split(':'):\n",
    "            if wt_mut[:-1] not in curr_mut_pos_to_mut:\n",
    "                new_mut_list.append(wt_mut)\n",
    "            else:\n",
    "                new_mut_list.append(curr_mut_pos_to_mut[wt_mut[:-1]])\n",
    "        return ':'.join(new_mut_list)\n",
    "\n",
    "\n",
    "df_700_exp['muts'] = df_700_exp.apply(lambda r: make_full_mutstr(r.name, wt_muts_700), axis=1)\n",
    "df_704_exp['muts'] = df_704_exp.apply(lambda r: make_full_mutstr(r.name, wt_muts_704), axis=1)\n",
    "df_10x_exp['muts'] = df_10x_exp.apply(lambda r: make_full_mutstr(r.name, wt_muts_10x), axis=1)\n",
    "\n",
    "# create them all together\n",
    "df_all_exp = pd.concat([df_700_exp, df_704_exp, df_10x_exp], axis=0)\n",
    "df_all_exp['muts'] = df_all_exp.apply(lambda r: make_full_mutstr(r.name, wt_muts_10x), axis=1)\n",
    "df_all_exp\n",
    "\n",
    "# create just 10x and 704 together\n",
    "\n",
    "df_704_10x_exp = pd.concat([df_704_exp, df_10x_exp], axis=0)\n",
    "df_704_10x_exp['muts'] = df_704_10x_exp.apply(lambda r: make_full_mutstr(r.name, wt_muts_10x), axis=1)\n",
    "\n",
    "# say whether stop or not, wt or not\n",
    "df_700_exp['stop'] = df_700_exp.apply(lambda r: '_' in r.muts, axis=1)\n",
    "df_704_exp['stop'] = df_704_exp.apply(lambda r: '_' in r.muts, axis=1)\n",
    "df_10x_exp['stop'] = df_10x_exp.apply(lambda r: '_' in r.muts, axis=1)\n",
    "df_all_exp['stop'] = df_all_exp.apply(lambda r: '_' in r.muts, axis=1)\n",
    "df_704_10x_exp['stop'] = df_704_10x_exp.apply(lambda r: '_' in r.muts, axis=1)\n",
    "\n",
    "df_700_exp['wt'] = df_700_exp.apply(lambda r:  r.muts == wt_muts_700, axis=1)\n",
    "df_704_exp['wt'] = df_704_exp.apply(lambda r: r.muts == wt_muts_704, axis=1)\n",
    "df_10x_exp['wt'] = df_10x_exp.apply(lambda r: r.muts == wt_muts_10x, axis=1)\n",
    "df_all_exp['wt'] = df_all_exp.apply(lambda r: r.muts == wt_muts_10x, axis=1)\n",
    "df_704_10x_exp['wt'] = df_704_10x_exp.apply(lambda r: r.muts == wt_muts_10x, axis=1)\n",
    "\n",
    "\n",
    "# normalize to between 0 and 1\n",
    "def norm_lrr(df):\n",
    "    df['mean_lrr'] = (df['lrr1'] + df['lrr2'])/2\n",
    "\n",
    "    df_stop = df[df.stop == True]\n",
    "    df_wt = df[df.wt == True]\n",
    "\n",
    "    mean_lrr_stop = np.mean(df_stop.mean_lrr)\n",
    "    mean_lrr_wt = np.mean(df_wt.mean_lrr)\n",
    "\n",
    "    df['mean_lrr_norm'] = (df.mean_lrr - mean_lrr_stop) / (mean_lrr_wt - mean_lrr_stop)\n",
    "\n",
    "    df['lrr1_norm'] = (df.lrr1 - np.mean(df_stop['lrr1'])) / (np.mean(df_wt['lrr1']) - np.mean(df_stop['lrr1']))\n",
    "    df['lrr2_norm'] = (df.lrr2 - np.mean(df_stop['lrr2'])) / (np.mean(df_wt['lrr2']) - np.mean(df_stop['lrr2']))\n",
    "\n",
    "norm_lrr(df_700_exp)\n",
    "norm_lrr(df_704_exp)\n",
    "norm_lrr(df_10x_exp)\n",
    "norm_lrr(df_all_exp)\n",
    "norm_lrr(df_704_10x_exp)"
   ]
  },
  {
   "cell_type": "code",
   "execution_count": 16,
   "id": "1353e8fd-43f0-4f01-8d6a-ded60c896e04",
   "metadata": {},
   "outputs": [
    {
     "name": "stderr",
     "output_type": "stream",
     "text": [
      "/tmp/ipykernel_4185/3013101328.py:96: SettingWithCopyWarning: \n",
      "A value is trying to be set on a copy of a slice from a DataFrame.\n",
      "Try using .loc[row_indexer,col_indexer] = value instead\n",
      "\n",
      "See the caveats in the documentation: https://pandas.pydata.org/pandas-docs/stable/user_guide/indexing.html#returning-a-view-versus-a-copy\n",
      "  df['mean_lrr'] = (df['lrr1'] + df['lrr2'])/2\n",
      "/tmp/ipykernel_4185/3013101328.py:104: SettingWithCopyWarning: \n",
      "A value is trying to be set on a copy of a slice from a DataFrame.\n",
      "Try using .loc[row_indexer,col_indexer] = value instead\n",
      "\n",
      "See the caveats in the documentation: https://pandas.pydata.org/pandas-docs/stable/user_guide/indexing.html#returning-a-view-versus-a-copy\n",
      "  df['mean_lrr_norm'] = (df.mean_lrr - mean_lrr_stop) / (mean_lrr_wt - mean_lrr_stop)\n",
      "/tmp/ipykernel_4185/3013101328.py:106: SettingWithCopyWarning: \n",
      "A value is trying to be set on a copy of a slice from a DataFrame.\n",
      "Try using .loc[row_indexer,col_indexer] = value instead\n",
      "\n",
      "See the caveats in the documentation: https://pandas.pydata.org/pandas-docs/stable/user_guide/indexing.html#returning-a-view-versus-a-copy\n",
      "  df['lrr1_norm'] = (df.lrr1 - np.mean(df_stop['lrr1'])) / (np.mean(df_wt['lrr1']) - np.mean(df_stop['lrr1']))\n",
      "/tmp/ipykernel_4185/3013101328.py:107: SettingWithCopyWarning: \n",
      "A value is trying to be set on a copy of a slice from a DataFrame.\n",
      "Try using .loc[row_indexer,col_indexer] = value instead\n",
      "\n",
      "See the caveats in the documentation: https://pandas.pydata.org/pandas-docs/stable/user_guide/indexing.html#returning-a-view-versus-a-copy\n",
      "  df['lrr2_norm'] = (df.lrr2 - np.mean(df_stop['lrr2'])) / (np.mean(df_wt['lrr2']) - np.mean(df_stop['lrr2']))\n"
     ]
    }
   ],
   "source": [
    "df= df_704_10x_exp\n",
    "read_cut=3\n",
    "df_read = df[(df.pre1>read_cut) &(df.pre2 > read_cut) & (df.post1>read_cut) &(df.post2 > read_cut)]\n",
    "len(df_read)\n",
    "norm_lrr(df_read)"
   ]
  },
  {
   "cell_type": "code",
   "execution_count": 17,
   "id": "987cb0ba-5900-419f-aa37-83179c38fb84",
   "metadata": {},
   "outputs": [
    {
     "data": {
      "image/png": "[encoded data removed]",
      "text/plain": [
       "<Figure size 640x480 with 1 Axes>"
      ]
     },
     "metadata": {},
     "output_type": "display_data"
    }
   ],
   "source": [
    "plt.figure()\n",
    "plt.hist(df_read.loc[df_read.hamming == 0].mean_lrr_norm, alpha=0.5,density=True)\n",
    "plt.hist(df_read.loc[df_read.stop == True].mean_lrr_norm, alpha=0.5, density=True)\n",
    "plt.hist(df_read.mean_lrr_norm, density=True, alpha=0.5)\n",
    "plt.show()\n",
    "\n",
    "df_read'/n/groups/marks/users/david/ex62/data/df_704_10x_rc3_col_processed.csv'"
   ]
  },
  {
   "cell_type": "code",
   "execution_count": 11,
   "id": "c3b9a3ea-d7d3-4932-ad98-a7007c0a9638",
   "metadata": {},
   "outputs": [
    {
     "data": {
      "image/png": "[encoded data removed]",
      "text/plain": [
       "<Figure size 640x480 with 1 Axes>"
      ]
     },
     "metadata": {},
     "output_type": "display_data"
    },
    {
     "data": {
      "image/png": "[encoded data removed]",
      "text/plain": [
       "<Figure size 640x480 with 1 Axes>"
      ]
     },
     "metadata": {},
     "output_type": "display_data"
    }
   ],
   "source": [
    "# normalized on total variants without read cutoff\n",
    "df_704_10x_exp\n",
    "df_704_10x_exp['hamming'] = df_704_10x_exp.apply(\n",
    "                                        lambda r: int(np.sum([mut[0]!= mut[-1] for mut in r.muts.split(':')])), \n",
    "    axis=1)\n",
    "plt.figure()\n",
    "plt.hist(df_704_10x_exp.loc[df_704_10x_exp.hamming == 0].mean_lrr, alpha=0.5,density=True)\n",
    "plt.hist(df_704_10x_exp.loc[df_704_10x_exp.stop == True].mean_lrr, alpha=0.5, density=True)\n",
    "plt.hist(df_704_10x_exp.mean_lrr, density=True, alpha=0.5)\n",
    "plt.show()\n",
    "\n",
    "plt.figure()\n",
    "plt.hist(df_704_10x_exp.loc[df_704_10x_exp.hamming == 0].mean_lrr_norm, alpha=0.5,density=True)\n",
    "plt.hist(df_704_10x_exp.loc[df_704_10x_exp.stop == True].mean_lrr_norm, alpha=0.5, density=True)\n",
    "plt.hist(df_704_10x_exp.mean_lrr_norm, density=True, alpha=0.5)\n",
    "plt.show()"
   ]
  },
  {
   "cell_type": "code",
   "execution_count": null,
   "id": "9083794b-2586-4170-802c-2cac7e2d90c1",
   "metadata": {},
   "outputs": [],
   "source": []
  }
 ],
 "metadata": {
  "kernelspec": {
   "display_name": "Python (dd_tf2_mamba)",
   "language": "python",
   "name": "dd_tf2_mamba"
  },
  "language_info": {
   "codemirror_mode": {
    "name": "ipython",
    "version": 3
   },
   "file_extension": ".py",
   "mimetype": "text/x-python",
   "name": "python",
   "nbconvert_exporter": "python",
   "pygments_lexer": "ipython3",
   "version": "3.10.5"
  }
 },
 "nbformat": 4,
 "nbformat_minor": 5
}
